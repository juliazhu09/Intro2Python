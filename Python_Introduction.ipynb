{
  "nbformat": 4,
  "nbformat_minor": 0,
  "metadata": {
    "colab": {
      "provenance": [],
      "authorship_tag": "ABX9TyOMfO87E4vpam9/Zt+2Wt7/",
      "include_colab_link": true
    },
    "kernelspec": {
      "name": "python3",
      "display_name": "Python 3"
    },
    "language_info": {
      "name": "python"
    }
  },
  "cells": [
    {
      "cell_type": "markdown",
      "metadata": {
        "id": "view-in-github",
        "colab_type": "text"
      },
      "source": [
        "<a href=\"https://colab.research.google.com/github/juliazhu09/Intro2Python/blob/master/Python_Introduction.ipynb\" target=\"_parent\"><img src=\"https://colab.research.google.com/assets/colab-badge.svg\" alt=\"Open In Colab\"/></a>"
      ]
    },
    {
      "cell_type": "markdown",
      "source": [
        "# Python: Introduction\n",
        "\n",
        "### Xiaojuan Zhu\n",
        "### OIT Research Computing Support\n",
        "### Help Desk: 865-974-9900 "
      ],
      "metadata": {
        "id": "X6lz5nHQZ3SL"
      }
    },
    {
      "cell_type": "markdown",
      "source": [
        "## Research Support\n",
        "\n",
        "Offers up to 15 free hours of research assistance each semester to most students, faculty, and staff. Includes assistance with:\n",
        "* SAS, SPSS, R, MATLAB, QDA Miner…\n",
        "* Research Planning, design, sample size…\n",
        "* Data entry, management, file conversions\n",
        "* Statistics, mathematics, data mining\n",
        "* Qualitative analysis and text analytics\n",
        "* Web survey design and deployment (Qualtrics)\n",
        "* Optical mark scanning and scoring\n",
        "\n",
        "See web page http://oit.utk.edu/research for details\n",
        "\n",
        "**If you want to get statstical help, you can make an appointment with us by call the help desk, 865-974-9900.**"
      ],
      "metadata": {
        "id": "LdItTS6AFga6"
      }
    },
    {
      "cell_type": "markdown",
      "source": [
        "![image](https://drive.google.com/uc?id=18TgIQW2UDPFEp-7Q0U3iwEis01urfRLH&authuser=xzhu8%40vols.utk.edu&usp=drive_fs)"
      ],
      "metadata": {
        "id": "8Ea5mmF8KxJt"
      }
    },
    {
      "cell_type": "markdown",
      "source": [
        "# What is python?\n",
        "\n",
        "https://www.youtube.com/watch?v=Y8Tko2YC5hA\n",
        "\n"
      ],
      "metadata": {
        "id": "zuXKM5LYLAMR"
      }
    },
    {
      "cell_type": "code",
      "source": [],
      "metadata": {
        "id": "x7k_WfzFLiEl"
      },
      "execution_count": null,
      "outputs": []
    },
    {
      "cell_type": "markdown",
      "source": [
        "### ---Install Add-on Pacakges---\n",
        "\n",
        "A Python package refers to a directory of Python\n",
        "module(s). A module in python is a .py file that\n",
        "defines one or more function/classes which you\n",
        "intend to reuse in different codes of your program.\n",
        "Use PIP to install a package either in a command prompt\n",
        "window or in Anaconda.\n",
        "\n",
        "To use them, we import them. Submodeles/functions can be stored\n",
        "in packages, and accessed with dot syntax.\n",
        "\n",
        "Some packages, such as sys and os, have already been installed\n",
        "in python, you do not need to install it again. We can import\n",
        "it directly.\n",
        "\n",
        "Official Python description of modules and importing them:\n",
        "https://docs.python.org/2/tutorial/modules.html\n",
        "\n",
        "\n"
      ],
      "metadata": {
        "id": "Wm74TDjJcSBv"
      }
    },
    {
      "cell_type": "code",
      "source": [
        "import sys\n",
        "print(sys.executable)"
      ],
      "metadata": {
        "id": "oviB750JaMhi"
      },
      "execution_count": null,
      "outputs": []
    },
    {
      "cell_type": "markdown",
      "source": [
        "#### **Install a package using Anaconda Prompt**\n",
        "``` conda install pacakagename ```\n",
        "\n",
        "For example:\n",
        "\n",
        "``` conda install seaborn ```\n",
        "\n",
        "#### **Install a package using windows CMD**\n",
        "\n",
        "``` pip install pacakagename```\n",
        "\n",
        "For example:\n",
        "\n",
        "``` pip install seaborn ```\n",
        "\n",
        "For details, please see the youtube vedio here, https://www.youtube.com/watch?v=Z_Kxg-EYvxM&t=4s.\n",
        "\n",
        "#### **Install a package at google colab**\n",
        "```!pip install a package```\n",
        "\n",
        "Colab environment comes with a number of pre-installed scientific and machine learning packages such as **numpy, scipy, pandas, tensorflow, and pytorch.**\n",
        "\n",
        "We can check the installed python packages at Colab using ```pip freeze```"
      ],
      "metadata": {
        "id": "PnkzGxLXc_Tg"
      }
    },
    {
      "cell_type": "code",
      "source": [
        "!pip install seaborn\n"
      ],
      "metadata": {
        "id": "EsFouUlGgLuk"
      },
      "execution_count": null,
      "outputs": []
    },
    {
      "cell_type": "markdown",
      "source": [
        "You only install a package once on your machine (not Colab), but you need to import it from the package\n",
        "each time when you start python.\n",
        "\n",
        "I do it repeatedly in this workshop to\n",
        "emphasize that a package is being used."
      ],
      "metadata": {
        "id": "T-EN5e3kiEPi"
      }
    },
    {
      "cell_type": "code",
      "source": [
        "import os\n",
        "import sys\n",
        "import pandas as pd\n"
      ],
      "metadata": {
        "id": "uwzj77lrgwPP"
      },
      "execution_count": null,
      "outputs": []
    },
    {
      "cell_type": "markdown",
      "source": [
        "###---Documenting Your Program---\n",
        "\n",
        "Comments go from \"#\" to the end of the line\n"
      ],
      "metadata": {
        "id": "F-KUpp9vippO"
      }
    },
    {
      "cell_type": "code",
      "source": [
        "# here are the comments.\n"
      ],
      "metadata": {
        "id": "O9d6MSS6ChRE"
      },
      "execution_count": null,
      "outputs": []
    },
    {
      "cell_type": "markdown",
      "source": [
        "### ---ASSIGNMENT OPERATOR---\n",
        "\n",
        "When creating objects, you give them\n",
        "values using the assignment operator\n",
        " \"=\" as here:\n",
        "x = 1"
      ],
      "metadata": {
        "id": "sy5svkZijC92"
      }
    },
    {
      "cell_type": "code",
      "source": [
        "x = 1\n",
        "x"
      ],
      "metadata": {
        "id": "zfd6tpX6iBJT"
      },
      "execution_count": null,
      "outputs": []
    },
    {
      "cell_type": "markdown",
      "source": [
        "### ---OBJECTS & THEIR NAMES---\n",
        "\n",
        "Python is object oriented\n",
        "\n",
        "Everything: data, functions (procedures), models,\n",
        "etc. are objects, with its properties/attributes\n",
        "and methods(like functions).\n",
        "\n",
        "The object names should begin with a letter\n",
        "and can contain letters, numbers,\n",
        "underscores.\n",
        "\n",
        "But cannot have space or period.\n",
        "\n",
        "Case matters, e.g. **myvar** is not **MyVar**\n",
        "\n",
        "### ---OBJECT ATTRIBUTES AND METHODS---\n",
        "\n",
        "To access a variable/attraibute or a method, use dot syntax.\n",
        "\n",
        "Here I use pandas to create mydata as a dataframe object. "
      ],
      "metadata": {
        "id": "n9NGMXHNjq58"
      }
    },
    {
      "cell_type": "code",
      "source": [
        "import pandas as pd\n",
        "mydata = pd.DataFrame(data={'id': [1, 2, 3, 4, 5, 6, 7, 8],\n",
        "                'workshop': [1, 2, 1, 2, 1, 2, 1, 2],\n",
        "                'gender' : ['f', 'f', 'f', ''  ,'m', 'm', 'm', 'm',]})\n",
        "mydata\n"
      ],
      "metadata": {
        "id": "FXlNdUbJkAMI"
      },
      "execution_count": null,
      "outputs": []
    },
    {
      "cell_type": "code",
      "source": [
        "# access an attribute or variable from mydata\n",
        "mydata.workshop"
      ],
      "metadata": {
        "id": "lp-_MbaykP5i"
      },
      "execution_count": null,
      "outputs": []
    },
    {
      "cell_type": "code",
      "source": [
        "# For example, mean() is a method of a dataframe\n",
        "mydata.mean()"
      ],
      "metadata": {
        "id": "HMFg8qK2kUrl"
      },
      "execution_count": null,
      "outputs": []
    },
    {
      "cell_type": "code",
      "source": [
        "# list all the attributes and methods of mydata.\n",
        "dir(mydata)"
      ],
      "metadata": {
        "id": "a5ZMGpJPkazq"
      },
      "execution_count": null,
      "outputs": []
    },
    {
      "cell_type": "code",
      "source": [],
      "metadata": {
        "id": "y_Tq2nL8kdTr"
      },
      "execution_count": null,
      "outputs": []
    },
    {
      "cell_type": "markdown",
      "source": [
        "###---PYTHON VARIABLES---\n",
        " \n",
        "Python's variable Types:\n",
        "\n",
        "Number (int, long, float, Complex)\n",
        "\n",
        "String\n",
        "\n",
        "Boolean: True or False\n",
        "\n",
        "List\n",
        "\n",
        "Tuple\n",
        "\n",
        "Dictionary\n",
        "\n",
        "We focus on list today. For details, see \n",
        "https://www.tutorialspoint.com/python/python_variable_types.htm\n",
        "Example."
      ],
      "metadata": {
        "id": "znO3hC2ckhOJ"
      }
    },
    {
      "cell_type": "code",
      "source": [
        "x =  1\n",
        "type(x)\n"
      ],
      "metadata": {
        "id": "Ml-L5xMIk1IQ"
      },
      "execution_count": null,
      "outputs": []
    },
    {
      "cell_type": "code",
      "source": [
        "y = 1.2\n",
        "print(type(y))"
      ],
      "metadata": {
        "id": "Y0UbEMeeleyA"
      },
      "execution_count": null,
      "outputs": []
    },
    {
      "cell_type": "code",
      "source": [
        "a = \"string\"\n",
        "print(type(a))"
      ],
      "metadata": {
        "id": "usxRAwhkliDY"
      },
      "execution_count": null,
      "outputs": []
    },
    {
      "cell_type": "markdown",
      "source": [
        "#### exercise 1 \n",
        "Write a program that assigns three variables, one of each types: string, int,\n",
        "and float. Variable names and values can be arbitrary. \n",
        "Print each variable out to the screen."
      ],
      "metadata": {
        "id": "6aIKz_IKlmE3"
      }
    },
    {
      "cell_type": "code",
      "source": [
        " "
      ],
      "metadata": {
        "id": "_SFF-x7HltFb"
      },
      "execution_count": null,
      "outputs": []
    },
    {
      "cell_type": "markdown",
      "source": [
        "**Create a list**\n",
        "\n",
        "A list contains items separated by commas and enclosed within square brackets ([ ])."
      ],
      "metadata": {
        "id": "69nzUpmflvZ4"
      }
    },
    {
      "cell_type": "code",
      "source": [
        "id = [1, 2, 3, 4, 5, 6, 7, 8]\n",
        "# Note: first item's index is 0 not 1.\n",
        "# Show the first item of id.\n",
        "id[0]\n",
        "\n"
      ],
      "metadata": {
        "id": "GZQ7M_wFl7SZ"
      },
      "execution_count": null,
      "outputs": []
    },
    {
      "cell_type": "code",
      "source": [
        "id[7]"
      ],
      "metadata": {
        "id": "8jerkjD9mENy"
      },
      "execution_count": null,
      "outputs": []
    },
    {
      "cell_type": "code",
      "source": [
        "# Items can be mixed types in a list.\n",
        "mixlist = [\"a\", 1]\n",
        "print(mixlist)"
      ],
      "metadata": {
        "id": "YNZUx4c6mCHx"
      },
      "execution_count": null,
      "outputs": []
    },
    {
      "cell_type": "markdown",
      "source": [
        "#### exercise 2##\n",
        "\n",
        "The top five highest mountain peaks on Earth, according to Wikipedia, are as follows:\n",
        "\n",
        "1) Mount Everest / Sagarmatha / Chomolungma 8,848 m\n",
        "\n",
        "2) K2 / Qogir / Godwin Austen 8,611 m\n",
        "\n",
        "3) Kangchenjunga             8,586 m\n",
        "\n",
        "4) Lhotse                    8,516 m\n",
        "\n",
        "5) Makalu                    8,485 m\n",
        "\n",
        "Use five mountain names, but store them as only names in a list (you \n",
        "can use one name of your choice for those with multiple names). \n",
        "Then, print to the screen the name of Kangchenjunga by referencing \n",
        "its index position in the list.\n",
        "\n",
        "Hint ```Mtn = [\"K2\",  \"Kangchenjunga\" ]```"
      ],
      "metadata": {
        "id": "yThMw-Sgm3en"
      }
    },
    {
      "cell_type": "code",
      "source": [],
      "metadata": {
        "id": "yN96W2jCnWHt"
      },
      "execution_count": null,
      "outputs": []
    },
    {
      "cell_type": "markdown",
      "source": [
        "**Tuples**: Like lists, contains several items enclosed within parenthesis.\n",
        "But it is immutable, and usually used for smaller sequences\n",
        "of things that are related to each other.\n",
        "Think of Cartesian coordinates:(x, y, z)\n",
        "The differences between tuples and lists are, the tuples cannot be changed\n",
        "unlike lists, tuples use parentheses, whereas lists use square brackets."
      ],
      "metadata": {
        "id": "ccMJ0twOnXl6"
      }
    },
    {
      "cell_type": "code",
      "source": [
        "aTuple = (\"foo\", \"bar\")\n",
        "len(aTuple)"
      ],
      "metadata": {
        "id": "bEvTQjQvns9A"
      },
      "execution_count": null,
      "outputs": []
    },
    {
      "cell_type": "code",
      "source": [
        "# Following action is not valid for tuples\n",
        "# aTuple[0] = 100\n",
        "aTuple[0] = 100"
      ],
      "metadata": {
        "id": "pjPqUKZwntzo"
      },
      "execution_count": null,
      "outputs": []
    },
    {
      "cell_type": "code",
      "source": [
        "# list can be changed.\n",
        "alist = [\"foo\", \"bar\"]\n",
        "alist[0] = 100\n",
        "\n",
        "print(alist)"
      ],
      "metadata": {
        "id": "_3TIIyIunwIX"
      },
      "execution_count": null,
      "outputs": []
    },
    {
      "cell_type": "markdown",
      "source": [
        "#### exercise 3\n",
        "\n",
        "create a tuple use Kangchenjunga's name and height and then query the height of the Kanchenjunga.\n",
        "\n",
        "hint: ``` mtn = (\"K2\", 8611)```"
      ],
      "metadata": {
        "id": "iTvObh5Jn0m7"
      }
    },
    {
      "cell_type": "markdown",
      "source": [
        "**Dicitonairy**: A collection of variables indexed by other, \"key\" variables. Instead of using numeric or default index in python, if you want to create your own index, you need to use dictionary.\n",
        "\n",
        "**Curly Braces {}** are used in Python to define a dictionary ."
      ],
      "metadata": {
        "id": "ck6rpD6-oC-m"
      }
    },
    {
      "cell_type": "code",
      "source": [
        "aDict = {}\n",
        "aDict[\"a\"] = 364936\n",
        "aDict[\"b\"] = 12.4\n",
        "aDict[7] = \"hi\""
      ],
      "metadata": {
        "id": "zUI14zcEoCVN"
      },
      "execution_count": null,
      "outputs": []
    },
    {
      "cell_type": "code",
      "source": [
        "print(aDict)\n"
      ],
      "metadata": {
        "id": "LwivreVzoYYy"
      },
      "execution_count": null,
      "outputs": []
    },
    {
      "cell_type": "code",
      "source": [
        "aDict[\"a\"]\n"
      ],
      "metadata": {
        "id": "kW248GOCoc0z"
      },
      "execution_count": null,
      "outputs": []
    },
    {
      "cell_type": "code",
      "source": [
        "aDict[\"b\"]\n"
      ],
      "metadata": {
        "id": "bGcoVYcloh8S"
      },
      "execution_count": null,
      "outputs": []
    },
    {
      "cell_type": "code",
      "source": [
        "aDict[7]"
      ],
      "metadata": {
        "id": "RE9xhp14NhJ2"
      },
      "execution_count": null,
      "outputs": []
    },
    {
      "cell_type": "markdown",
      "source": [
        "#### exercise 4\n",
        "Mary’s favorite candy is chocolate, Rodrigo’s favorite is bubble gum, and\n",
        "Larry’s is gummy bears. Write a dictionary that stores, for each person, \n",
        "their favorite candy. Then, pick a person among the three, and, using the \n",
        "dictionary keys you defined, print to the screen a statement something to \n",
        "the effect of “Mary’s candy of choice is chocolate.” \n",
        "\n",
        "Make sure that your print() statement is a concatenation of some text and the result of querying your dictionary for that person’s favorite candy. \n",
        "\n",
        "Hint: \n",
        "```python\n",
        "aDict = {\"Mary\": \"Chocolate\"}\n",
        "print(\"Mary's candy of chocie is \" + aDict[\"Mary\"])\n",
        "```"
      ],
      "metadata": {
        "id": "3rXmV-F-oj1a"
      }
    },
    {
      "cell_type": "code",
      "source": [],
      "metadata": {
        "id": "6yVqI-hNpAFg"
      },
      "execution_count": null,
      "outputs": []
    },
    {
      "cell_type": "markdown",
      "source": [
        "**Keywords**: reserved words in python.\n",
        "Cannot be used as a variable name."
      ],
      "metadata": {
        "id": "ATBGiRu0pEMb"
      }
    },
    {
      "cell_type": "code",
      "source": [
        "import keyword\n",
        "print(keyword.kwlist)"
      ],
      "metadata": {
        "id": "TmdHLnsOpBkm"
      },
      "execution_count": null,
      "outputs": []
    },
    {
      "cell_type": "markdown",
      "source": [
        "### ---PYTHON FUNCTIONS---\n",
        "\n",
        "As you already know, Python gives you many built-in\n",
        "functions e.g. print(), dir( ), type( )\n",
        "\n",
        "When you use a function, you \"call\" its name.\n",
        "\n",
        "print( ) is the default function\n",
        "  so this function call:  print(q1)"
      ],
      "metadata": {
        "id": "o4aJAifipUl6"
      }
    },
    {
      "cell_type": "code",
      "source": [
        "print(\"hello world\")"
      ],
      "metadata": {
        "id": "n81TlWExppbM"
      },
      "execution_count": null,
      "outputs": []
    },
    {
      "cell_type": "markdown",
      "source": [
        "### ---USER-DEFINED FUNCTIONS---\n",
        "\n",
        "A function statement starts with the def keyword, followed by\n",
        "the function name, parameters and keywords and end with a colon\":\".\n",
        "\n",
        "Parameters/keywords in a function are called \"arguments\". Arguments are enclosed within parentheses\n",
        "and separated by commas. \n",
        "\n",
        "In python, user-defined functions can take four\n",
        "different types of arguments. The argument types\n",
        "and their meanings, however, are pre-defined and\n",
        "can’t be changed. \n",
        "\n",
        "A function use indentation to define the content of the function.\n",
        "The content indents four spaces.\n",
        "\n",
        "Use **Tab** key as the shortcut\n",
        "\n",
        "The colon is used to declare the start of an indented block.\n",
        "\n",
        "When we need to use indentation:\n",
        "\n",
        "    if/else statement\n",
        "\n",
        "    for/while statement\n",
        "\n",
        "    def statement\n",
        "\n",
        "    class statement\n"
      ],
      "metadata": {
        "id": "rC6cLH3FsEQt"
      }
    },
    {
      "cell_type": "code",
      "source": [
        "# example:\n",
        "def my_function():\n",
        "  print(\"Hello from a function\")\n",
        "# Calling a function\n",
        "# To call a function, use the function name followed by parenthesis:\n",
        "my_function()"
      ],
      "metadata": {
        "id": "7tKOBUf4sv0n"
      },
      "execution_count": null,
      "outputs": []
    },
    {
      "cell_type": "code",
      "source": [
        "# example:\n",
        "def my_function_with_args(username, greeting):\n",
        "    print(\"Hello \"+ username + \" From My Function!, I wish you \" + greeting + \"!\")"
      ],
      "metadata": {
        "id": "UCDjCliTsykC"
      },
      "execution_count": null,
      "outputs": []
    },
    {
      "cell_type": "code",
      "source": [
        "#prints - \"Hello, Julia, From My Function!, I wish you a great year!\"\n",
        "my_function_with_args(\"Mary\", \"a great year\")"
      ],
      "metadata": {
        "id": "-VVGEfUSs08X"
      },
      "execution_count": null,
      "outputs": []
    },
    {
      "cell_type": "markdown",
      "source": [
        "###---FUNCTION OUTPUT---\n",
        "\n",
        "Returning a value from a function, Not only can\n",
        "you pass a parameter value into a function, a function\n",
        "can also produce a value, i.e., Output.\n",
        "\n",
        "For example,"
      ],
      "metadata": {
        "id": "q0RkWT3xs358"
      }
    },
    {
      "cell_type": "code",
      "source": [
        "len(aDict)"
      ],
      "metadata": {
        "id": "CdrSSMR5s_YU"
      },
      "execution_count": null,
      "outputs": []
    },
    {
      "cell_type": "markdown",
      "source": [
        "That value is a single object that may contain\n",
        "much information (e.g. data frame, list)"
      ],
      "metadata": {
        "id": "AqtghbqDtRBc"
      }
    },
    {
      "cell_type": "code",
      "source": [
        "#  Example\n",
        "def square(x):\n",
        "    y = x * x\n",
        "    return y\n",
        "\n",
        "result = square(10)\n",
        "print(result)\n",
        "# Note: Cannot use print to return a value"
      ],
      "metadata": {
        "id": "G-rbQqHptXGp"
      },
      "execution_count": null,
      "outputs": []
    },
    {
      "cell_type": "markdown",
      "source": [
        "#### exercies 5\n",
        "\n",
        "write a function that will return a person's BMI, where height and weight are two variable names passed to the function as the argument. \n",
        "\n",
        "Then call your function to compute a person's BMI with heigh of 1.6m and weight of 75kg. \n",
        "\n",
        "Hint: \n",
        " ```python\n",
        "       def BMI(weight, height): \n",
        "           aBMI = weight / (height * height)\n",
        "```\n",
        "\n",
        "Formula: weight (kg) / [height (cm)]^2 \n",
        "\n",
        "Formula: weight (lb) / [height (in)]^2 x 703"
      ],
      "metadata": {
        "id": "Id_nu9WBtcL4"
      }
    },
    {
      "cell_type": "markdown",
      "source": [
        "###---CONDITIONAL STATEMENTS---\n",
        "\n",
        "In the real world, we commonly must evaluate information\n",
        "around us and then choose one course of action or another\n",
        "based on what we observed: \n",
        "\n",
        "For example,\n",
        "\n",
        "    \"If the weather is nice, then I’ll mow the lawn.\n",
        "\n",
        "     Otherwise, I won’t mow.\"\n",
        "\n",
        "   * if/else-statement\n",
        "\n",
        "   * if/elif/else-statement\n",
        "\n",
        "\n",
        "Blocks of code under if statements are executed as long\n",
        "as the stated condition is true."
      ],
      "metadata": {
        "id": "sHENNLbluq5t"
      }
    },
    {
      "cell_type": "code",
      "source": [
        "# Here is an if/else-statement example:\n",
        "weather = str(input('How is the weather today, nice or not? ')).lower()\n",
        "if weather == \"nice\":\n",
        "    print('I will mow the Lawn')\n",
        "else:\n",
        "    print(\"I won't mow the Lawn\")\n",
        "#note: double equal signs is used here. "
      ],
      "metadata": {
        "id": "YLIr4G-5uqAH"
      },
      "execution_count": null,
      "outputs": []
    },
    {
      "cell_type": "code",
      "source": [
        "# Can have elif (which is a contraction of \"else if\") and/or\n",
        "# else statements associated, when the condition is not true.\n",
        "# If/elif/else statement example,\n",
        "i = 1\n",
        "j = 2\n",
        "if i + j == 3:\n",
        "    print(\"three\")\n",
        "elif i + j == 2:\n",
        "    print(\"two\")\n",
        "else:\n",
        "    print(\"neither!\")"
      ],
      "metadata": {
        "id": "AwTZ1wMFwBP3"
      },
      "execution_count": null,
      "outputs": []
    },
    {
      "cell_type": "code",
      "source": [
        "# Create a function\n",
        "\n",
        "def checkNumber(i, j):\n",
        "    if i + j == 3:\n",
        "        print(\"three\")\n",
        "    elif i + j == 2:\n",
        "        print(\"two\")\n",
        "    else:\n",
        "        print(\"neither!\")"
      ],
      "metadata": {
        "id": "nT37W7lMwTDx"
      },
      "execution_count": null,
      "outputs": []
    },
    {
      "cell_type": "code",
      "source": [
        "checkNumber(1, 1)\n"
      ],
      "metadata": {
        "id": "-MSZMdQNwa3m"
      },
      "execution_count": null,
      "outputs": []
    },
    {
      "cell_type": "code",
      "source": [
        "checkNumber(10, 1)"
      ],
      "metadata": {
        "id": "7c9f31f_weCN"
      },
      "execution_count": null,
      "outputs": []
    },
    {
      "cell_type": "code",
      "source": [
        "# ---TABLE OF LOGICAL COMPARISONS---\n",
        "#\n",
        "# Equals              ==\n",
        "# Less than           <\n",
        "# Greater than        >\n",
        "# Less or equal       <=\n",
        "# Greater or equal    >=\n",
        "# Not equal           !=\n",
        "# And                 &\n",
        "# Or                  |\n",
        "# 0<=x<=1             (x >= 0) & (x <=1)"
      ],
      "metadata": {
        "id": "X0kKcrAvwsZg"
      },
      "execution_count": null,
      "outputs": []
    },
    {
      "cell_type": "markdown",
      "source": [
        "\n",
        "#### exercise 6 \n",
        "\n",
        "Import the random module, and use the random function in it that gives you\n",
        "an integer value from the range [1, 1000), print to the screen a message saying the number is odd or even. Part of the code are shown below."
      ],
      "metadata": {
        "id": "mXlevewywik5"
      }
    },
    {
      "cell_type": "code",
      "source": [
        "from random import randint\n",
        "# generate a random number ranging from 0 to 1000\n",
        "n = randint(0,1000)\n",
        "m = n % 2 # Modulo (%) calculates the remainder after division.\n",
        "print(n)\n",
        "# Plese write the if else statement below,\n",
        "if :\n",
        "    print(\"odd\")\n",
        "else: \n",
        "    print(\"even\")"
      ],
      "metadata": {
        "id": "UBW0xro-wg9v"
      },
      "execution_count": null,
      "outputs": []
    },
    {
      "cell_type": "markdown",
      "source": [
        "### --- ITERATION---\n",
        "Iteration is typically done by means of a loop,\n",
        "being a piece of code that is executed repeatedly.\n",
        "We can control how often a loop repeats, or whether it repeats at all,\n",
        "with control flow statements, which evaluates conditions.\n",
        "\n",
        "Control flow statements can control more than just loops.\n",
        "\n",
        "For more control flow statements, see\n",
        "https://docs.python.org/2.7/tutorial/controlflow.html\n",
        "\n",
        "#### ---FOR STATEMENT---\n",
        "\n",
        "Blocks of code under for statements repeat themselves for each\n",
        "elements of some iterable object. They make a for loop.\n"
      ],
      "metadata": {
        "id": "nBX_sPBo7NNJ"
      }
    },
    {
      "cell_type": "code",
      "source": [
        "namelist = [\"Bob\", \"Josh\", \"Cary\",\"Michael\",\"Rochelle\", \"Sun\", \"Christina\"]\n",
        "\n",
        "for name in namelist:\n",
        "    print (\"Hello \" + name + \", Merry Christmas!\")"
      ],
      "metadata": {
        "id": "5AkCBH9N7iQt"
      },
      "execution_count": null,
      "outputs": []
    },
    {
      "cell_type": "markdown",
      "source": [
        "Iterable objects are those that have a defined sequence of zero or more objects.\n",
        "\n",
        "e.g. lists, strings, tuples, etc."
      ],
      "metadata": {
        "id": "bNUy99e-7s_B"
      }
    },
    {
      "cell_type": "code",
      "source": [
        "aText = \"Hello world!\"\n",
        "\n",
        "for i in aText:\n",
        "    print(i)"
      ],
      "metadata": {
        "id": "9bgY0dyz7kyi"
      },
      "execution_count": null,
      "outputs": []
    },
    {
      "cell_type": "markdown",
      "source": [
        "###---RANGE FUNCTION---\n",
        "\n",
        "Often we want to repeat an action some specified number of\n",
        "times, rather than over a collection of objects.\n",
        "\n",
        "The range() function returns an iterable object of numbers, of size\n",
        "(and optionally, starting value and increment) you ask for. In python,\n",
        "we iterate on that.\n",
        "\n",
        "Ask for a range of itegers, starting at zero and ending before 7."
      ],
      "metadata": {
        "id": "-rA58AFq8non"
      }
    },
    {
      "cell_type": "code",
      "source": [
        "aRange =  range(7)\n",
        "for i in aRange:\n",
        "    print(i)"
      ],
      "metadata": {
        "id": "ZXnxhUmO81IQ"
      },
      "execution_count": null,
      "outputs": []
    },
    {
      "cell_type": "code",
      "source": [
        "for i in range(3, 7): # start at 3 end before 7\n",
        "    print(i)"
      ],
      "metadata": {
        "id": "__rEtV9E85ou"
      },
      "execution_count": null,
      "outputs": []
    },
    {
      "cell_type": "code",
      "source": [
        "for i in range(2, 12, 3): #start at 2, end before 12, increment by 3\n",
        "    print(i)"
      ],
      "metadata": {
        "id": "kalcvfQh87ho"
      },
      "execution_count": null,
      "outputs": []
    },
    {
      "cell_type": "markdown",
      "source": [
        "#### exercise 7 \n",
        "Use the range() function to do exercise 6 five times. "
      ],
      "metadata": {
        "id": "N2t9mfbO8_XJ"
      }
    },
    {
      "cell_type": "code",
      "source": [
        "from random import randint\n",
        "# use for statement to run the statement five times\n",
        "\n",
        "for i in    :\n",
        "    n = randint(0, 1000)\n",
        "    m = n % 2 # Modulo (%) calculates the remainder after division.\n",
        "        # Plese write the if else statement below,\n",
        "    if m==1:\n",
        "        print(str(n) + \" is an odd number.\")\n",
        "    else: \n",
        "        print(str(n) + \" is an even number.\")"
      ],
      "metadata": {
        "id": "rr6yYyqv9Fyn"
      },
      "execution_count": null,
      "outputs": []
    },
    {
      "cell_type": "code",
      "source": [
        "## extra credit assignment ## \n",
        "## exercise 8 ##\n",
        "# use a for statement to calucate the sum of consecutive numbers 1 to 100\n",
        "# print the result to the screen"
      ],
      "metadata": {
        "id": "m03fuVTo9Gxg"
      },
      "execution_count": null,
      "outputs": []
    },
    {
      "cell_type": "code",
      "source": [],
      "metadata": {
        "id": "YHq76-rVa0pA"
      },
      "execution_count": null,
      "outputs": []
    },
    {
      "cell_type": "markdown",
      "source": [
        "####---WHILE STATEMENT ---\n",
        "\n",
        "Sometimes we use a conditional statment to control the number of times\n",
        "a loop repeats. As long as the condition is true, the program\n",
        "will repeatedly execute. So we need to use while statement.\n",
        "\n",
        "Blocks of code under while statements repeat themselves until a\n",
        "specified condition is detected as false - they make a while loop.\n",
        "\n",
        "Before the indented block (re)run, the condition is evaluated. It\n",
        "runs only if the condition is true."
      ],
      "metadata": {
        "id": "k6U0VjBU9RBV"
      }
    },
    {
      "cell_type": "code",
      "source": [
        "i = 0\n",
        "while i < 10:\n",
        "    print(str(i) + \" is less than 10\")\n",
        "    i = i + 1\n",
        "print(i)\n"
      ],
      "metadata": {
        "id": "dSd8e6_w9M6d"
      },
      "execution_count": null,
      "outputs": []
    },
    {
      "cell_type": "markdown",
      "source": [
        "If i had left out the increment, i could be always <10,\n",
        "and we'd get an infinite loop.\n",
        "\n",
        "Use Ctrl+C to terminate a loop."
      ],
      "metadata": {
        "id": "0JkNOQO_9dVk"
      }
    },
    {
      "cell_type": "markdown",
      "source": [
        "#### exercise 9 ##\n",
        "To make things concrete and numerical, suppose the following: \n",
        "The tea starts at 115 degrees Fahrenheit. You want it at 112 degrees.\n",
        "A chip of ice turns out to lower the temperature one degree each time. \n",
        "You test the temperature each time, and also print out the temperature \n",
        "before reducing the temperature. In Python you could write and run the code below,:\n"
      ],
      "metadata": {
        "id": "W4kUzn489jdF"
      }
    },
    {
      "cell_type": "code",
      "source": [
        "temperature = 115  \n",
        "while temperature  : # first while loop code\n",
        "    print(str(temperature))\n",
        "    temperature = temperature - 1\n",
        "print('The tea is cool enough.')"
      ],
      "metadata": {
        "id": "Wm3RdD5j9uso"
      },
      "execution_count": null,
      "outputs": []
    },
    {
      "cell_type": "markdown",
      "source": [
        "#### ---LIST COMPREHENSION---\n",
        "\n",
        "List comprehension offers a shorter syntax when you want to create a new list based on the values of an existing list.\n",
        "\n",
        "**newlist = [expression for item in iterable if condition == True]**\n",
        "\n",
        "Example: Based on a list of fruits, you want a new list, containing only the fruits with the letter \"b\" in the name.\n",
        "\n",
        "Without list comprehension you will have to write a for statement with a conditional test inside:"
      ],
      "metadata": {
        "id": "xH28ewmvIpoC"
      }
    },
    {
      "cell_type": "code",
      "source": [
        "fruits = [\"apple\", \"banana\", \"cherry\", \"kiwi\", \"mango\", \"blue berry\"]\n",
        "newlist = []\n",
        "\n",
        "for x in fruits:\n",
        "  if \"b\" in x:\n",
        "    newlist.append(x)\n",
        "\n",
        "print(newlist)"
      ],
      "metadata": {
        "id": "gE6YDDMQKbR5"
      },
      "execution_count": null,
      "outputs": []
    },
    {
      "cell_type": "markdown",
      "source": [
        "With list comprehension you can do all that with only one line of code:"
      ],
      "metadata": {
        "id": "FDDSXUQvK3vj"
      }
    },
    {
      "cell_type": "code",
      "source": [
        "newlist = [x for x in fruits if \"b\" in x]\n",
        "\n",
        "print(newlist)"
      ],
      "metadata": {
        "id": "M1FnKwZWK3YM"
      },
      "execution_count": null,
      "outputs": []
    },
    {
      "cell_type": "markdown",
      "source": [
        "**Condition**\n",
        "\n",
        "The condition is like a filter that only accepts the items that valuate to True."
      ],
      "metadata": {
        "id": "piUxVR06LNhK"
      }
    },
    {
      "cell_type": "code",
      "source": [
        "newlist = [x for x in fruits if x == \"apple\"]\n",
        "newlist"
      ],
      "metadata": {
        "id": "hrHhzApjLV9K"
      },
      "execution_count": null,
      "outputs": []
    },
    {
      "cell_type": "markdown",
      "source": [
        "**Expression**\n",
        "\n",
        "The expression is the current item in the iteration, but it is also the outcome, which you can manipulate before it ends up like a list item in the new list:"
      ],
      "metadata": {
        "id": "ozaCdFAmL0K7"
      }
    },
    {
      "cell_type": "code",
      "source": [
        "newlist = [x.upper() for x in fruits]\n",
        "print(newlist)"
      ],
      "metadata": {
        "id": "SzHTQJ_dMLXc"
      },
      "execution_count": null,
      "outputs": []
    },
    {
      "cell_type": "markdown",
      "source": [
        "The expression can also contain conditions, not like a filter, but as a way to manipulate the outcome:"
      ],
      "metadata": {
        "id": "sawAV8KNMmsK"
      }
    },
    {
      "cell_type": "code",
      "source": [
        "obj = [\"Even\" if i%2==0 else \"Odd\" for i in range(10)]\n",
        "print(obj)"
      ],
      "metadata": {
        "id": "7IlRxjh6MhYD"
      },
      "execution_count": null,
      "outputs": []
    },
    {
      "cell_type": "markdown",
      "source": [
        "The expression in the example above says:\n",
        "\n",
        "\"Return even if it is an even number, if it is an odd number return odd\"."
      ],
      "metadata": {
        "id": "6UMKOHLPMvU0"
      }
    },
    {
      "cell_type": "markdown",
      "source": [
        "###---QUESTIONS?---\n",
        "\n",
        "### ---IMPORTING DATA ---\n",
        "\n",
        "Import a dataset using python installed on your machine. \n",
        "\n",
        "```\n",
        "# python path use \"/\" or \"\\\\\" instead of \"\\\"\n",
        "# put a r in front of the path string without using / or \\\\.\n",
        "\n",
        "import pandas as pd\n",
        "mydata100 = pd.read_csv(r\"C:\\Users\\xzhu8\\Documents\\xzhu8\\mydata100.csv\")\n",
        "```\n",
        "\n",
        "Import a dataset from google drive using Colab. \n",
        "\n",
        "1. Make sure the dataset can be seen by anyone with link. \n",
        "2. Change the \"open\" to \"uc\" in the url link. \n"
      ],
      "metadata": {
        "id": "05w1s5t-97YY"
      }
    },
    {
      "cell_type": "code",
      "source": [
        "import pandas as pd\n",
        "url = \"https://drive.google.com/uc?id=18O8ANLvClngx1lRO7Q7PPuKn4FQgu5RE&authuser=xzhu8%40vols.utk.edu&usp=drive_fs\"\n",
        "mydata100 = pd.read_csv(url)\n",
        "\n",
        "# show the first five lines of mydata100\n",
        "mydata100.head()"
      ],
      "metadata": {
        "id": "vG6la_S3-rT_"
      },
      "execution_count": null,
      "outputs": []
    },
    {
      "cell_type": "code",
      "source": [
        "# see 10 rows of mydata100\n",
        "mydata100.head(10)"
      ],
      "metadata": {
        "id": "PUOudI54AyeW"
      },
      "execution_count": null,
      "outputs": []
    },
    {
      "cell_type": "markdown",
      "source": [
        "### --- BASIC DESCRIPTIVE ANALYSIS---\n",
        "\n",
        "Get the mean, sum and summary of mydata100"
      ],
      "metadata": {
        "id": "VoGc_8MrA47n"
      }
    },
    {
      "cell_type": "code",
      "source": [
        "mydata100.mean()"
      ],
      "metadata": {
        "id": "gnk3NCL5A-RT"
      },
      "execution_count": null,
      "outputs": []
    },
    {
      "cell_type": "code",
      "source": [
        "mydata100.sum()"
      ],
      "metadata": {
        "id": "1qJbpO7QBGZr"
      },
      "execution_count": null,
      "outputs": []
    },
    {
      "cell_type": "code",
      "source": [
        "# use describe function\n",
        "basic = mydata100.describe()\n",
        "print(basic)"
      ],
      "metadata": {
        "id": "YS82ycvQBJvC"
      },
      "execution_count": null,
      "outputs": []
    },
    {
      "cell_type": "code",
      "source": [
        "# return the means grouped by gender using groupby methods\n",
        "\n",
        "mydata100.groupby('gender').mean()"
      ],
      "metadata": {
        "id": "umNyJU4XBguD"
      },
      "execution_count": null,
      "outputs": []
    },
    {
      "cell_type": "code",
      "source": [
        "# return means/median/std group by gender using groupby \n",
        "\n",
        "out = mydata100.groupby('gender').agg(['mean', 'median', 'std'])\n",
        "print(out)"
      ],
      "metadata": {
        "id": "rC3V9a_sBjMK"
      },
      "execution_count": null,
      "outputs": []
    },
    {
      "cell_type": "markdown",
      "source": [
        "###---BASE GRAPHICS USING SEABORN---"
      ],
      "metadata": {
        "id": "jDIov1_kA9pa"
      }
    },
    {
      "cell_type": "code",
      "source": [
        "import seaborn as sns\n",
        "import matplotlib \n",
        "import matplotlib.pyplot as plt\n",
        "import pandas as pd\n",
        "\n",
        "# Barplot\n",
        "\n",
        "# Barplot stacked\n",
        "sns.set(color_codes=True) #Change how matplotlib color shorthands are interpreted.\n",
        "sns.catplot(x=\"workshop\", kind=\"count\", color=\"b\", data=mydata100)\n",
        "plt.show()"
      ],
      "metadata": {
        "id": "tF3MfX54BqNu"
      },
      "execution_count": null,
      "outputs": []
    },
    {
      "cell_type": "code",
      "source": [
        "# Boxplot\n",
        "# Draw a single horizontal boxplot:\n",
        "sns.boxplot(x=mydata100[\"posttest\"])\n",
        "plt.show()"
      ],
      "metadata": {
        "id": "JWdw7k3gBv2o"
      },
      "execution_count": null,
      "outputs": []
    },
    {
      "cell_type": "code",
      "source": [
        "#Draw a vertical boxplot grouped by a categorical variable:\n",
        "sns.boxplot(x=\"workshop\", y=\"posttest\", data=mydata100)\n",
        "plt.show()"
      ],
      "metadata": {
        "id": "tN37cl3AB2bO"
      },
      "execution_count": null,
      "outputs": []
    },
    {
      "cell_type": "code",
      "source": [
        "#Draw a boxplot with nested grouping by two categorical variables:\n",
        "sns.boxplot(x=\"workshop\", y=\"posttest\", hue=\"gender\",\n",
        "                 data=mydata100)\n",
        "plt.show()"
      ],
      "metadata": {
        "id": "uwGiAigiB5zD"
      },
      "execution_count": null,
      "outputs": []
    },
    {
      "cell_type": "code",
      "source": [
        "# Scatterplot\n",
        "sns.set_style(\"whitegrid\")\n",
        "sns.scatterplot(x=\"pretest\", y=\"posttest\", data=mydata100)\n",
        "# Draw a scatterplot of two variables, x and y,\n",
        "# and then fit the regression model y ~ x\n",
        "# and plot the resulting regression line\n",
        "# and a 95% confidence interval for that regression:\n",
        "sns.regplot(x=\"pretest\", y=\"posttest\", data=mydata100)\n",
        "#plt.show()"
      ],
      "metadata": {
        "id": "c4N7CZoAB9fY"
      },
      "execution_count": null,
      "outputs": []
    },
    {
      "cell_type": "code",
      "source": [
        "# Histogram\n",
        "\n",
        "sns.distplot(mydata100['posttest'])\n",
        "plt.show()"
      ],
      "metadata": {
        "id": "kV8pH_e2CFMP"
      },
      "execution_count": null,
      "outputs": []
    },
    {
      "cell_type": "code",
      "source": [
        "from scipy.stats import norm\n",
        "# Get rid of kernel fit\n",
        "hist2 = sns.distplot(mydata100['posttest'], fit=norm, kde=False)\n",
        "#plt.show()"
      ],
      "metadata": {
        "id": "-KOLgxGmCKT9"
      },
      "execution_count": null,
      "outputs": []
    },
    {
      "cell_type": "markdown",
      "source": [
        "For many more examples, see: https://seaborn.pydata.org/tutorial.html."
      ],
      "metadata": {
        "id": "ElEnojKrCQ5Q"
      }
    },
    {
      "cell_type": "markdown",
      "source": [
        "### ---LISTING OBJECTS IN YOUR WORKSPACE---\n",
        "\n",
        "%who: Print all interactive variables, with some minimal formatting.\n",
        "\n",
        "%whos: like %who, but gives some extra information about each variable.\n",
        "\n"
      ],
      "metadata": {
        "id": "LxRxY4OdCYoK"
      }
    },
    {
      "cell_type": "code",
      "source": [
        "%who\n",
        "%whos\n"
      ],
      "metadata": {
        "id": "H7fFb_6SCiki"
      },
      "execution_count": null,
      "outputs": []
    },
    {
      "cell_type": "markdown",
      "source": [
        "### ---DELETING OBJECTS---\n",
        "\n",
        "The del( ) function deletes (Removes) objects\n",
        "\n",
        "\n"
      ],
      "metadata": {
        "id": "4SAT01vtClQI"
      }
    },
    {
      "cell_type": "code",
      "source": [
        "del(mydata)\n",
        "mydata"
      ],
      "metadata": {
        "id": "Ql5cY1U3CpwJ"
      },
      "execution_count": null,
      "outputs": []
    },
    {
      "cell_type": "code",
      "source": [
        "# You can remove a list using:\n",
        "# del list\n",
        "\n",
        "del id\n",
        "id"
      ],
      "metadata": {
        "id": "z7ZFMRMkCtOg"
      },
      "execution_count": null,
      "outputs": []
    },
    {
      "cell_type": "markdown",
      "source": [
        "### ---SAVING YOUR WORK---\n",
        "\n",
        "Save your progs & results with File: Save as...\n",
        "\n",
        "Export a dataframe in your workspace as csv: dataframe.to_csv('test.csv')\n",
        "```python\n",
        "mydata100.to_csv( r'C:\\Users\\XZHU8\\Documents\\test.csv')\n",
        "```\n",
        "\n",
        "Save a datafram as excel: dataframe.to_excel('test.xls', index=False)\n",
        "\n",
        "```python\n",
        "mydata100.to_excel('test.xls', index=False)\n",
        "```"
      ],
      "metadata": {
        "id": "_DzycrDjDGYx"
      }
    },
    {
      "cell_type": "code",
      "source": [
        "#Download the data from colab \n",
        "from google.colab import files\n",
        "import pandas as pd\n",
        "mydata100.to_csv('example_file.csv')\n",
        "files.download('example_file.csv')"
      ],
      "metadata": {
        "id": "7Fb6hZUrgbHO"
      },
      "execution_count": null,
      "outputs": []
    },
    {
      "cell_type": "markdown",
      "source": [
        "### --- QUESTIONS? ---\n",
        "\n",
        "\n",
        "### ---GOOD SOURCES OF PYTHON HELP---\n",
        "\n",
        "UT people get 15 hours per semester of\n",
        "free help in 540 Greve Hall:\n",
        "\n",
        "   HelpDesk: 974-9900\n",
        "\n",
        "   Walk-in Schedule:\n",
        "\n",
        "   http://oit.utk.edu/research/schedule\n",
        "\n",
        "\n",
        "Python & R cheat sheets: https://www.datacamp.com/community/data-science-cheatsheets?page=3\n",
        "\n",
        "R & SAS/SPSS/Stata:     http://www.r4stats.com\n",
        "\n",
        "Linkedin learning:      https://oit.utk.edu/training/online-training/lil/\n",
        "\n",
        "Stackoverflow:          https://stackoverflow.com/questions\n",
        "\n",
        "\n",
        "### ---In a New Browser Tab---\n",
        "\n",
        "https://workshop.utk.edu/feedback.php"
      ],
      "metadata": {
        "id": "d-tHk_P6DdwK"
      }
    }
  ]
}