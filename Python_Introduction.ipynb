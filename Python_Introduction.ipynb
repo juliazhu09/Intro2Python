{
  "nbformat": 4,
  "nbformat_minor": 0,
  "metadata": {
    "colab": {
      "provenance": [],
      "authorship_tag": "ABX9TyNzUrzLKTvRJfuxcEBtFNfx",
      "include_colab_link": true
    },
    "kernelspec": {
      "name": "python3",
      "display_name": "Python 3"
    },
    "language_info": {
      "name": "python"
    }
  },
  "cells": [
    {
      "cell_type": "markdown",
      "metadata": {
        "id": "view-in-github",
        "colab_type": "text"
      },
      "source": [
        "<a href=\"https://colab.research.google.com/github/juliazhu09/Intro2Python/blob/master/Python_Introduction.ipynb\" target=\"_parent\"><img src=\"https://colab.research.google.com/assets/colab-badge.svg\" alt=\"Open In Colab\"/></a>"
      ]
    },
    {
      "cell_type": "markdown",
      "source": [
        "# Python: Introduction\n",
        "\n",
        "### Xiaojuan Zhu\n",
        "### OIT Research Computing Support\n",
        "### Help Desk: 865-974-9900 "
      ],
      "metadata": {
        "id": "X6lz5nHQZ3SL"
      }
    },
    {
      "cell_type": "markdown",
      "source": [
        "## Research Support\n",
        "\n",
        "Offers up to 15 free hours of research assistance each semester to most students, faculty, and staff. Includes assistance with:\n",
        "* SAS, SPSS, R, MATLAB, QDA Miner…\n",
        "* Research Planning, design, sample size…\n",
        "* Data entry, management, file conversions\n",
        "* Statistics, mathematics, data mining\n",
        "* Qualitative analysis and text analytics\n",
        "* Web survey design and deployment (Qualtrics)\n",
        "* Optical mark scanning and scoring\n",
        "\n",
        "See web page http://oit.utk.edu/research for details\n",
        "\n",
        "**If you want to get statstical help, you can make an appointment with us by call the help desk, 865-974-9900.**"
      ],
      "metadata": {
        "id": "LdItTS6AFga6"
      }
    },
    {
      "cell_type": "markdown",
      "source": [
        "![image](https://drive.google.com/uc?id=18TgIQW2UDPFEp-7Q0U3iwEis01urfRLH&authuser=xzhu8%40vols.utk.edu&usp=drive_fs)"
      ],
      "metadata": {
        "id": "8Ea5mmF8KxJt"
      }
    },
    {
      "cell_type": "markdown",
      "source": [
        "# What is python?\n",
        "\n",
        "https://www.youtube.com/watch?v=Y8Tko2YC5hA\n",
        "\n"
      ],
      "metadata": {
        "id": "zuXKM5LYLAMR"
      }
    },
    {
      "cell_type": "code",
      "source": [],
      "metadata": {
        "colab": {
          "base_uri": "https://localhost:8080/",
          "height": 371
        },
        "id": "x7k_WfzFLiEl",
        "outputId": "a83c8aad-7de5-49c7-8710-b25294af342a"
      },
      "execution_count": null,
      "outputs": [
        {
          "output_type": "stream",
          "name": "stderr",
          "text": [
            "/usr/local/lib/python3.7/dist-packages/IPython/core/display.py:701: UserWarning: Consider using IPython.display.IFrame instead\n",
            "  warnings.warn(\"Consider using IPython.display.IFrame instead\")\n"
          ]
        },
        {
          "output_type": "execute_result",
          "data": {
            "text/plain": [
              "<IPython.core.display.HTML object>"
            ],
            "text/html": [
              "<iframe width=\"560\" height=\"315\" src=\"https://www.youtube.com/watch?v=Y8Tko2YC5hA\" frameborder=\"0\" allow=\"accelerometer; autoplay; encrypted-media; gyroscope; picture-in-picture\" allowfullscreen></iframe>"
            ]
          },
          "metadata": {},
          "execution_count": 98
        }
      ]
    },
    {
      "cell_type": "markdown",
      "source": [
        "### ---Install Add-on Pacakges---\n",
        "\n",
        "A Python package refers to a directory of Python\n",
        "module(s). A module in python is a .py file that\n",
        "defines one or more function/classes which you\n",
        "intend to reuse in different codes of your program.\n",
        "Use PIP to install a package either in a command prompt\n",
        "window or in Anaconda.\n",
        "\n",
        "To use them, we import them. Submodeles/functions can be stored\n",
        "in packages, and accessed with dot syntax.\n",
        "\n",
        "Some packages, such as sys and os, have already been installed\n",
        "in python, you do not need to install it again. We can import\n",
        "it directly.\n",
        "\n",
        "Official Python description of modules and importing them:\n",
        "https://docs.python.org/2/tutorial/modules.html\n",
        "\n",
        "\n"
      ],
      "metadata": {
        "id": "Wm74TDjJcSBv"
      }
    },
    {
      "cell_type": "code",
      "source": [
        "import sys\n",
        "print(sys.executable)"
      ],
      "metadata": {
        "colab": {
          "base_uri": "https://localhost:8080/"
        },
        "id": "oviB750JaMhi",
        "outputId": "6eb8eb64-73ce-4146-9036-bcbad72c6305"
      },
      "execution_count": 2,
      "outputs": [
        {
          "output_type": "stream",
          "name": "stdout",
          "text": [
            "/usr/bin/python3\n"
          ]
        }
      ]
    },
    {
      "cell_type": "markdown",
      "source": [
        "#### **Install a package using Anaconda Prompt**\n",
        "``` conda install pacakagename ```\n",
        "\n",
        "For example:\n",
        "\n",
        "``` conda install seaborn ```\n",
        "\n",
        "#### **Install a package using windows CMD**\n",
        "\n",
        "``` pip install pacakagename```\n",
        "\n",
        "For example:\n",
        "\n",
        "``` pip install seaborn ```\n",
        "\n",
        "For details, please see the youtube vedio here, https://www.youtube.com/watch?v=Z_Kxg-EYvxM&t=4s.\n",
        "\n",
        "#### **Install a package at google colab**\n",
        "```!pip install a package```\n",
        "\n",
        "Colab environment comes with a number of pre-installed scientific and machine learning packages such as **numpy, scipy, pandas, tensorflow, and pytorch.**\n",
        "\n",
        "We can check the installed python packages at Colab using ```pip freeze```"
      ],
      "metadata": {
        "id": "PnkzGxLXc_Tg"
      }
    },
    {
      "cell_type": "code",
      "source": [
        "!pip install seaborn\n"
      ],
      "metadata": {
        "colab": {
          "base_uri": "https://localhost:8080/"
        },
        "id": "EsFouUlGgLuk",
        "outputId": "64ae1818-df89-4e0f-bb29-4863568e2ba9"
      },
      "execution_count": 1,
      "outputs": [
        {
          "output_type": "stream",
          "name": "stdout",
          "text": [
            "Looking in indexes: https://pypi.org/simple, https://us-python.pkg.dev/colab-wheels/public/simple/\n",
            "Requirement already satisfied: seaborn in /usr/local/lib/python3.7/dist-packages (0.11.2)\n",
            "Requirement already satisfied: matplotlib>=2.2 in /usr/local/lib/python3.7/dist-packages (from seaborn) (3.2.2)\n",
            "Requirement already satisfied: scipy>=1.0 in /usr/local/lib/python3.7/dist-packages (from seaborn) (1.7.3)\n",
            "Requirement already satisfied: pandas>=0.23 in /usr/local/lib/python3.7/dist-packages (from seaborn) (1.3.5)\n",
            "Requirement already satisfied: numpy>=1.15 in /usr/local/lib/python3.7/dist-packages (from seaborn) (1.21.6)\n",
            "Requirement already satisfied: kiwisolver>=1.0.1 in /usr/local/lib/python3.7/dist-packages (from matplotlib>=2.2->seaborn) (1.4.4)\n",
            "Requirement already satisfied: cycler>=0.10 in /usr/local/lib/python3.7/dist-packages (from matplotlib>=2.2->seaborn) (0.11.0)\n",
            "Requirement already satisfied: pyparsing!=2.0.4,!=2.1.2,!=2.1.6,>=2.0.1 in /usr/local/lib/python3.7/dist-packages (from matplotlib>=2.2->seaborn) (3.0.9)\n",
            "Requirement already satisfied: python-dateutil>=2.1 in /usr/local/lib/python3.7/dist-packages (from matplotlib>=2.2->seaborn) (2.8.2)\n",
            "Requirement already satisfied: typing-extensions in /usr/local/lib/python3.7/dist-packages (from kiwisolver>=1.0.1->matplotlib>=2.2->seaborn) (4.1.1)\n",
            "Requirement already satisfied: pytz>=2017.3 in /usr/local/lib/python3.7/dist-packages (from pandas>=0.23->seaborn) (2022.2.1)\n",
            "Requirement already satisfied: six>=1.5 in /usr/local/lib/python3.7/dist-packages (from python-dateutil>=2.1->matplotlib>=2.2->seaborn) (1.15.0)\n"
          ]
        }
      ]
    },
    {
      "cell_type": "markdown",
      "source": [
        "You only install a package once on your machine (not Colab), but you need to import it from the package\n",
        "each time when you start python.\n",
        "\n",
        "I do it repeatedly in this workshop to\n",
        "emphasize that a package is being used."
      ],
      "metadata": {
        "id": "T-EN5e3kiEPi"
      }
    },
    {
      "cell_type": "code",
      "source": [
        "import os\n",
        "import sys\n",
        "import pandas as pd\n"
      ],
      "metadata": {
        "id": "uwzj77lrgwPP"
      },
      "execution_count": 3,
      "outputs": []
    },
    {
      "cell_type": "markdown",
      "source": [
        "###---Documenting Your Program---\n",
        "\n",
        "Comments go from \"#\" to the end of the line\n"
      ],
      "metadata": {
        "id": "F-KUpp9vippO"
      }
    },
    {
      "cell_type": "code",
      "source": [
        "# here are the comments.\n"
      ],
      "metadata": {
        "id": "O9d6MSS6ChRE"
      },
      "execution_count": null,
      "outputs": []
    },
    {
      "cell_type": "markdown",
      "source": [
        "### ---ASSIGNMENT OPERATOR---\n",
        "\n",
        "When creating objects, you give them\n",
        "values using the assignment operator\n",
        " \"=\" as here:\n",
        "x = 1"
      ],
      "metadata": {
        "id": "sy5svkZijC92"
      }
    },
    {
      "cell_type": "code",
      "source": [
        "x = 1\n",
        "x"
      ],
      "metadata": {
        "colab": {
          "base_uri": "https://localhost:8080/"
        },
        "id": "zfd6tpX6iBJT",
        "outputId": "50569851-e9d2-46fd-92f3-bb1d5fd5404f"
      },
      "execution_count": 4,
      "outputs": [
        {
          "output_type": "execute_result",
          "data": {
            "text/plain": [
              "1"
            ]
          },
          "metadata": {},
          "execution_count": 4
        }
      ]
    },
    {
      "cell_type": "markdown",
      "source": [
        "### ---OBJECTS & THEIR NAMES---\n",
        "\n",
        "Python is object oriented\n",
        "\n",
        "Everything: data, functions (procedures), models,\n",
        "etc. are objects, with its properties/attributes\n",
        "and methods(like functions).\n",
        "\n",
        "The object names should begin with a letter\n",
        "and can contain letters, numbers,\n",
        "underscores.\n",
        "But cannot have space or period.\n",
        "Case matters, e.g. **myvar** is not **MyVar**\n",
        "\n",
        "### ---OBJECT ATTRIBUTES AND METHODS---\n",
        "\n",
        "To access a variable/attraibute or a method, use dot syntax.\n",
        "\n",
        "Here I use pandas to create mydata as a dataframe object. "
      ],
      "metadata": {
        "id": "n9NGMXHNjq58"
      }
    },
    {
      "cell_type": "code",
      "source": [
        "import pandas as pd\n",
        "mydata = pd.DataFrame(data={'id': [1, 2, 3, 4, 5, 6, 7, 8],\n",
        "                'workshop': [1, 2, 1, 2, 1, 2, 1, 2],\n",
        "                'gender' : ['f', 'f', 'f', ''  ,'m', 'm', 'm', 'm',]})\n",
        "mydata\n"
      ],
      "metadata": {
        "colab": {
          "base_uri": "https://localhost:8080/",
          "height": 300
        },
        "id": "FXlNdUbJkAMI",
        "outputId": "0ec36e43-81bd-45bb-b4bb-143bf392c568"
      },
      "execution_count": null,
      "outputs": [
        {
          "output_type": "execute_result",
          "data": {
            "text/plain": [
              "   id  workshop gender\n",
              "0   1         1      f\n",
              "1   2         2      f\n",
              "2   3         1      f\n",
              "3   4         2       \n",
              "4   5         1      m\n",
              "5   6         2      m\n",
              "6   7         1      m\n",
              "7   8         2      m"
            ],
            "text/html": [
              "\n",
              "  <div id=\"df-cae69eed-88ab-42a1-80af-41b05de07e21\">\n",
              "    <div class=\"colab-df-container\">\n",
              "      <div>\n",
              "<style scoped>\n",
              "    .dataframe tbody tr th:only-of-type {\n",
              "        vertical-align: middle;\n",
              "    }\n",
              "\n",
              "    .dataframe tbody tr th {\n",
              "        vertical-align: top;\n",
              "    }\n",
              "\n",
              "    .dataframe thead th {\n",
              "        text-align: right;\n",
              "    }\n",
              "</style>\n",
              "<table border=\"1\" class=\"dataframe\">\n",
              "  <thead>\n",
              "    <tr style=\"text-align: right;\">\n",
              "      <th></th>\n",
              "      <th>id</th>\n",
              "      <th>workshop</th>\n",
              "      <th>gender</th>\n",
              "    </tr>\n",
              "  </thead>\n",
              "  <tbody>\n",
              "    <tr>\n",
              "      <th>0</th>\n",
              "      <td>1</td>\n",
              "      <td>1</td>\n",
              "      <td>f</td>\n",
              "    </tr>\n",
              "    <tr>\n",
              "      <th>1</th>\n",
              "      <td>2</td>\n",
              "      <td>2</td>\n",
              "      <td>f</td>\n",
              "    </tr>\n",
              "    <tr>\n",
              "      <th>2</th>\n",
              "      <td>3</td>\n",
              "      <td>1</td>\n",
              "      <td>f</td>\n",
              "    </tr>\n",
              "    <tr>\n",
              "      <th>3</th>\n",
              "      <td>4</td>\n",
              "      <td>2</td>\n",
              "      <td></td>\n",
              "    </tr>\n",
              "    <tr>\n",
              "      <th>4</th>\n",
              "      <td>5</td>\n",
              "      <td>1</td>\n",
              "      <td>m</td>\n",
              "    </tr>\n",
              "    <tr>\n",
              "      <th>5</th>\n",
              "      <td>6</td>\n",
              "      <td>2</td>\n",
              "      <td>m</td>\n",
              "    </tr>\n",
              "    <tr>\n",
              "      <th>6</th>\n",
              "      <td>7</td>\n",
              "      <td>1</td>\n",
              "      <td>m</td>\n",
              "    </tr>\n",
              "    <tr>\n",
              "      <th>7</th>\n",
              "      <td>8</td>\n",
              "      <td>2</td>\n",
              "      <td>m</td>\n",
              "    </tr>\n",
              "  </tbody>\n",
              "</table>\n",
              "</div>\n",
              "      <button class=\"colab-df-convert\" onclick=\"convertToInteractive('df-cae69eed-88ab-42a1-80af-41b05de07e21')\"\n",
              "              title=\"Convert this dataframe to an interactive table.\"\n",
              "              style=\"display:none;\">\n",
              "        \n",
              "  <svg xmlns=\"http://www.w3.org/2000/svg\" height=\"24px\"viewBox=\"0 0 24 24\"\n",
              "       width=\"24px\">\n",
              "    <path d=\"M0 0h24v24H0V0z\" fill=\"none\"/>\n",
              "    <path d=\"M18.56 5.44l.94 2.06.94-2.06 2.06-.94-2.06-.94-.94-2.06-.94 2.06-2.06.94zm-11 1L8.5 8.5l.94-2.06 2.06-.94-2.06-.94L8.5 2.5l-.94 2.06-2.06.94zm10 10l.94 2.06.94-2.06 2.06-.94-2.06-.94-.94-2.06-.94 2.06-2.06.94z\"/><path d=\"M17.41 7.96l-1.37-1.37c-.4-.4-.92-.59-1.43-.59-.52 0-1.04.2-1.43.59L10.3 9.45l-7.72 7.72c-.78.78-.78 2.05 0 2.83L4 21.41c.39.39.9.59 1.41.59.51 0 1.02-.2 1.41-.59l7.78-7.78 2.81-2.81c.8-.78.8-2.07 0-2.86zM5.41 20L4 18.59l7.72-7.72 1.47 1.35L5.41 20z\"/>\n",
              "  </svg>\n",
              "      </button>\n",
              "      \n",
              "  <style>\n",
              "    .colab-df-container {\n",
              "      display:flex;\n",
              "      flex-wrap:wrap;\n",
              "      gap: 12px;\n",
              "    }\n",
              "\n",
              "    .colab-df-convert {\n",
              "      background-color: #E8F0FE;\n",
              "      border: none;\n",
              "      border-radius: 50%;\n",
              "      cursor: pointer;\n",
              "      display: none;\n",
              "      fill: #1967D2;\n",
              "      height: 32px;\n",
              "      padding: 0 0 0 0;\n",
              "      width: 32px;\n",
              "    }\n",
              "\n",
              "    .colab-df-convert:hover {\n",
              "      background-color: #E2EBFA;\n",
              "      box-shadow: 0px 1px 2px rgba(60, 64, 67, 0.3), 0px 1px 3px 1px rgba(60, 64, 67, 0.15);\n",
              "      fill: #174EA6;\n",
              "    }\n",
              "\n",
              "    [theme=dark] .colab-df-convert {\n",
              "      background-color: #3B4455;\n",
              "      fill: #D2E3FC;\n",
              "    }\n",
              "\n",
              "    [theme=dark] .colab-df-convert:hover {\n",
              "      background-color: #434B5C;\n",
              "      box-shadow: 0px 1px 3px 1px rgba(0, 0, 0, 0.15);\n",
              "      filter: drop-shadow(0px 1px 2px rgba(0, 0, 0, 0.3));\n",
              "      fill: #FFFFFF;\n",
              "    }\n",
              "  </style>\n",
              "\n",
              "      <script>\n",
              "        const buttonEl =\n",
              "          document.querySelector('#df-cae69eed-88ab-42a1-80af-41b05de07e21 button.colab-df-convert');\n",
              "        buttonEl.style.display =\n",
              "          google.colab.kernel.accessAllowed ? 'block' : 'none';\n",
              "\n",
              "        async function convertToInteractive(key) {\n",
              "          const element = document.querySelector('#df-cae69eed-88ab-42a1-80af-41b05de07e21');\n",
              "          const dataTable =\n",
              "            await google.colab.kernel.invokeFunction('convertToInteractive',\n",
              "                                                     [key], {});\n",
              "          if (!dataTable) return;\n",
              "\n",
              "          const docLinkHtml = 'Like what you see? Visit the ' +\n",
              "            '<a target=\"_blank\" href=https://colab.research.google.com/notebooks/data_table.ipynb>data table notebook</a>'\n",
              "            + ' to learn more about interactive tables.';\n",
              "          element.innerHTML = '';\n",
              "          dataTable['output_type'] = 'display_data';\n",
              "          await google.colab.output.renderOutput(dataTable, element);\n",
              "          const docLink = document.createElement('div');\n",
              "          docLink.innerHTML = docLinkHtml;\n",
              "          element.appendChild(docLink);\n",
              "        }\n",
              "      </script>\n",
              "    </div>\n",
              "  </div>\n",
              "  "
            ]
          },
          "metadata": {},
          "execution_count": 44
        }
      ]
    },
    {
      "cell_type": "code",
      "source": [
        "# access an attribute or variable from mydata\n",
        "mydata.workshop"
      ],
      "metadata": {
        "colab": {
          "base_uri": "https://localhost:8080/"
        },
        "id": "lp-_MbaykP5i",
        "outputId": "41d21551-35c5-4cb6-dcda-4542c44e3e9e"
      },
      "execution_count": null,
      "outputs": [
        {
          "output_type": "execute_result",
          "data": {
            "text/plain": [
              "0    1\n",
              "1    2\n",
              "2    1\n",
              "3    2\n",
              "4    1\n",
              "5    2\n",
              "6    1\n",
              "7    2\n",
              "Name: workshop, dtype: int64"
            ]
          },
          "metadata": {},
          "execution_count": 45
        }
      ]
    },
    {
      "cell_type": "code",
      "source": [
        "# For example, mean() is a method of a dataframe\n",
        "mydata.mean()"
      ],
      "metadata": {
        "colab": {
          "base_uri": "https://localhost:8080/"
        },
        "id": "HMFg8qK2kUrl",
        "outputId": "5c4f0f32-5444-4b26-db76-20c9dc2e58a6"
      },
      "execution_count": null,
      "outputs": [
        {
          "output_type": "stream",
          "name": "stderr",
          "text": [
            "/usr/local/lib/python3.7/dist-packages/ipykernel_launcher.py:2: FutureWarning: Dropping of nuisance columns in DataFrame reductions (with 'numeric_only=None') is deprecated; in a future version this will raise TypeError.  Select only valid columns before calling the reduction.\n",
            "  \n"
          ]
        },
        {
          "output_type": "execute_result",
          "data": {
            "text/plain": [
              "id          4.5\n",
              "workshop    1.5\n",
              "dtype: float64"
            ]
          },
          "metadata": {},
          "execution_count": 46
        }
      ]
    },
    {
      "cell_type": "code",
      "source": [
        "# list all the attributes and methods of mydata.\n",
        "dir(mydata)"
      ],
      "metadata": {
        "colab": {
          "base_uri": "https://localhost:8080/"
        },
        "id": "a5ZMGpJPkazq",
        "outputId": "0f2833b6-b8be-4950-bf9e-6ed1bcf2ba7e"
      },
      "execution_count": null,
      "outputs": [
        {
          "output_type": "execute_result",
          "data": {
            "text/plain": [
              "['T',\n",
              " '_AXIS_LEN',\n",
              " '_AXIS_ORDERS',\n",
              " '_AXIS_REVERSED',\n",
              " '_AXIS_TO_AXIS_NUMBER',\n",
              " '_HANDLED_TYPES',\n",
              " '__abs__',\n",
              " '__add__',\n",
              " '__and__',\n",
              " '__annotations__',\n",
              " '__array__',\n",
              " '__array_priority__',\n",
              " '__array_ufunc__',\n",
              " '__array_wrap__',\n",
              " '__bool__',\n",
              " '__class__',\n",
              " '__contains__',\n",
              " '__copy__',\n",
              " '__deepcopy__',\n",
              " '__delattr__',\n",
              " '__delitem__',\n",
              " '__dict__',\n",
              " '__dir__',\n",
              " '__divmod__',\n",
              " '__doc__',\n",
              " '__eq__',\n",
              " '__finalize__',\n",
              " '__floordiv__',\n",
              " '__format__',\n",
              " '__ge__',\n",
              " '__getattr__',\n",
              " '__getattribute__',\n",
              " '__getitem__',\n",
              " '__getstate__',\n",
              " '__gt__',\n",
              " '__hash__',\n",
              " '__iadd__',\n",
              " '__iand__',\n",
              " '__ifloordiv__',\n",
              " '__imod__',\n",
              " '__imul__',\n",
              " '__init__',\n",
              " '__init_subclass__',\n",
              " '__invert__',\n",
              " '__ior__',\n",
              " '__ipow__',\n",
              " '__isub__',\n",
              " '__iter__',\n",
              " '__itruediv__',\n",
              " '__ixor__',\n",
              " '__le__',\n",
              " '__len__',\n",
              " '__lt__',\n",
              " '__matmul__',\n",
              " '__mod__',\n",
              " '__module__',\n",
              " '__mul__',\n",
              " '__ne__',\n",
              " '__neg__',\n",
              " '__new__',\n",
              " '__nonzero__',\n",
              " '__or__',\n",
              " '__pos__',\n",
              " '__pow__',\n",
              " '__radd__',\n",
              " '__rand__',\n",
              " '__rdivmod__',\n",
              " '__reduce__',\n",
              " '__reduce_ex__',\n",
              " '__repr__',\n",
              " '__rfloordiv__',\n",
              " '__rmatmul__',\n",
              " '__rmod__',\n",
              " '__rmul__',\n",
              " '__ror__',\n",
              " '__round__',\n",
              " '__rpow__',\n",
              " '__rsub__',\n",
              " '__rtruediv__',\n",
              " '__rxor__',\n",
              " '__setattr__',\n",
              " '__setitem__',\n",
              " '__setstate__',\n",
              " '__sizeof__',\n",
              " '__str__',\n",
              " '__sub__',\n",
              " '__subclasshook__',\n",
              " '__truediv__',\n",
              " '__weakref__',\n",
              " '__xor__',\n",
              " '_accessors',\n",
              " '_accum_func',\n",
              " '_add_numeric_operations',\n",
              " '_agg_by_level',\n",
              " '_agg_examples_doc',\n",
              " '_agg_summary_and_see_also_doc',\n",
              " '_align_frame',\n",
              " '_align_series',\n",
              " '_arith_method',\n",
              " '_as_manager',\n",
              " '_attrs',\n",
              " '_box_col_values',\n",
              " '_can_fast_transpose',\n",
              " '_check_inplace_and_allows_duplicate_labels',\n",
              " '_check_inplace_setting',\n",
              " '_check_is_chained_assignment_possible',\n",
              " '_check_label_or_level_ambiguity',\n",
              " '_check_setitem_copy',\n",
              " '_clear_item_cache',\n",
              " '_clip_with_one_bound',\n",
              " '_clip_with_scalar',\n",
              " '_cmp_method',\n",
              " '_combine_frame',\n",
              " '_consolidate',\n",
              " '_consolidate_inplace',\n",
              " '_construct_axes_dict',\n",
              " '_construct_axes_from_arguments',\n",
              " '_construct_result',\n",
              " '_constructor',\n",
              " '_constructor_sliced',\n",
              " '_convert',\n",
              " '_count_level',\n",
              " '_data',\n",
              " '_dir_additions',\n",
              " '_dir_deletions',\n",
              " '_dispatch_frame_op',\n",
              " '_drop_axis',\n",
              " '_drop_labels_or_levels',\n",
              " '_ensure_valid_index',\n",
              " '_find_valid_index',\n",
              " '_flags',\n",
              " '_from_arrays',\n",
              " '_from_mgr',\n",
              " '_get_agg_axis',\n",
              " '_get_axis',\n",
              " '_get_axis_name',\n",
              " '_get_axis_number',\n",
              " '_get_axis_resolvers',\n",
              " '_get_block_manager_axis',\n",
              " '_get_bool_data',\n",
              " '_get_cleaned_column_resolvers',\n",
              " '_get_column_array',\n",
              " '_get_index_resolvers',\n",
              " '_get_item_cache',\n",
              " '_get_label_or_level_values',\n",
              " '_get_numeric_data',\n",
              " '_get_value',\n",
              " '_getitem_bool_array',\n",
              " '_getitem_multilevel',\n",
              " '_gotitem',\n",
              " '_hidden_attrs',\n",
              " '_indexed_same',\n",
              " '_info_axis',\n",
              " '_info_axis_name',\n",
              " '_info_axis_number',\n",
              " '_info_repr',\n",
              " '_init_mgr',\n",
              " '_inplace_method',\n",
              " '_internal_names',\n",
              " '_internal_names_set',\n",
              " '_is_copy',\n",
              " '_is_homogeneous_type',\n",
              " '_is_label_or_level_reference',\n",
              " '_is_label_reference',\n",
              " '_is_level_reference',\n",
              " '_is_mixed_type',\n",
              " '_is_view',\n",
              " '_iset_item',\n",
              " '_iset_item_mgr',\n",
              " '_iset_not_inplace',\n",
              " '_item_cache',\n",
              " '_iter_column_arrays',\n",
              " '_ixs',\n",
              " '_join_compat',\n",
              " '_logical_func',\n",
              " '_logical_method',\n",
              " '_maybe_cache_changed',\n",
              " '_maybe_update_cacher',\n",
              " '_metadata',\n",
              " '_mgr',\n",
              " '_min_count_stat_function',\n",
              " '_needs_reindex_multi',\n",
              " '_protect_consolidate',\n",
              " '_reduce',\n",
              " '_reindex_axes',\n",
              " '_reindex_columns',\n",
              " '_reindex_index',\n",
              " '_reindex_multi',\n",
              " '_reindex_with_indexers',\n",
              " '_replace_columnwise',\n",
              " '_repr_data_resource_',\n",
              " '_repr_fits_horizontal_',\n",
              " '_repr_fits_vertical_',\n",
              " '_repr_html_',\n",
              " '_repr_latex_',\n",
              " '_reset_cache',\n",
              " '_reset_cacher',\n",
              " '_sanitize_column',\n",
              " '_series',\n",
              " '_set_axis',\n",
              " '_set_axis_name',\n",
              " '_set_axis_nocheck',\n",
              " '_set_is_copy',\n",
              " '_set_item',\n",
              " '_set_item_frame_value',\n",
              " '_set_item_mgr',\n",
              " '_set_value',\n",
              " '_setitem_array',\n",
              " '_setitem_frame',\n",
              " '_setitem_slice',\n",
              " '_slice',\n",
              " '_stat_axis',\n",
              " '_stat_axis_name',\n",
              " '_stat_axis_number',\n",
              " '_stat_function',\n",
              " '_stat_function_ddof',\n",
              " '_take_with_is_copy',\n",
              " '_to_dict_of_blocks',\n",
              " '_typ',\n",
              " '_update_inplace',\n",
              " '_validate_dtype',\n",
              " '_values',\n",
              " '_where',\n",
              " 'abs',\n",
              " 'add',\n",
              " 'add_prefix',\n",
              " 'add_suffix',\n",
              " 'agg',\n",
              " 'aggregate',\n",
              " 'align',\n",
              " 'all',\n",
              " 'any',\n",
              " 'append',\n",
              " 'apply',\n",
              " 'applymap',\n",
              " 'asfreq',\n",
              " 'asof',\n",
              " 'assign',\n",
              " 'astype',\n",
              " 'at',\n",
              " 'at_time',\n",
              " 'attrs',\n",
              " 'axes',\n",
              " 'backfill',\n",
              " 'between_time',\n",
              " 'bfill',\n",
              " 'bool',\n",
              " 'boxplot',\n",
              " 'clip',\n",
              " 'columns',\n",
              " 'combine',\n",
              " 'combine_first',\n",
              " 'compare',\n",
              " 'convert_dtypes',\n",
              " 'copy',\n",
              " 'corr',\n",
              " 'corrwith',\n",
              " 'count',\n",
              " 'cov',\n",
              " 'cummax',\n",
              " 'cummin',\n",
              " 'cumprod',\n",
              " 'cumsum',\n",
              " 'describe',\n",
              " 'diff',\n",
              " 'div',\n",
              " 'divide',\n",
              " 'dot',\n",
              " 'drop',\n",
              " 'drop_duplicates',\n",
              " 'droplevel',\n",
              " 'dropna',\n",
              " 'dtypes',\n",
              " 'duplicated',\n",
              " 'empty',\n",
              " 'eq',\n",
              " 'equals',\n",
              " 'eval',\n",
              " 'ewm',\n",
              " 'expanding',\n",
              " 'explode',\n",
              " 'ffill',\n",
              " 'fillna',\n",
              " 'filter',\n",
              " 'first',\n",
              " 'first_valid_index',\n",
              " 'flags',\n",
              " 'floordiv',\n",
              " 'from_dict',\n",
              " 'from_records',\n",
              " 'ge',\n",
              " 'gender',\n",
              " 'get',\n",
              " 'groupby',\n",
              " 'gt',\n",
              " 'head',\n",
              " 'hist',\n",
              " 'iat',\n",
              " 'id',\n",
              " 'idxmax',\n",
              " 'idxmin',\n",
              " 'iloc',\n",
              " 'index',\n",
              " 'infer_objects',\n",
              " 'info',\n",
              " 'insert',\n",
              " 'interpolate',\n",
              " 'isin',\n",
              " 'isna',\n",
              " 'isnull',\n",
              " 'items',\n",
              " 'iteritems',\n",
              " 'iterrows',\n",
              " 'itertuples',\n",
              " 'join',\n",
              " 'keys',\n",
              " 'kurt',\n",
              " 'kurtosis',\n",
              " 'last',\n",
              " 'last_valid_index',\n",
              " 'le',\n",
              " 'loc',\n",
              " 'lookup',\n",
              " 'lt',\n",
              " 'mad',\n",
              " 'mask',\n",
              " 'max',\n",
              " 'mean',\n",
              " 'median',\n",
              " 'melt',\n",
              " 'memory_usage',\n",
              " 'merge',\n",
              " 'min',\n",
              " 'mod',\n",
              " 'mode',\n",
              " 'mul',\n",
              " 'multiply',\n",
              " 'ndim',\n",
              " 'ne',\n",
              " 'nlargest',\n",
              " 'notna',\n",
              " 'notnull',\n",
              " 'nsmallest',\n",
              " 'nunique',\n",
              " 'pad',\n",
              " 'pct_change',\n",
              " 'pipe',\n",
              " 'pivot',\n",
              " 'pivot_table',\n",
              " 'plot',\n",
              " 'pop',\n",
              " 'pow',\n",
              " 'prod',\n",
              " 'product',\n",
              " 'quantile',\n",
              " 'query',\n",
              " 'radd',\n",
              " 'rank',\n",
              " 'rdiv',\n",
              " 'reindex',\n",
              " 'reindex_like',\n",
              " 'rename',\n",
              " 'rename_axis',\n",
              " 'reorder_levels',\n",
              " 'replace',\n",
              " 'resample',\n",
              " 'reset_index',\n",
              " 'rfloordiv',\n",
              " 'rmod',\n",
              " 'rmul',\n",
              " 'rolling',\n",
              " 'round',\n",
              " 'rpow',\n",
              " 'rsub',\n",
              " 'rtruediv',\n",
              " 'sample',\n",
              " 'select_dtypes',\n",
              " 'sem',\n",
              " 'set_axis',\n",
              " 'set_flags',\n",
              " 'set_index',\n",
              " 'shape',\n",
              " 'shift',\n",
              " 'size',\n",
              " 'skew',\n",
              " 'slice_shift',\n",
              " 'sort_index',\n",
              " 'sort_values',\n",
              " 'squeeze',\n",
              " 'stack',\n",
              " 'std',\n",
              " 'style',\n",
              " 'sub',\n",
              " 'subtract',\n",
              " 'sum',\n",
              " 'swapaxes',\n",
              " 'swaplevel',\n",
              " 'tail',\n",
              " 'take',\n",
              " 'to_clipboard',\n",
              " 'to_csv',\n",
              " 'to_dict',\n",
              " 'to_excel',\n",
              " 'to_feather',\n",
              " 'to_gbq',\n",
              " 'to_hdf',\n",
              " 'to_html',\n",
              " 'to_json',\n",
              " 'to_latex',\n",
              " 'to_markdown',\n",
              " 'to_numpy',\n",
              " 'to_parquet',\n",
              " 'to_period',\n",
              " 'to_pickle',\n",
              " 'to_records',\n",
              " 'to_sql',\n",
              " 'to_stata',\n",
              " 'to_string',\n",
              " 'to_timestamp',\n",
              " 'to_xarray',\n",
              " 'to_xml',\n",
              " 'transform',\n",
              " 'transpose',\n",
              " 'truediv',\n",
              " 'truncate',\n",
              " 'tz_convert',\n",
              " 'tz_localize',\n",
              " 'unstack',\n",
              " 'update',\n",
              " 'value_counts',\n",
              " 'values',\n",
              " 'var',\n",
              " 'where',\n",
              " 'workshop',\n",
              " 'xs']"
            ]
          },
          "metadata": {},
          "execution_count": 47
        }
      ]
    },
    {
      "cell_type": "code",
      "source": [],
      "metadata": {
        "id": "y_Tq2nL8kdTr"
      },
      "execution_count": null,
      "outputs": []
    },
    {
      "cell_type": "markdown",
      "source": [
        "###---PYTHON VARIABLES---\n",
        " \n",
        "Python's variable Types:\n",
        "\n",
        "Number (int, long, float, Complex)\n",
        "\n",
        "String\n",
        "\n",
        "Boolean: True or False\n",
        "\n",
        "List\n",
        "\n",
        "Tuple\n",
        "\n",
        "Dictionary\n",
        "\n",
        "We focus on list today. For details, see \n",
        "https://www.tutorialspoint.com/python/python_variable_types.htm\n",
        "Example."
      ],
      "metadata": {
        "id": "znO3hC2ckhOJ"
      }
    },
    {
      "cell_type": "code",
      "source": [
        "x =  1\n",
        "type(x)\n"
      ],
      "metadata": {
        "colab": {
          "base_uri": "https://localhost:8080/"
        },
        "id": "Ml-L5xMIk1IQ",
        "outputId": "008becd4-7a8b-4030-9d2f-8bf371b50a02"
      },
      "execution_count": 13,
      "outputs": [
        {
          "output_type": "execute_result",
          "data": {
            "text/plain": [
              "int"
            ]
          },
          "metadata": {},
          "execution_count": 13
        }
      ]
    },
    {
      "cell_type": "code",
      "source": [
        "y = 1.2\n",
        "print(type(y))"
      ],
      "metadata": {
        "colab": {
          "base_uri": "https://localhost:8080/"
        },
        "id": "Y0UbEMeeleyA",
        "outputId": "1652c8c3-0023-4ebb-f136-3aff0881d3c9"
      },
      "execution_count": 14,
      "outputs": [
        {
          "output_type": "stream",
          "name": "stdout",
          "text": [
            "<class 'float'>\n"
          ]
        }
      ]
    },
    {
      "cell_type": "code",
      "source": [
        "a = \"string\"\n",
        "print(type(a))"
      ],
      "metadata": {
        "colab": {
          "base_uri": "https://localhost:8080/"
        },
        "id": "usxRAwhkliDY",
        "outputId": "c77a7440-42b7-4acf-ff17-d2aa722c826e"
      },
      "execution_count": 15,
      "outputs": [
        {
          "output_type": "stream",
          "name": "stdout",
          "text": [
            "<class 'str'>\n"
          ]
        }
      ]
    },
    {
      "cell_type": "markdown",
      "source": [
        "#### exercise 1 \n",
        "Write a program that assigns three variables, one of each types: string, int,\n",
        "and float. Variable names and values can be arbitrary. \n",
        "Print each variable out to the screen."
      ],
      "metadata": {
        "id": "6aIKz_IKlmE3"
      }
    },
    {
      "cell_type": "code",
      "source": [
        " "
      ],
      "metadata": {
        "id": "_SFF-x7HltFb"
      },
      "execution_count": 7,
      "outputs": []
    },
    {
      "cell_type": "markdown",
      "source": [
        "**Create a list**\n",
        "\n",
        "A list contains items separated by commas and enclosed within square brackets ([ ])."
      ],
      "metadata": {
        "id": "69nzUpmflvZ4"
      }
    },
    {
      "cell_type": "code",
      "source": [
        "id = [1, 2, 3, 4, 5, 6, 7, 8]\n",
        "# Note: first item's index is 0 not 1.\n",
        "# Show the first item of id.\n",
        "id[0]\n",
        "\n"
      ],
      "metadata": {
        "colab": {
          "base_uri": "https://localhost:8080/"
        },
        "id": "GZQ7M_wFl7SZ",
        "outputId": "0e615889-8ccc-4bff-d99b-65152ba16cc2"
      },
      "execution_count": 16,
      "outputs": [
        {
          "output_type": "execute_result",
          "data": {
            "text/plain": [
              "1"
            ]
          },
          "metadata": {},
          "execution_count": 16
        }
      ]
    },
    {
      "cell_type": "code",
      "source": [
        "id[7]"
      ],
      "metadata": {
        "colab": {
          "base_uri": "https://localhost:8080/"
        },
        "id": "8jerkjD9mENy",
        "outputId": "69548dcc-e971-465b-90c5-e9fd0cd15720"
      },
      "execution_count": 17,
      "outputs": [
        {
          "output_type": "execute_result",
          "data": {
            "text/plain": [
              "8"
            ]
          },
          "metadata": {},
          "execution_count": 17
        }
      ]
    },
    {
      "cell_type": "code",
      "source": [
        "# Items can be mixed types in a list.\n",
        "mixlist = [\"a\", 1]\n",
        "print(mixlist)"
      ],
      "metadata": {
        "colab": {
          "base_uri": "https://localhost:8080/"
        },
        "id": "YNZUx4c6mCHx",
        "outputId": "219c87b7-b066-42a2-9242-76c95f49a7de"
      },
      "execution_count": 18,
      "outputs": [
        {
          "output_type": "stream",
          "name": "stdout",
          "text": [
            "['a', 1]\n"
          ]
        }
      ]
    },
    {
      "cell_type": "markdown",
      "source": [
        "#### exercise 2##\n",
        "\n",
        "The top five highest mountain peaks on Earth, according to Wikipedia, are as follows:\n",
        "\n",
        "1) Mount Everest / Sagarmatha / Chomolungma 8,848 m\n",
        "\n",
        "2) K2 / Qogir / Godwin Austen 8,611 m\n",
        "\n",
        "3) Kangchenjunga             8,586 m\n",
        "\n",
        "4) Lhotse                    8,516 m\n",
        "\n",
        "5) Makalu                    8,485 m\n",
        "\n",
        "Use five mountain names, but store them as only names in a list (you \n",
        "can use one name of your choice for those with multiple names). \n",
        "Then, print to the screen the name of Kangchenjunga by referencing \n",
        "its index position in the list.\n",
        "\n",
        "Hint ```Mtn = [\"K2\",  \"Kangchenjunga\" ]```"
      ],
      "metadata": {
        "id": "yThMw-Sgm3en"
      }
    },
    {
      "cell_type": "code",
      "source": [],
      "metadata": {
        "id": "yN96W2jCnWHt"
      },
      "execution_count": 10,
      "outputs": []
    },
    {
      "cell_type": "markdown",
      "source": [
        "**Tuples**: Like lists, contains several items enclosed within parenthesis.\n",
        "But it is immutable, and usually used for smaller sequences\n",
        "of things that are related to each other.\n",
        "Think of Cartesian coordinates:(x, y, z)\n",
        "The differences between tuples and lists are, the tuples cannot be changed\n",
        "unlike lists, tuples use parentheses, whereas lists use square brackets."
      ],
      "metadata": {
        "id": "ccMJ0twOnXl6"
      }
    },
    {
      "cell_type": "code",
      "source": [
        "aTuple = (\"foo\", \"bar\")\n",
        "len(aTuple)"
      ],
      "metadata": {
        "colab": {
          "base_uri": "https://localhost:8080/"
        },
        "id": "bEvTQjQvns9A",
        "outputId": "b01751f1-1b57-4f05-d1b1-16ffb5f4d616"
      },
      "execution_count": 11,
      "outputs": [
        {
          "output_type": "execute_result",
          "data": {
            "text/plain": [
              "2"
            ]
          },
          "metadata": {},
          "execution_count": 11
        }
      ]
    },
    {
      "cell_type": "code",
      "source": [
        "# Following action is not valid for tuples\n",
        "# aTuple[0] = 100\n",
        "aTuple[0] = 100"
      ],
      "metadata": {
        "colab": {
          "base_uri": "https://localhost:8080/",
          "height": 201
        },
        "id": "pjPqUKZwntzo",
        "outputId": "af2248b4-cd93-41e4-ada4-efae5a927cd7"
      },
      "execution_count": 19,
      "outputs": [
        {
          "output_type": "error",
          "ename": "TypeError",
          "evalue": "ignored",
          "traceback": [
            "\u001b[0;31m---------------------------------------------------------------------------\u001b[0m",
            "\u001b[0;31mTypeError\u001b[0m                                 Traceback (most recent call last)",
            "\u001b[0;32m<ipython-input-19-3fcaee1adda9>\u001b[0m in \u001b[0;36m<module>\u001b[0;34m\u001b[0m\n\u001b[1;32m      1\u001b[0m \u001b[0;31m# Following action is not valid for tuples\u001b[0m\u001b[0;34m\u001b[0m\u001b[0;34m\u001b[0m\u001b[0;34m\u001b[0m\u001b[0m\n\u001b[1;32m      2\u001b[0m \u001b[0;31m# aTuple[0] = 100\u001b[0m\u001b[0;34m\u001b[0m\u001b[0;34m\u001b[0m\u001b[0;34m\u001b[0m\u001b[0m\n\u001b[0;32m----> 3\u001b[0;31m \u001b[0maTuple\u001b[0m\u001b[0;34m[\u001b[0m\u001b[0;36m0\u001b[0m\u001b[0;34m]\u001b[0m \u001b[0;34m=\u001b[0m \u001b[0;36m100\u001b[0m\u001b[0;34m\u001b[0m\u001b[0;34m\u001b[0m\u001b[0m\n\u001b[0m",
            "\u001b[0;31mTypeError\u001b[0m: 'tuple' object does not support item assignment"
          ]
        }
      ]
    },
    {
      "cell_type": "code",
      "source": [
        "# list can be changed.\n",
        "alist = [\"foo\", \"bar\"]\n",
        "alist[0] = 100\n",
        "\n",
        "print(alist)"
      ],
      "metadata": {
        "id": "_3TIIyIunwIX",
        "colab": {
          "base_uri": "https://localhost:8080/"
        },
        "outputId": "db726354-9e55-456f-bfef-4f0a717aac52"
      },
      "execution_count": 20,
      "outputs": [
        {
          "output_type": "stream",
          "name": "stdout",
          "text": [
            "[100, 'bar']\n"
          ]
        }
      ]
    },
    {
      "cell_type": "markdown",
      "source": [
        "#### exercise 3\n",
        "\n",
        "create a tuple use Kangchenjunga's name and height and then query the height of the Kanchenjunga.\n",
        "\n",
        "hint: ``` mtn = (\"K2\", 8611)```"
      ],
      "metadata": {
        "id": "iTvObh5Jn0m7"
      }
    },
    {
      "cell_type": "markdown",
      "source": [
        "**Dicitonairy**: A collection of variables indexed by other, \"key\" variables. Instead of using numeric or default index in python, if you want to create your own index, you need to use dictionary.\n",
        "\"**Curly Braces {}**\" are used in Python to define a dictionary ."
      ],
      "metadata": {
        "id": "ck6rpD6-oC-m"
      }
    },
    {
      "cell_type": "code",
      "source": [
        "aDict = {}\n",
        "aDict[\"a\"] = 364936\n",
        "aDict[\"b\"] = 12.4\n",
        "aDict[7] = \"hi\""
      ],
      "metadata": {
        "id": "zUI14zcEoCVN"
      },
      "execution_count": 21,
      "outputs": []
    },
    {
      "cell_type": "code",
      "source": [
        "print(aDict)\n"
      ],
      "metadata": {
        "colab": {
          "base_uri": "https://localhost:8080/"
        },
        "id": "LwivreVzoYYy",
        "outputId": "ca1d9d8e-a059-4118-a287-44f001ce917c"
      },
      "execution_count": 22,
      "outputs": [
        {
          "output_type": "stream",
          "name": "stdout",
          "text": [
            "{'a': 364936, 'b': 12.4, 7: 'hi'}\n"
          ]
        }
      ]
    },
    {
      "cell_type": "code",
      "source": [
        "aDict[\"a\"]\n"
      ],
      "metadata": {
        "colab": {
          "base_uri": "https://localhost:8080/"
        },
        "id": "kW248GOCoc0z",
        "outputId": "4ba9f964-d5f3-4adf-9029-d191710d616c"
      },
      "execution_count": 24,
      "outputs": [
        {
          "output_type": "execute_result",
          "data": {
            "text/plain": [
              "364936"
            ]
          },
          "metadata": {},
          "execution_count": 24
        }
      ]
    },
    {
      "cell_type": "code",
      "source": [
        "aDict[\"b\"]\n"
      ],
      "metadata": {
        "colab": {
          "base_uri": "https://localhost:8080/"
        },
        "id": "bGcoVYcloh8S",
        "outputId": "275031f1-baa8-4531-f520-f0d239abae4c"
      },
      "execution_count": 25,
      "outputs": [
        {
          "output_type": "execute_result",
          "data": {
            "text/plain": [
              "12.4"
            ]
          },
          "metadata": {},
          "execution_count": 25
        }
      ]
    },
    {
      "cell_type": "code",
      "source": [
        "aDict[7]"
      ],
      "metadata": {
        "colab": {
          "base_uri": "https://localhost:8080/",
          "height": 35
        },
        "id": "RE9xhp14NhJ2",
        "outputId": "6d8a4ae6-f557-424f-ecdd-f6cd843f6a24"
      },
      "execution_count": 26,
      "outputs": [
        {
          "output_type": "execute_result",
          "data": {
            "text/plain": [
              "'hi'"
            ],
            "application/vnd.google.colaboratory.intrinsic+json": {
              "type": "string"
            }
          },
          "metadata": {},
          "execution_count": 26
        }
      ]
    },
    {
      "cell_type": "markdown",
      "source": [
        "#### exercise 4\n",
        "Mary’s favorite candy is chocolate, Rodrigo’s favorite is bubble gum, and\n",
        "Larry’s is gummy bears. Write a dictionary that stores, for each person, \n",
        "their favorite candy. Then, pick a person among the three, and, using the \n",
        "dictionary keys you defined, print to the screen a statement something to \n",
        "the effect of “Mary’s candy of choice is chocolate.” \n",
        "\n",
        "Make sure that your print() statement is a concatenation of some text and the result of querying your dictionary for that person’s favorite candy. \n",
        "\n",
        "Hint: \n",
        "```python\n",
        "aDict = {\"Mary\": \"Chocolate\"}\n",
        "print(\"Mary's candy of chocie is \" + aDict[\"Mary\"])\n",
        "```"
      ],
      "metadata": {
        "id": "3rXmV-F-oj1a"
      }
    },
    {
      "cell_type": "code",
      "source": [],
      "metadata": {
        "id": "6yVqI-hNpAFg"
      },
      "execution_count": null,
      "outputs": []
    },
    {
      "cell_type": "markdown",
      "source": [
        "**Keywords**: reserved words in python.\n",
        "Cannot be used as a variable name."
      ],
      "metadata": {
        "id": "ATBGiRu0pEMb"
      }
    },
    {
      "cell_type": "code",
      "source": [
        "import keyword\n",
        "print(keyword.kwlist)"
      ],
      "metadata": {
        "colab": {
          "base_uri": "https://localhost:8080/"
        },
        "id": "TmdHLnsOpBkm",
        "outputId": "09921983-e555-471d-fcf4-481f1bd4b206"
      },
      "execution_count": 27,
      "outputs": [
        {
          "output_type": "stream",
          "name": "stdout",
          "text": [
            "['False', 'None', 'True', 'and', 'as', 'assert', 'async', 'await', 'break', 'class', 'continue', 'def', 'del', 'elif', 'else', 'except', 'finally', 'for', 'from', 'global', 'if', 'import', 'in', 'is', 'lambda', 'nonlocal', 'not', 'or', 'pass', 'raise', 'return', 'try', 'while', 'with', 'yield']\n"
          ]
        }
      ]
    },
    {
      "cell_type": "markdown",
      "source": [
        "### ---PYTHON FUNCTIONS---\n",
        "\n",
        "As you already know, Python gives you many built-in\n",
        "functions e.g. print(mydata), dir( ), type( )\n",
        "\n",
        "When you use a function, you \"call\" its name.\n",
        "\n",
        "print( ) is the default function\n",
        "  so this function call:  print(q1)"
      ],
      "metadata": {
        "id": "o4aJAifipUl6"
      }
    },
    {
      "cell_type": "code",
      "source": [
        "print(\"hello world\")"
      ],
      "metadata": {
        "colab": {
          "base_uri": "https://localhost:8080/"
        },
        "id": "n81TlWExppbM",
        "outputId": "eae37459-ad12-49c0-c150-48793448244f"
      },
      "execution_count": null,
      "outputs": [
        {
          "output_type": "stream",
          "name": "stdout",
          "text": [
            "hello world\n"
          ]
        }
      ]
    },
    {
      "cell_type": "markdown",
      "source": [
        "### ---USER-DEFINED FUNCTIONS---\n",
        "\n",
        "A function statement starts with the def keyword, followed by\n",
        "the function name, parameters and keywords and end with a colon\":\".\n",
        "\n",
        "Parameters/keywords in a function are called \"arguments\". Arguments are enclosed within parentheses\n",
        "and separated by commas. \n",
        "\n",
        "In python, user-defined functions can take four\n",
        "different types of arguments. The argument types\n",
        "and their meanings, however, are pre-defined and\n",
        "can’t be changed. \n",
        "\n",
        "A function use indentation to define the content of the function.\n",
        "The content indents four spaces.\n",
        "\n",
        "Use **Tab** key as the shortcut\n",
        "\n",
        "The colon is used to declare the start of an indented block.\n",
        "\n",
        "When we need to use indentation:\n",
        "\n",
        "    if/else statement\n",
        "\n",
        "    for/while statement\n",
        "\n",
        "    def statement\n",
        "\n",
        "    class statement\n"
      ],
      "metadata": {
        "id": "rC6cLH3FsEQt"
      }
    },
    {
      "cell_type": "code",
      "source": [
        "# example:\n",
        "def my_function():\n",
        "  print(\"Hello from a function\")\n",
        "# Calling a function\n",
        "# To call a function, use the function name followed by parenthesis:\n",
        "my_function()"
      ],
      "metadata": {
        "colab": {
          "base_uri": "https://localhost:8080/"
        },
        "id": "7tKOBUf4sv0n",
        "outputId": "70fcef3d-4b8c-4482-9256-44a407818d6a"
      },
      "execution_count": 28,
      "outputs": [
        {
          "output_type": "stream",
          "name": "stdout",
          "text": [
            "Hello from a function\n"
          ]
        }
      ]
    },
    {
      "cell_type": "code",
      "source": [
        "# example:\n",
        "def my_function_with_args(username, greeting):\n",
        "    print(\"Hello \"+ username + \" From My Function!, I wish you \" + greeting + \"!\")"
      ],
      "metadata": {
        "id": "UCDjCliTsykC"
      },
      "execution_count": 31,
      "outputs": []
    },
    {
      "cell_type": "code",
      "source": [
        "#prints - \"Hello, Julia, From My Function!, I wish you a great year!\"\n",
        "my_function_with_args(\"Mary\", \"a great year\")"
      ],
      "metadata": {
        "colab": {
          "base_uri": "https://localhost:8080/"
        },
        "id": "-VVGEfUSs08X",
        "outputId": "45c9854e-0185-456a-964f-cef7b5a66951"
      },
      "execution_count": 32,
      "outputs": [
        {
          "output_type": "stream",
          "name": "stdout",
          "text": [
            "Hello Mary From My Function!, I wish you a great year!\n"
          ]
        }
      ]
    },
    {
      "cell_type": "markdown",
      "source": [
        "###---FUNCTION OUTPUT---\n",
        "\n",
        "Returning a value from a function, Not only can\n",
        "you pass a parameter value into a function, a function\n",
        "can also produce a value, i.e., Output.\n",
        "\n",
        "For example,"
      ],
      "metadata": {
        "id": "q0RkWT3xs358"
      }
    },
    {
      "cell_type": "code",
      "source": [
        "len(aDict)"
      ],
      "metadata": {
        "colab": {
          "base_uri": "https://localhost:8080/"
        },
        "id": "CdrSSMR5s_YU",
        "outputId": "85263339-0487-4d6c-a0cc-278765a4caeb"
      },
      "execution_count": 33,
      "outputs": [
        {
          "output_type": "execute_result",
          "data": {
            "text/plain": [
              "3"
            ]
          },
          "metadata": {},
          "execution_count": 33
        }
      ]
    },
    {
      "cell_type": "markdown",
      "source": [
        "That value is a single object that may contain\n",
        "much information (e.g. data frame, list)"
      ],
      "metadata": {
        "id": "AqtghbqDtRBc"
      }
    },
    {
      "cell_type": "code",
      "source": [
        "#  Example\n",
        "def square(x):\n",
        "    y = x * x\n",
        "    return y\n",
        "\n",
        "result = square(10)\n",
        "print(result)\n",
        "# Note: Cannot use print to return a value"
      ],
      "metadata": {
        "colab": {
          "base_uri": "https://localhost:8080/"
        },
        "id": "G-rbQqHptXGp",
        "outputId": "52302c93-b09d-4b2b-d5b4-c2e9cb425173"
      },
      "execution_count": 34,
      "outputs": [
        {
          "output_type": "stream",
          "name": "stdout",
          "text": [
            "100\n"
          ]
        }
      ]
    },
    {
      "cell_type": "markdown",
      "source": [
        "#### exercies 5\n",
        "\n",
        "write a function that will return a person's BMI, where height and weight are two variable names passed to the function as the argument. \n",
        "\n",
        "Then call your function to compute a person's BMI with heigh of 1.6m and weight of 75kg. \n",
        "\n",
        "Hint: \n",
        " ```python\n",
        "       def BMI(weight, height): \n",
        "           aBMI = weight / (height * height)\n",
        "```\n",
        "\n",
        "Formula: weight (kg) / [height (cm)]^2 \n",
        "\n",
        "Formula: weight (lb) / [height (in)]^2 x 703"
      ],
      "metadata": {
        "id": "Id_nu9WBtcL4"
      }
    },
    {
      "cell_type": "markdown",
      "source": [
        "###---CONDITIONAL STATEMENTS---\n",
        "\n",
        "In the real world, we commonly must evaluate information\n",
        "around us and then choose one course of action or another\n",
        "based on what we observed: \n",
        "\n",
        "For example,\n",
        "\n",
        "    \"If the weather is nice, then I’ll mow the lawn.\n",
        "\n",
        "     Otherwise, I won’t mow.\"\n",
        "\n",
        "   * if/else-statement\n",
        "\n",
        "   * if/elif/else-statement\n",
        "\n",
        "\n",
        "Blocks of code under if statements are executed as long\n",
        "as the stated condition is true."
      ],
      "metadata": {
        "id": "sHENNLbluq5t"
      }
    },
    {
      "cell_type": "code",
      "source": [
        "# Here is an if/else-statement example:\n",
        "weather = str(input('How is the weather today, nice or not? '))\n",
        "if weather == \"nice\":\n",
        "    print('I will mow the Lawn')\n",
        "else:\n",
        "    print(\"I won't mow the Lawn\")\n",
        "#note: double equal sign is used here. "
      ],
      "metadata": {
        "colab": {
          "base_uri": "https://localhost:8080/"
        },
        "id": "YLIr4G-5uqAH",
        "outputId": "cd9a6fa8-85ef-48b3-975a-e2b164101229"
      },
      "execution_count": 35,
      "outputs": [
        {
          "output_type": "stream",
          "name": "stdout",
          "text": [
            "How is the weather today, nice or not? nice\n",
            "I will mow the Lawn\n"
          ]
        }
      ]
    },
    {
      "cell_type": "code",
      "source": [
        "# Can have elif (which is a contraction of \"else if\") and/or\n",
        "# else statements associated, when the condition is not true.\n",
        "# If/elif/else statement example,\n",
        "i = 1\n",
        "j = 2\n",
        "if i + j == 3:\n",
        "    print(\"three\")\n",
        "elif i + j == 2:\n",
        "    print(\"two\")\n",
        "else:\n",
        "    print(\"neither!\")"
      ],
      "metadata": {
        "colab": {
          "base_uri": "https://localhost:8080/"
        },
        "id": "AwTZ1wMFwBP3",
        "outputId": "c7f92166-bee4-435c-af70-ce7769442fcc"
      },
      "execution_count": 36,
      "outputs": [
        {
          "output_type": "stream",
          "name": "stdout",
          "text": [
            "three\n"
          ]
        }
      ]
    },
    {
      "cell_type": "code",
      "source": [
        "# Create a function\n",
        "\n",
        "def checkNumber(i, j):\n",
        "    if i + j == 3:\n",
        "        print(\"three\")\n",
        "    elif i + j == 2:\n",
        "        print(\"two\")\n",
        "    else:\n",
        "        print(\"neither!\")"
      ],
      "metadata": {
        "id": "nT37W7lMwTDx"
      },
      "execution_count": 37,
      "outputs": []
    },
    {
      "cell_type": "code",
      "source": [
        "checkNumber(1, 1)\n"
      ],
      "metadata": {
        "colab": {
          "base_uri": "https://localhost:8080/"
        },
        "id": "-MSZMdQNwa3m",
        "outputId": "b2d21a0f-5ac5-4714-d18b-932fc0221831"
      },
      "execution_count": 38,
      "outputs": [
        {
          "output_type": "stream",
          "name": "stdout",
          "text": [
            "two\n"
          ]
        }
      ]
    },
    {
      "cell_type": "code",
      "source": [
        "checkNumber(10, 1)"
      ],
      "metadata": {
        "colab": {
          "base_uri": "https://localhost:8080/"
        },
        "id": "7c9f31f_weCN",
        "outputId": "6d4cdfd7-9148-4df8-a971-9584bf636c12"
      },
      "execution_count": 39,
      "outputs": [
        {
          "output_type": "stream",
          "name": "stdout",
          "text": [
            "neither!\n"
          ]
        }
      ]
    },
    {
      "cell_type": "code",
      "source": [
        "# ---TABLE OF LOGICAL COMPARISONS---\n",
        "#\n",
        "# Equals              ==\n",
        "# Less than           <\n",
        "# Greater than        >\n",
        "# Less or equal       <=\n",
        "# Greater or equal    >=\n",
        "# Not equal           !=\n",
        "# And                 &\n",
        "# Or                  |\n",
        "# 0<=x<=1             (x >= 0) & (x <=1)"
      ],
      "metadata": {
        "id": "X0kKcrAvwsZg"
      },
      "execution_count": null,
      "outputs": []
    },
    {
      "cell_type": "markdown",
      "source": [
        "\n",
        "#### exercise 6 \n",
        "\n",
        "Import the random module, and use the random function in it that gives you\n",
        "an integer value from the range [1, 1000), print to the screen a message saying the number is odd or even. Part of the code are shown below."
      ],
      "metadata": {
        "id": "mXlevewywik5"
      }
    },
    {
      "cell_type": "code",
      "source": [
        "from random import randint\n",
        "# generate a random number ranging from 0 to 1000\n",
        "n = randint(0,1000)\n",
        "m = n % 2 # Modulo (%) calculates the remainder after division.\n",
        "print(n)\n",
        "# Plese write the if else statement below,\n",
        "if :\n",
        "    print(\"odd\")\n",
        "else: \n",
        "    print(\"even\")"
      ],
      "metadata": {
        "colab": {
          "base_uri": "https://localhost:8080/",
          "height": 131
        },
        "id": "UBW0xro-wg9v",
        "outputId": "0357a1ec-543c-48d4-fde2-4a3c085e913b"
      },
      "execution_count": null,
      "outputs": [
        {
          "output_type": "error",
          "ename": "SyntaxError",
          "evalue": "ignored",
          "traceback": [
            "\u001b[0;36m  File \u001b[0;32m\"<ipython-input-72-58f9fef6d0b0>\"\u001b[0;36m, line \u001b[0;32m7\u001b[0m\n\u001b[0;31m    if :\u001b[0m\n\u001b[0m       ^\u001b[0m\n\u001b[0;31mSyntaxError\u001b[0m\u001b[0;31m:\u001b[0m invalid syntax\n"
          ]
        }
      ]
    },
    {
      "cell_type": "markdown",
      "source": [
        "### --- ITERATION---\n",
        "Iteration is typically done by means of a loop,\n",
        "being a piece of code that is executed repeatedly.\n",
        "We can control how often a loop repeats, or whether it repeats at all,\n",
        "with control flow statements, which evaluates conditions.\n",
        "\n",
        "Control flow statements can control more than just loops.\n",
        "\n",
        "For more control flow statements, see\n",
        "https://docs.python.org/2.7/tutorial/controlflow.html\n",
        "\n",
        "#### ---FOR STATEMENT---\n",
        "\n",
        "Blocks of code under for statements repeat themselves for each\n",
        "elements of some iterable object. They make a for loop.\n"
      ],
      "metadata": {
        "id": "nBX_sPBo7NNJ"
      }
    },
    {
      "cell_type": "code",
      "source": [
        "namelist = [\"Bob\", \"Josh\", \"Cary\",\"Michael\",\"Rochelle\", \"Sun\", \"Christina\"]\n",
        "\n",
        "for name in namelist:\n",
        "    print (\"Hello \" + name + \", Merry Christmas!\")"
      ],
      "metadata": {
        "colab": {
          "base_uri": "https://localhost:8080/"
        },
        "id": "5AkCBH9N7iQt",
        "outputId": "52839afc-a1e9-4e61-918b-d2485975d85c"
      },
      "execution_count": 40,
      "outputs": [
        {
          "output_type": "stream",
          "name": "stdout",
          "text": [
            "Hello Bob, Merry Christmas!\n",
            "Hello Josh, Merry Christmas!\n",
            "Hello Cary, Merry Christmas!\n",
            "Hello Michael, Merry Christmas!\n",
            "Hello Rochelle, Merry Christmas!\n",
            "Hello Sun, Merry Christmas!\n",
            "Hello Christina, Merry Christmas!\n"
          ]
        }
      ]
    },
    {
      "cell_type": "markdown",
      "source": [
        "Iterable objects are those that have a defined sequence of zero or more objects.\n",
        "\n",
        "e.g. lists, strings, tuples, etc."
      ],
      "metadata": {
        "id": "bNUy99e-7s_B"
      }
    },
    {
      "cell_type": "code",
      "source": [
        "aText = \"Hello world!\"\n",
        "\n",
        "for i in aText:\n",
        "    print(i)"
      ],
      "metadata": {
        "colab": {
          "base_uri": "https://localhost:8080/"
        },
        "id": "9bgY0dyz7kyi",
        "outputId": "edf43c0a-e6bd-4c2b-94eb-7b028225499b"
      },
      "execution_count": 41,
      "outputs": [
        {
          "output_type": "stream",
          "name": "stdout",
          "text": [
            "H\n",
            "e\n",
            "l\n",
            "l\n",
            "o\n",
            " \n",
            "w\n",
            "o\n",
            "r\n",
            "l\n",
            "d\n",
            "!\n"
          ]
        }
      ]
    },
    {
      "cell_type": "markdown",
      "source": [
        "###---RANGE FUNCTION---\n",
        "\n",
        "Often we want to repeat an action some specified number of\n",
        "times, rather than over a collection of objects.\n",
        "\n",
        "The range() function returns an iterable object of numbers, of size\n",
        "(and optionally, starting value and increment) you ask for. In python,\n",
        "we iterate on that.\n",
        "\n",
        "Ask for a range of itegers, starting at zero and ending before 7."
      ],
      "metadata": {
        "id": "-rA58AFq8non"
      }
    },
    {
      "cell_type": "code",
      "source": [
        "aRange =  range(7)\n",
        "for i in aRange:\n",
        "    print(i)"
      ],
      "metadata": {
        "colab": {
          "base_uri": "https://localhost:8080/"
        },
        "id": "ZXnxhUmO81IQ",
        "outputId": "cfe65536-d062-45ce-d2e2-68d610a7819d"
      },
      "execution_count": 42,
      "outputs": [
        {
          "output_type": "stream",
          "name": "stdout",
          "text": [
            "0\n",
            "1\n",
            "2\n",
            "3\n",
            "4\n",
            "5\n",
            "6\n"
          ]
        }
      ]
    },
    {
      "cell_type": "code",
      "source": [
        "for i in range(3, 7): # start at 3 end before 7\n",
        "    print(i)"
      ],
      "metadata": {
        "colab": {
          "base_uri": "https://localhost:8080/"
        },
        "id": "__rEtV9E85ou",
        "outputId": "134f1619-8bcf-4703-d21c-b66aa7252a73"
      },
      "execution_count": 43,
      "outputs": [
        {
          "output_type": "stream",
          "name": "stdout",
          "text": [
            "3\n",
            "4\n",
            "5\n",
            "6\n"
          ]
        }
      ]
    },
    {
      "cell_type": "code",
      "source": [
        "for i in range(2, 12, 3): #start at 2, end before 12, increment by 3\n",
        "    print(i)"
      ],
      "metadata": {
        "colab": {
          "base_uri": "https://localhost:8080/"
        },
        "id": "kalcvfQh87ho",
        "outputId": "164b8e8a-87d1-4428-e4ec-9a7387972f45"
      },
      "execution_count": 44,
      "outputs": [
        {
          "output_type": "stream",
          "name": "stdout",
          "text": [
            "2\n",
            "5\n",
            "8\n",
            "11\n"
          ]
        }
      ]
    },
    {
      "cell_type": "markdown",
      "source": [
        "#### exercise 7 \n",
        "Use the range() function to do exercise 6 five times. "
      ],
      "metadata": {
        "id": "N2t9mfbO8_XJ"
      }
    },
    {
      "cell_type": "code",
      "source": [
        "from random import randint\n",
        "# use for statement to run the statement five times\n",
        "\n",
        "for i in    :\n",
        "    n = randint(0, 1000)\n",
        "    m = n % 2 # Modulo (%) calculates the remainder after division.\n",
        "        # Plese write the if else statement below,\n",
        "    if m==1:\n",
        "        print(str(n) + \" is an odd number.\")\n",
        "    else: \n",
        "        print(str(n) + \" is an even number.\")"
      ],
      "metadata": {
        "colab": {
          "base_uri": "https://localhost:8080/",
          "height": 131
        },
        "id": "rr6yYyqv9Fyn",
        "outputId": "2f2a31c9-af1c-494b-d5f8-41fae4f1badb"
      },
      "execution_count": null,
      "outputs": [
        {
          "output_type": "error",
          "ename": "SyntaxError",
          "evalue": "ignored",
          "traceback": [
            "\u001b[0;36m  File \u001b[0;32m\"<ipython-input-78-c28c484de1d3>\"\u001b[0;36m, line \u001b[0;32m4\u001b[0m\n\u001b[0;31m    for i in    :\u001b[0m\n\u001b[0m                ^\u001b[0m\n\u001b[0;31mSyntaxError\u001b[0m\u001b[0;31m:\u001b[0m invalid syntax\n"
          ]
        }
      ]
    },
    {
      "cell_type": "code",
      "source": [
        "## extra credit assignment ## \n",
        "## exercise 8 ##\n",
        "# use a for statement to calucate the sum of consecutive numbers 1 to 100\n",
        "# print the result to the screen"
      ],
      "metadata": {
        "id": "m03fuVTo9Gxg"
      },
      "execution_count": null,
      "outputs": []
    },
    {
      "cell_type": "code",
      "source": [],
      "metadata": {
        "id": "YHq76-rVa0pA"
      },
      "execution_count": null,
      "outputs": []
    },
    {
      "cell_type": "markdown",
      "source": [
        "####---WHILE STATEMENT ---\n",
        "\n",
        "Sometimes we use a conditional statment to control the number of times\n",
        "a loop repeats. As long as the condition is true, the program\n",
        "will repeatedly execute. So we need to use while statement.\n",
        "\n",
        "Blocks of code under while statements repeat themselves until a\n",
        "specified condition is detected as false - they make a while loop.\n",
        "\n",
        "Before the indented block (re)run, the condition is evaluated. It\n",
        "runs only if the condition is true."
      ],
      "metadata": {
        "id": "k6U0VjBU9RBV"
      }
    },
    {
      "cell_type": "code",
      "source": [
        "i = 0\n",
        "while i < 10:\n",
        "    print(str(i) + \" is less than 10\")\n",
        "    i = i + 1\n",
        "print(i)\n"
      ],
      "metadata": {
        "colab": {
          "base_uri": "https://localhost:8080/"
        },
        "id": "dSd8e6_w9M6d",
        "outputId": "de46fed8-7e0b-4350-d5d5-a96edf3c43b5"
      },
      "execution_count": 52,
      "outputs": [
        {
          "output_type": "stream",
          "name": "stdout",
          "text": [
            "0 is less than 10\n",
            "1 is less than 10\n",
            "2 is less than 10\n",
            "3 is less than 10\n",
            "4 is less than 10\n",
            "5 is less than 10\n",
            "6 is less than 10\n",
            "7 is less than 10\n",
            "8 is less than 10\n",
            "9 is less than 10\n",
            "10\n"
          ]
        }
      ]
    },
    {
      "cell_type": "markdown",
      "source": [
        "If i had left out the increment, i could be always <10,\n",
        "and we'd get an infinite loop.\n",
        "\n",
        "Use Ctrl+C to terminate a loop."
      ],
      "metadata": {
        "id": "0JkNOQO_9dVk"
      }
    },
    {
      "cell_type": "markdown",
      "source": [
        "#### exercise 9 ##\n",
        "To make things concrete and numerical, suppose the following: \n",
        "The tea starts at 115 degrees Fahrenheit. You want it at 112 degrees.\n",
        "A chip of ice turns out to lower the temperature one degree each time. \n",
        "You test the temperature each time, and also print out the temperature \n",
        "before reducing the temperature. In Python you could write and run the code below,:\n"
      ],
      "metadata": {
        "id": "W4kUzn489jdF"
      }
    },
    {
      "cell_type": "code",
      "source": [
        "temperature = 115  \n",
        "while temperature  : # first while loop code\n",
        "    print(str(temperature))\n",
        "    temperature = temperature - 1\n",
        "print('The tea is cool enough.')"
      ],
      "metadata": {
        "colab": {
          "base_uri": "https://localhost:8080/"
        },
        "id": "Wm3RdD5j9uso",
        "outputId": "02cd2387-17ec-4f80-f347-53ef193e3bd5"
      },
      "execution_count": 47,
      "outputs": [
        {
          "output_type": "stream",
          "name": "stdout",
          "text": [
            "115\n",
            "114\n",
            "113\n",
            "The tea is cool enough.\n"
          ]
        }
      ]
    },
    {
      "cell_type": "markdown",
      "source": [
        "#### ---LIST COMPREHENSION---\n",
        "\n",
        "List comprehension offers a shorter syntax when you want to create a new list based on the values of an existing list.\n",
        "\n",
        "**newlist = [expression for item in iterable if condition == True]**\n",
        "\n",
        "Example: Based on a list of fruits, you want a new list, containing only the fruits with the letter \"b\" in the name.\n",
        "\n",
        "Without list comprehension you will have to write a for statement with a conditional test inside:"
      ],
      "metadata": {
        "id": "xH28ewmvIpoC"
      }
    },
    {
      "cell_type": "code",
      "source": [
        "fruits = [\"apple\", \"banana\", \"cherry\", \"kiwi\", \"mango\", \"blue berry\"]\n",
        "newlist = []\n",
        "\n",
        "for x in fruits:\n",
        "  if \"b\" in x:\n",
        "    newlist.append(x)\n",
        "\n",
        "print(newlist)"
      ],
      "metadata": {
        "colab": {
          "base_uri": "https://localhost:8080/"
        },
        "id": "gE6YDDMQKbR5",
        "outputId": "bf25951f-9a86-4a76-e14d-89a9f040a7ae"
      },
      "execution_count": 48,
      "outputs": [
        {
          "output_type": "stream",
          "name": "stdout",
          "text": [
            "['banana', 'blue berry']\n"
          ]
        }
      ]
    },
    {
      "cell_type": "markdown",
      "source": [
        "With list comprehension you can do all that with only one line of code:"
      ],
      "metadata": {
        "id": "FDDSXUQvK3vj"
      }
    },
    {
      "cell_type": "code",
      "source": [
        "newlist = [x for x in fruits if \"b\" in x]\n",
        "\n",
        "print(newlist)"
      ],
      "metadata": {
        "colab": {
          "base_uri": "https://localhost:8080/"
        },
        "id": "M1FnKwZWK3YM",
        "outputId": "0dc3223b-7e67-4a54-b191-c895d07b26d4"
      },
      "execution_count": 49,
      "outputs": [
        {
          "output_type": "stream",
          "name": "stdout",
          "text": [
            "['banana', 'blue berry']\n"
          ]
        }
      ]
    },
    {
      "cell_type": "markdown",
      "source": [
        "**Condition**\n",
        "\n",
        "The condition is like a filter that only accepts the items that valuate to True."
      ],
      "metadata": {
        "id": "piUxVR06LNhK"
      }
    },
    {
      "cell_type": "code",
      "source": [
        "newlist = [x for x in fruits if x == \"apple\"]"
      ],
      "metadata": {
        "id": "hrHhzApjLV9K"
      },
      "execution_count": 50,
      "outputs": []
    },
    {
      "cell_type": "markdown",
      "source": [
        "**Expression**\n",
        "\n",
        "The expression is the current item in the iteration, but it is also the outcome, which you can manipulate before it ends up like a list item in the new list:"
      ],
      "metadata": {
        "id": "ozaCdFAmL0K7"
      }
    },
    {
      "cell_type": "code",
      "source": [
        "newlist = [x.upper() for x in fruits]\n",
        "print(newlist)"
      ],
      "metadata": {
        "colab": {
          "base_uri": "https://localhost:8080/"
        },
        "id": "SzHTQJ_dMLXc",
        "outputId": "32cd0b27-163c-4ab9-8ada-dd2dd89226d1"
      },
      "execution_count": 51,
      "outputs": [
        {
          "output_type": "stream",
          "name": "stdout",
          "text": [
            "['APPLE', 'BANANA', 'CHERRY', 'KIWI', 'MANGO', 'BLUE BERRY']\n"
          ]
        }
      ]
    },
    {
      "cell_type": "markdown",
      "source": [
        "The expression can also contain conditions, not like a filter, but as a way to manipulate the outcome:"
      ],
      "metadata": {
        "id": "sawAV8KNMmsK"
      }
    },
    {
      "cell_type": "code",
      "source": [
        "obj = [\"Even\" if i%2==0 else \"Odd\" for i in range(10)]\n",
        "print(obj)"
      ],
      "metadata": {
        "colab": {
          "base_uri": "https://localhost:8080/"
        },
        "id": "7IlRxjh6MhYD",
        "outputId": "8cd395db-6516-45ff-a1c4-dd6589f5bddc"
      },
      "execution_count": null,
      "outputs": [
        {
          "output_type": "stream",
          "name": "stdout",
          "text": [
            "['Even', 'Odd', 'Even', 'Odd', 'Even', 'Odd', 'Even', 'Odd', 'Even', 'Odd']\n"
          ]
        }
      ]
    },
    {
      "cell_type": "markdown",
      "source": [
        "The expression in the example above says:\n",
        "\n",
        "\"Return even if it is an even number, if it is an odd number return odd\"."
      ],
      "metadata": {
        "id": "6UMKOHLPMvU0"
      }
    },
    {
      "cell_type": "markdown",
      "source": [
        "###---QUESTIONS?---\n",
        "\n",
        "### ---IMPORTING DATA ---\n",
        "\n",
        "\n"
      ],
      "metadata": {
        "id": "05w1s5t-97YY"
      }
    },
    {
      "cell_type": "code",
      "source": [
        "import pandas as pd\n",
        "url = \"https://drive.google.com/uc?id=18O8ANLvClngx1lRO7Q7PPuKn4FQgu5RE&authuser=xzhu8%40vols.utk.edu&usp=drive_fs\"\n",
        "mydata100 = pd.read_csv(url)\n",
        "\n",
        "# show the first five lines of mydata100\n",
        "mydata100.head()"
      ],
      "metadata": {
        "colab": {
          "base_uri": "https://localhost:8080/",
          "height": 206
        },
        "id": "vG6la_S3-rT_",
        "outputId": "009dc6e8-9f05-4085-ea60-bfcb3ab2cedf"
      },
      "execution_count": 53,
      "outputs": [
        {
          "output_type": "execute_result",
          "data": {
            "text/plain": [
              "   Unnamed: 0  id workshop  gender  q1  q2   q3  q4  pretest  posttest\n",
              "0           1   1        R  Female   4   3  4.0   5       72        80\n",
              "1           2   2     SPSS    Male   3   4  3.0   4       70        75\n",
              "2           3   3      SAS  Female   3   2  NaN   3       74        78\n",
              "3           4   4     SPSS  Female   5   4  5.0   3       80        82\n",
              "4           5   5    Stata  Female   4   4  3.0   4       75        81"
            ],
            "text/html": [
              "\n",
              "  <div id=\"df-84dcedcb-eeed-4880-902b-8e01ea66cf8d\">\n",
              "    <div class=\"colab-df-container\">\n",
              "      <div>\n",
              "<style scoped>\n",
              "    .dataframe tbody tr th:only-of-type {\n",
              "        vertical-align: middle;\n",
              "    }\n",
              "\n",
              "    .dataframe tbody tr th {\n",
              "        vertical-align: top;\n",
              "    }\n",
              "\n",
              "    .dataframe thead th {\n",
              "        text-align: right;\n",
              "    }\n",
              "</style>\n",
              "<table border=\"1\" class=\"dataframe\">\n",
              "  <thead>\n",
              "    <tr style=\"text-align: right;\">\n",
              "      <th></th>\n",
              "      <th>Unnamed: 0</th>\n",
              "      <th>id</th>\n",
              "      <th>workshop</th>\n",
              "      <th>gender</th>\n",
              "      <th>q1</th>\n",
              "      <th>q2</th>\n",
              "      <th>q3</th>\n",
              "      <th>q4</th>\n",
              "      <th>pretest</th>\n",
              "      <th>posttest</th>\n",
              "    </tr>\n",
              "  </thead>\n",
              "  <tbody>\n",
              "    <tr>\n",
              "      <th>0</th>\n",
              "      <td>1</td>\n",
              "      <td>1</td>\n",
              "      <td>R</td>\n",
              "      <td>Female</td>\n",
              "      <td>4</td>\n",
              "      <td>3</td>\n",
              "      <td>4.0</td>\n",
              "      <td>5</td>\n",
              "      <td>72</td>\n",
              "      <td>80</td>\n",
              "    </tr>\n",
              "    <tr>\n",
              "      <th>1</th>\n",
              "      <td>2</td>\n",
              "      <td>2</td>\n",
              "      <td>SPSS</td>\n",
              "      <td>Male</td>\n",
              "      <td>3</td>\n",
              "      <td>4</td>\n",
              "      <td>3.0</td>\n",
              "      <td>4</td>\n",
              "      <td>70</td>\n",
              "      <td>75</td>\n",
              "    </tr>\n",
              "    <tr>\n",
              "      <th>2</th>\n",
              "      <td>3</td>\n",
              "      <td>3</td>\n",
              "      <td>SAS</td>\n",
              "      <td>Female</td>\n",
              "      <td>3</td>\n",
              "      <td>2</td>\n",
              "      <td>NaN</td>\n",
              "      <td>3</td>\n",
              "      <td>74</td>\n",
              "      <td>78</td>\n",
              "    </tr>\n",
              "    <tr>\n",
              "      <th>3</th>\n",
              "      <td>4</td>\n",
              "      <td>4</td>\n",
              "      <td>SPSS</td>\n",
              "      <td>Female</td>\n",
              "      <td>5</td>\n",
              "      <td>4</td>\n",
              "      <td>5.0</td>\n",
              "      <td>3</td>\n",
              "      <td>80</td>\n",
              "      <td>82</td>\n",
              "    </tr>\n",
              "    <tr>\n",
              "      <th>4</th>\n",
              "      <td>5</td>\n",
              "      <td>5</td>\n",
              "      <td>Stata</td>\n",
              "      <td>Female</td>\n",
              "      <td>4</td>\n",
              "      <td>4</td>\n",
              "      <td>3.0</td>\n",
              "      <td>4</td>\n",
              "      <td>75</td>\n",
              "      <td>81</td>\n",
              "    </tr>\n",
              "  </tbody>\n",
              "</table>\n",
              "</div>\n",
              "      <button class=\"colab-df-convert\" onclick=\"convertToInteractive('df-84dcedcb-eeed-4880-902b-8e01ea66cf8d')\"\n",
              "              title=\"Convert this dataframe to an interactive table.\"\n",
              "              style=\"display:none;\">\n",
              "        \n",
              "  <svg xmlns=\"http://www.w3.org/2000/svg\" height=\"24px\"viewBox=\"0 0 24 24\"\n",
              "       width=\"24px\">\n",
              "    <path d=\"M0 0h24v24H0V0z\" fill=\"none\"/>\n",
              "    <path d=\"M18.56 5.44l.94 2.06.94-2.06 2.06-.94-2.06-.94-.94-2.06-.94 2.06-2.06.94zm-11 1L8.5 8.5l.94-2.06 2.06-.94-2.06-.94L8.5 2.5l-.94 2.06-2.06.94zm10 10l.94 2.06.94-2.06 2.06-.94-2.06-.94-.94-2.06-.94 2.06-2.06.94z\"/><path d=\"M17.41 7.96l-1.37-1.37c-.4-.4-.92-.59-1.43-.59-.52 0-1.04.2-1.43.59L10.3 9.45l-7.72 7.72c-.78.78-.78 2.05 0 2.83L4 21.41c.39.39.9.59 1.41.59.51 0 1.02-.2 1.41-.59l7.78-7.78 2.81-2.81c.8-.78.8-2.07 0-2.86zM5.41 20L4 18.59l7.72-7.72 1.47 1.35L5.41 20z\"/>\n",
              "  </svg>\n",
              "      </button>\n",
              "      \n",
              "  <style>\n",
              "    .colab-df-container {\n",
              "      display:flex;\n",
              "      flex-wrap:wrap;\n",
              "      gap: 12px;\n",
              "    }\n",
              "\n",
              "    .colab-df-convert {\n",
              "      background-color: #E8F0FE;\n",
              "      border: none;\n",
              "      border-radius: 50%;\n",
              "      cursor: pointer;\n",
              "      display: none;\n",
              "      fill: #1967D2;\n",
              "      height: 32px;\n",
              "      padding: 0 0 0 0;\n",
              "      width: 32px;\n",
              "    }\n",
              "\n",
              "    .colab-df-convert:hover {\n",
              "      background-color: #E2EBFA;\n",
              "      box-shadow: 0px 1px 2px rgba(60, 64, 67, 0.3), 0px 1px 3px 1px rgba(60, 64, 67, 0.15);\n",
              "      fill: #174EA6;\n",
              "    }\n",
              "\n",
              "    [theme=dark] .colab-df-convert {\n",
              "      background-color: #3B4455;\n",
              "      fill: #D2E3FC;\n",
              "    }\n",
              "\n",
              "    [theme=dark] .colab-df-convert:hover {\n",
              "      background-color: #434B5C;\n",
              "      box-shadow: 0px 1px 3px 1px rgba(0, 0, 0, 0.15);\n",
              "      filter: drop-shadow(0px 1px 2px rgba(0, 0, 0, 0.3));\n",
              "      fill: #FFFFFF;\n",
              "    }\n",
              "  </style>\n",
              "\n",
              "      <script>\n",
              "        const buttonEl =\n",
              "          document.querySelector('#df-84dcedcb-eeed-4880-902b-8e01ea66cf8d button.colab-df-convert');\n",
              "        buttonEl.style.display =\n",
              "          google.colab.kernel.accessAllowed ? 'block' : 'none';\n",
              "\n",
              "        async function convertToInteractive(key) {\n",
              "          const element = document.querySelector('#df-84dcedcb-eeed-4880-902b-8e01ea66cf8d');\n",
              "          const dataTable =\n",
              "            await google.colab.kernel.invokeFunction('convertToInteractive',\n",
              "                                                     [key], {});\n",
              "          if (!dataTable) return;\n",
              "\n",
              "          const docLinkHtml = 'Like what you see? Visit the ' +\n",
              "            '<a target=\"_blank\" href=https://colab.research.google.com/notebooks/data_table.ipynb>data table notebook</a>'\n",
              "            + ' to learn more about interactive tables.';\n",
              "          element.innerHTML = '';\n",
              "          dataTable['output_type'] = 'display_data';\n",
              "          await google.colab.output.renderOutput(dataTable, element);\n",
              "          const docLink = document.createElement('div');\n",
              "          docLink.innerHTML = docLinkHtml;\n",
              "          element.appendChild(docLink);\n",
              "        }\n",
              "      </script>\n",
              "    </div>\n",
              "  </div>\n",
              "  "
            ]
          },
          "metadata": {},
          "execution_count": 53
        }
      ]
    },
    {
      "cell_type": "code",
      "source": [
        "# see 10 rows of mydata100\n",
        "mydata100.head(10)"
      ],
      "metadata": {
        "colab": {
          "base_uri": "https://localhost:8080/",
          "height": 363
        },
        "id": "PUOudI54AyeW",
        "outputId": "8f4e3ddd-4754-4604-b048-6c8a5422e8f0"
      },
      "execution_count": 54,
      "outputs": [
        {
          "output_type": "execute_result",
          "data": {
            "text/plain": [
              "   Unnamed: 0  id workshop  gender  q1  q2   q3  q4  pretest  posttest\n",
              "0           1   1        R  Female   4   3  4.0   5       72        80\n",
              "1           2   2     SPSS    Male   3   4  3.0   4       70        75\n",
              "2           3   3      SAS  Female   3   2  NaN   3       74        78\n",
              "3           4   4     SPSS  Female   5   4  5.0   3       80        82\n",
              "4           5   5    Stata  Female   4   4  3.0   4       75        81\n",
              "5           6   6     SPSS  Female   5   4  3.0   5       72        77\n",
              "6           7   7        R  Female   3   1  3.0   4       72        88\n",
              "7           8   8        R  Female   4   4  2.0   5       83        92\n",
              "8           9   9     SPSS  Female   3   2  2.0   1       73        76\n",
              "9          10  10     SPSS  Female   5   5  5.0   5       79        84"
            ],
            "text/html": [
              "\n",
              "  <div id=\"df-2320bc42-12a2-4836-b05b-e0ce52e4ddef\">\n",
              "    <div class=\"colab-df-container\">\n",
              "      <div>\n",
              "<style scoped>\n",
              "    .dataframe tbody tr th:only-of-type {\n",
              "        vertical-align: middle;\n",
              "    }\n",
              "\n",
              "    .dataframe tbody tr th {\n",
              "        vertical-align: top;\n",
              "    }\n",
              "\n",
              "    .dataframe thead th {\n",
              "        text-align: right;\n",
              "    }\n",
              "</style>\n",
              "<table border=\"1\" class=\"dataframe\">\n",
              "  <thead>\n",
              "    <tr style=\"text-align: right;\">\n",
              "      <th></th>\n",
              "      <th>Unnamed: 0</th>\n",
              "      <th>id</th>\n",
              "      <th>workshop</th>\n",
              "      <th>gender</th>\n",
              "      <th>q1</th>\n",
              "      <th>q2</th>\n",
              "      <th>q3</th>\n",
              "      <th>q4</th>\n",
              "      <th>pretest</th>\n",
              "      <th>posttest</th>\n",
              "    </tr>\n",
              "  </thead>\n",
              "  <tbody>\n",
              "    <tr>\n",
              "      <th>0</th>\n",
              "      <td>1</td>\n",
              "      <td>1</td>\n",
              "      <td>R</td>\n",
              "      <td>Female</td>\n",
              "      <td>4</td>\n",
              "      <td>3</td>\n",
              "      <td>4.0</td>\n",
              "      <td>5</td>\n",
              "      <td>72</td>\n",
              "      <td>80</td>\n",
              "    </tr>\n",
              "    <tr>\n",
              "      <th>1</th>\n",
              "      <td>2</td>\n",
              "      <td>2</td>\n",
              "      <td>SPSS</td>\n",
              "      <td>Male</td>\n",
              "      <td>3</td>\n",
              "      <td>4</td>\n",
              "      <td>3.0</td>\n",
              "      <td>4</td>\n",
              "      <td>70</td>\n",
              "      <td>75</td>\n",
              "    </tr>\n",
              "    <tr>\n",
              "      <th>2</th>\n",
              "      <td>3</td>\n",
              "      <td>3</td>\n",
              "      <td>SAS</td>\n",
              "      <td>Female</td>\n",
              "      <td>3</td>\n",
              "      <td>2</td>\n",
              "      <td>NaN</td>\n",
              "      <td>3</td>\n",
              "      <td>74</td>\n",
              "      <td>78</td>\n",
              "    </tr>\n",
              "    <tr>\n",
              "      <th>3</th>\n",
              "      <td>4</td>\n",
              "      <td>4</td>\n",
              "      <td>SPSS</td>\n",
              "      <td>Female</td>\n",
              "      <td>5</td>\n",
              "      <td>4</td>\n",
              "      <td>5.0</td>\n",
              "      <td>3</td>\n",
              "      <td>80</td>\n",
              "      <td>82</td>\n",
              "    </tr>\n",
              "    <tr>\n",
              "      <th>4</th>\n",
              "      <td>5</td>\n",
              "      <td>5</td>\n",
              "      <td>Stata</td>\n",
              "      <td>Female</td>\n",
              "      <td>4</td>\n",
              "      <td>4</td>\n",
              "      <td>3.0</td>\n",
              "      <td>4</td>\n",
              "      <td>75</td>\n",
              "      <td>81</td>\n",
              "    </tr>\n",
              "    <tr>\n",
              "      <th>5</th>\n",
              "      <td>6</td>\n",
              "      <td>6</td>\n",
              "      <td>SPSS</td>\n",
              "      <td>Female</td>\n",
              "      <td>5</td>\n",
              "      <td>4</td>\n",
              "      <td>3.0</td>\n",
              "      <td>5</td>\n",
              "      <td>72</td>\n",
              "      <td>77</td>\n",
              "    </tr>\n",
              "    <tr>\n",
              "      <th>6</th>\n",
              "      <td>7</td>\n",
              "      <td>7</td>\n",
              "      <td>R</td>\n",
              "      <td>Female</td>\n",
              "      <td>3</td>\n",
              "      <td>1</td>\n",
              "      <td>3.0</td>\n",
              "      <td>4</td>\n",
              "      <td>72</td>\n",
              "      <td>88</td>\n",
              "    </tr>\n",
              "    <tr>\n",
              "      <th>7</th>\n",
              "      <td>8</td>\n",
              "      <td>8</td>\n",
              "      <td>R</td>\n",
              "      <td>Female</td>\n",
              "      <td>4</td>\n",
              "      <td>4</td>\n",
              "      <td>2.0</td>\n",
              "      <td>5</td>\n",
              "      <td>83</td>\n",
              "      <td>92</td>\n",
              "    </tr>\n",
              "    <tr>\n",
              "      <th>8</th>\n",
              "      <td>9</td>\n",
              "      <td>9</td>\n",
              "      <td>SPSS</td>\n",
              "      <td>Female</td>\n",
              "      <td>3</td>\n",
              "      <td>2</td>\n",
              "      <td>2.0</td>\n",
              "      <td>1</td>\n",
              "      <td>73</td>\n",
              "      <td>76</td>\n",
              "    </tr>\n",
              "    <tr>\n",
              "      <th>9</th>\n",
              "      <td>10</td>\n",
              "      <td>10</td>\n",
              "      <td>SPSS</td>\n",
              "      <td>Female</td>\n",
              "      <td>5</td>\n",
              "      <td>5</td>\n",
              "      <td>5.0</td>\n",
              "      <td>5</td>\n",
              "      <td>79</td>\n",
              "      <td>84</td>\n",
              "    </tr>\n",
              "  </tbody>\n",
              "</table>\n",
              "</div>\n",
              "      <button class=\"colab-df-convert\" onclick=\"convertToInteractive('df-2320bc42-12a2-4836-b05b-e0ce52e4ddef')\"\n",
              "              title=\"Convert this dataframe to an interactive table.\"\n",
              "              style=\"display:none;\">\n",
              "        \n",
              "  <svg xmlns=\"http://www.w3.org/2000/svg\" height=\"24px\"viewBox=\"0 0 24 24\"\n",
              "       width=\"24px\">\n",
              "    <path d=\"M0 0h24v24H0V0z\" fill=\"none\"/>\n",
              "    <path d=\"M18.56 5.44l.94 2.06.94-2.06 2.06-.94-2.06-.94-.94-2.06-.94 2.06-2.06.94zm-11 1L8.5 8.5l.94-2.06 2.06-.94-2.06-.94L8.5 2.5l-.94 2.06-2.06.94zm10 10l.94 2.06.94-2.06 2.06-.94-2.06-.94-.94-2.06-.94 2.06-2.06.94z\"/><path d=\"M17.41 7.96l-1.37-1.37c-.4-.4-.92-.59-1.43-.59-.52 0-1.04.2-1.43.59L10.3 9.45l-7.72 7.72c-.78.78-.78 2.05 0 2.83L4 21.41c.39.39.9.59 1.41.59.51 0 1.02-.2 1.41-.59l7.78-7.78 2.81-2.81c.8-.78.8-2.07 0-2.86zM5.41 20L4 18.59l7.72-7.72 1.47 1.35L5.41 20z\"/>\n",
              "  </svg>\n",
              "      </button>\n",
              "      \n",
              "  <style>\n",
              "    .colab-df-container {\n",
              "      display:flex;\n",
              "      flex-wrap:wrap;\n",
              "      gap: 12px;\n",
              "    }\n",
              "\n",
              "    .colab-df-convert {\n",
              "      background-color: #E8F0FE;\n",
              "      border: none;\n",
              "      border-radius: 50%;\n",
              "      cursor: pointer;\n",
              "      display: none;\n",
              "      fill: #1967D2;\n",
              "      height: 32px;\n",
              "      padding: 0 0 0 0;\n",
              "      width: 32px;\n",
              "    }\n",
              "\n",
              "    .colab-df-convert:hover {\n",
              "      background-color: #E2EBFA;\n",
              "      box-shadow: 0px 1px 2px rgba(60, 64, 67, 0.3), 0px 1px 3px 1px rgba(60, 64, 67, 0.15);\n",
              "      fill: #174EA6;\n",
              "    }\n",
              "\n",
              "    [theme=dark] .colab-df-convert {\n",
              "      background-color: #3B4455;\n",
              "      fill: #D2E3FC;\n",
              "    }\n",
              "\n",
              "    [theme=dark] .colab-df-convert:hover {\n",
              "      background-color: #434B5C;\n",
              "      box-shadow: 0px 1px 3px 1px rgba(0, 0, 0, 0.15);\n",
              "      filter: drop-shadow(0px 1px 2px rgba(0, 0, 0, 0.3));\n",
              "      fill: #FFFFFF;\n",
              "    }\n",
              "  </style>\n",
              "\n",
              "      <script>\n",
              "        const buttonEl =\n",
              "          document.querySelector('#df-2320bc42-12a2-4836-b05b-e0ce52e4ddef button.colab-df-convert');\n",
              "        buttonEl.style.display =\n",
              "          google.colab.kernel.accessAllowed ? 'block' : 'none';\n",
              "\n",
              "        async function convertToInteractive(key) {\n",
              "          const element = document.querySelector('#df-2320bc42-12a2-4836-b05b-e0ce52e4ddef');\n",
              "          const dataTable =\n",
              "            await google.colab.kernel.invokeFunction('convertToInteractive',\n",
              "                                                     [key], {});\n",
              "          if (!dataTable) return;\n",
              "\n",
              "          const docLinkHtml = 'Like what you see? Visit the ' +\n",
              "            '<a target=\"_blank\" href=https://colab.research.google.com/notebooks/data_table.ipynb>data table notebook</a>'\n",
              "            + ' to learn more about interactive tables.';\n",
              "          element.innerHTML = '';\n",
              "          dataTable['output_type'] = 'display_data';\n",
              "          await google.colab.output.renderOutput(dataTable, element);\n",
              "          const docLink = document.createElement('div');\n",
              "          docLink.innerHTML = docLinkHtml;\n",
              "          element.appendChild(docLink);\n",
              "        }\n",
              "      </script>\n",
              "    </div>\n",
              "  </div>\n",
              "  "
            ]
          },
          "metadata": {},
          "execution_count": 54
        }
      ]
    },
    {
      "cell_type": "markdown",
      "source": [
        "### --- BASIC DESCRIPTIVE ANALYSIS---\n",
        "\n",
        "Get the mean, sum and summary of mydata100"
      ],
      "metadata": {
        "id": "VoGc_8MrA47n"
      }
    },
    {
      "cell_type": "code",
      "source": [
        "mydata100.mean()"
      ],
      "metadata": {
        "colab": {
          "base_uri": "https://localhost:8080/"
        },
        "id": "gnk3NCL5A-RT",
        "outputId": "bbddf8e4-a08e-4a54-91b9-74f22a19419e"
      },
      "execution_count": 55,
      "outputs": [
        {
          "output_type": "stream",
          "name": "stderr",
          "text": [
            "/usr/local/lib/python3.7/dist-packages/ipykernel_launcher.py:1: FutureWarning: Dropping of nuisance columns in DataFrame reductions (with 'numeric_only=None') is deprecated; in a future version this will raise TypeError.  Select only valid columns before calling the reduction.\n",
            "  \"\"\"Entry point for launching an IPython kernel.\n"
          ]
        },
        {
          "output_type": "execute_result",
          "data": {
            "text/plain": [
              "Unnamed: 0    50.500000\n",
              "id            50.500000\n",
              "q1             3.450000\n",
              "q2             3.060000\n",
              "q3             3.080808\n",
              "q4             3.400000\n",
              "pretest       74.970000\n",
              "posttest      82.060000\n",
              "dtype: float64"
            ]
          },
          "metadata": {},
          "execution_count": 55
        }
      ]
    },
    {
      "cell_type": "code",
      "source": [
        "mydata100.sum()"
      ],
      "metadata": {
        "colab": {
          "base_uri": "https://localhost:8080/"
        },
        "id": "1qJbpO7QBGZr",
        "outputId": "22f63783-dc79-41d5-a7d0-d9c43c9aa0fd"
      },
      "execution_count": 56,
      "outputs": [
        {
          "output_type": "execute_result",
          "data": {
            "text/plain": [
              "Unnamed: 0                                                 5050\n",
              "id                                                         5050\n",
              "workshop      RSPSSSASSPSSStataSPSSRRSPSSSPSSSPSSSPSSSASStat...\n",
              "gender        FemaleMaleFemaleFemaleFemaleFemaleFemaleFemale...\n",
              "q1                                                          345\n",
              "q2                                                          306\n",
              "q3                                                        305.0\n",
              "q4                                                          340\n",
              "pretest                                                    7497\n",
              "posttest                                                   8206\n",
              "dtype: object"
            ]
          },
          "metadata": {},
          "execution_count": 56
        }
      ]
    },
    {
      "cell_type": "code",
      "source": [
        "# use describe function\n",
        "basic = mydata100.describe()\n",
        "print(basic)"
      ],
      "metadata": {
        "colab": {
          "base_uri": "https://localhost:8080/"
        },
        "id": "YS82ycvQBJvC",
        "outputId": "37947caa-12b7-4ec8-faf2-354d4bb2f219"
      },
      "execution_count": 57,
      "outputs": [
        {
          "output_type": "stream",
          "name": "stdout",
          "text": [
            "       Unnamed: 0          id          q1          q2         q3         q4  \\\n",
            "count  100.000000  100.000000  100.000000  100.000000  99.000000  100.00000   \n",
            "mean    50.500000   50.500000    3.450000    3.060000   3.080808    3.40000   \n",
            "std     29.011492   29.011492    1.095215    1.221193   1.166512    1.13707   \n",
            "min      1.000000    1.000000    1.000000    1.000000   1.000000    1.00000   \n",
            "25%     25.750000   25.750000    3.000000    2.000000   2.000000    3.00000   \n",
            "50%     50.500000   50.500000    3.000000    3.000000   3.000000    3.00000   \n",
            "75%     75.250000   75.250000    4.000000    4.000000   4.000000    4.00000   \n",
            "max    100.000000  100.000000    5.000000    5.000000   5.000000    5.00000   \n",
            "\n",
            "          pretest    posttest  \n",
            "count  100.000000  100.000000  \n",
            "mean    74.970000   82.060000  \n",
            "std      5.296187    6.590198  \n",
            "min     58.000000   59.000000  \n",
            "25%     72.000000   77.000000  \n",
            "50%     75.000000   82.000000  \n",
            "75%     79.000000   86.000000  \n",
            "max     86.000000   98.000000  \n"
          ]
        }
      ]
    },
    {
      "cell_type": "code",
      "source": [
        "# return the means grouped by gender using groupby methods\n",
        "\n",
        "mydata100.groupby('gender').mean()"
      ],
      "metadata": {
        "colab": {
          "base_uri": "https://localhost:8080/",
          "height": 143
        },
        "id": "umNyJU4XBguD",
        "outputId": "2fee5b55-c41b-49a5-bca7-ce5ab17bbf75"
      },
      "execution_count": 58,
      "outputs": [
        {
          "output_type": "execute_result",
          "data": {
            "text/plain": [
              "        Unnamed: 0         id        q1        q2        q3        q4  \\\n",
              "gender                                                                  \n",
              "Female   44.395833  44.395833  3.958333  3.041667  3.127660  3.354167   \n",
              "Male     56.134615  56.134615  2.980769  3.076923  3.038462  3.442308   \n",
              "\n",
              "          pretest   posttest  \n",
              "gender                        \n",
              "Female  74.604167  81.666667  \n",
              "Male    75.307692  82.423077  "
            ],
            "text/html": [
              "\n",
              "  <div id=\"df-a4dae64c-2b22-453a-a70e-dcd8af80d92d\">\n",
              "    <div class=\"colab-df-container\">\n",
              "      <div>\n",
              "<style scoped>\n",
              "    .dataframe tbody tr th:only-of-type {\n",
              "        vertical-align: middle;\n",
              "    }\n",
              "\n",
              "    .dataframe tbody tr th {\n",
              "        vertical-align: top;\n",
              "    }\n",
              "\n",
              "    .dataframe thead th {\n",
              "        text-align: right;\n",
              "    }\n",
              "</style>\n",
              "<table border=\"1\" class=\"dataframe\">\n",
              "  <thead>\n",
              "    <tr style=\"text-align: right;\">\n",
              "      <th></th>\n",
              "      <th>Unnamed: 0</th>\n",
              "      <th>id</th>\n",
              "      <th>q1</th>\n",
              "      <th>q2</th>\n",
              "      <th>q3</th>\n",
              "      <th>q4</th>\n",
              "      <th>pretest</th>\n",
              "      <th>posttest</th>\n",
              "    </tr>\n",
              "    <tr>\n",
              "      <th>gender</th>\n",
              "      <th></th>\n",
              "      <th></th>\n",
              "      <th></th>\n",
              "      <th></th>\n",
              "      <th></th>\n",
              "      <th></th>\n",
              "      <th></th>\n",
              "      <th></th>\n",
              "    </tr>\n",
              "  </thead>\n",
              "  <tbody>\n",
              "    <tr>\n",
              "      <th>Female</th>\n",
              "      <td>44.395833</td>\n",
              "      <td>44.395833</td>\n",
              "      <td>3.958333</td>\n",
              "      <td>3.041667</td>\n",
              "      <td>3.127660</td>\n",
              "      <td>3.354167</td>\n",
              "      <td>74.604167</td>\n",
              "      <td>81.666667</td>\n",
              "    </tr>\n",
              "    <tr>\n",
              "      <th>Male</th>\n",
              "      <td>56.134615</td>\n",
              "      <td>56.134615</td>\n",
              "      <td>2.980769</td>\n",
              "      <td>3.076923</td>\n",
              "      <td>3.038462</td>\n",
              "      <td>3.442308</td>\n",
              "      <td>75.307692</td>\n",
              "      <td>82.423077</td>\n",
              "    </tr>\n",
              "  </tbody>\n",
              "</table>\n",
              "</div>\n",
              "      <button class=\"colab-df-convert\" onclick=\"convertToInteractive('df-a4dae64c-2b22-453a-a70e-dcd8af80d92d')\"\n",
              "              title=\"Convert this dataframe to an interactive table.\"\n",
              "              style=\"display:none;\">\n",
              "        \n",
              "  <svg xmlns=\"http://www.w3.org/2000/svg\" height=\"24px\"viewBox=\"0 0 24 24\"\n",
              "       width=\"24px\">\n",
              "    <path d=\"M0 0h24v24H0V0z\" fill=\"none\"/>\n",
              "    <path d=\"M18.56 5.44l.94 2.06.94-2.06 2.06-.94-2.06-.94-.94-2.06-.94 2.06-2.06.94zm-11 1L8.5 8.5l.94-2.06 2.06-.94-2.06-.94L8.5 2.5l-.94 2.06-2.06.94zm10 10l.94 2.06.94-2.06 2.06-.94-2.06-.94-.94-2.06-.94 2.06-2.06.94z\"/><path d=\"M17.41 7.96l-1.37-1.37c-.4-.4-.92-.59-1.43-.59-.52 0-1.04.2-1.43.59L10.3 9.45l-7.72 7.72c-.78.78-.78 2.05 0 2.83L4 21.41c.39.39.9.59 1.41.59.51 0 1.02-.2 1.41-.59l7.78-7.78 2.81-2.81c.8-.78.8-2.07 0-2.86zM5.41 20L4 18.59l7.72-7.72 1.47 1.35L5.41 20z\"/>\n",
              "  </svg>\n",
              "      </button>\n",
              "      \n",
              "  <style>\n",
              "    .colab-df-container {\n",
              "      display:flex;\n",
              "      flex-wrap:wrap;\n",
              "      gap: 12px;\n",
              "    }\n",
              "\n",
              "    .colab-df-convert {\n",
              "      background-color: #E8F0FE;\n",
              "      border: none;\n",
              "      border-radius: 50%;\n",
              "      cursor: pointer;\n",
              "      display: none;\n",
              "      fill: #1967D2;\n",
              "      height: 32px;\n",
              "      padding: 0 0 0 0;\n",
              "      width: 32px;\n",
              "    }\n",
              "\n",
              "    .colab-df-convert:hover {\n",
              "      background-color: #E2EBFA;\n",
              "      box-shadow: 0px 1px 2px rgba(60, 64, 67, 0.3), 0px 1px 3px 1px rgba(60, 64, 67, 0.15);\n",
              "      fill: #174EA6;\n",
              "    }\n",
              "\n",
              "    [theme=dark] .colab-df-convert {\n",
              "      background-color: #3B4455;\n",
              "      fill: #D2E3FC;\n",
              "    }\n",
              "\n",
              "    [theme=dark] .colab-df-convert:hover {\n",
              "      background-color: #434B5C;\n",
              "      box-shadow: 0px 1px 3px 1px rgba(0, 0, 0, 0.15);\n",
              "      filter: drop-shadow(0px 1px 2px rgba(0, 0, 0, 0.3));\n",
              "      fill: #FFFFFF;\n",
              "    }\n",
              "  </style>\n",
              "\n",
              "      <script>\n",
              "        const buttonEl =\n",
              "          document.querySelector('#df-a4dae64c-2b22-453a-a70e-dcd8af80d92d button.colab-df-convert');\n",
              "        buttonEl.style.display =\n",
              "          google.colab.kernel.accessAllowed ? 'block' : 'none';\n",
              "\n",
              "        async function convertToInteractive(key) {\n",
              "          const element = document.querySelector('#df-a4dae64c-2b22-453a-a70e-dcd8af80d92d');\n",
              "          const dataTable =\n",
              "            await google.colab.kernel.invokeFunction('convertToInteractive',\n",
              "                                                     [key], {});\n",
              "          if (!dataTable) return;\n",
              "\n",
              "          const docLinkHtml = 'Like what you see? Visit the ' +\n",
              "            '<a target=\"_blank\" href=https://colab.research.google.com/notebooks/data_table.ipynb>data table notebook</a>'\n",
              "            + ' to learn more about interactive tables.';\n",
              "          element.innerHTML = '';\n",
              "          dataTable['output_type'] = 'display_data';\n",
              "          await google.colab.output.renderOutput(dataTable, element);\n",
              "          const docLink = document.createElement('div');\n",
              "          docLink.innerHTML = docLinkHtml;\n",
              "          element.appendChild(docLink);\n",
              "        }\n",
              "      </script>\n",
              "    </div>\n",
              "  </div>\n",
              "  "
            ]
          },
          "metadata": {},
          "execution_count": 58
        }
      ]
    },
    {
      "cell_type": "code",
      "source": [
        "# return means/median/std group by gender using groupby \n",
        "\n",
        "out = mydata100.groupby('gender').agg(['mean', 'median', 'std'])\n",
        "print(out)"
      ],
      "metadata": {
        "colab": {
          "base_uri": "https://localhost:8080/"
        },
        "id": "rC3V9a_sBjMK",
        "outputId": "1552b184-52c9-4c43-f265-2fe04a50d3bc"
      },
      "execution_count": 59,
      "outputs": [
        {
          "output_type": "stream",
          "name": "stdout",
          "text": [
            "       Unnamed: 0                           id                          q1  \\\n",
            "             mean median        std       mean median        std      mean   \n",
            "gender                                                                       \n",
            "Female  44.395833   44.5  28.720028  44.395833   44.5  28.720028  3.958333   \n",
            "Male    56.134615   55.0  28.394303  56.134615   55.0  28.394303  2.980769   \n",
            "\n",
            "                               q2  ...       q3        q4                   \\\n",
            "       median       std      mean  ...      std      mean median       std   \n",
            "gender                             ...                                       \n",
            "Female    4.0  0.944375  3.041667  ...  1.20897  3.354167    3.0  1.101055   \n",
            "Male      3.0  1.019234  3.076923  ...  1.13693  3.442308    3.5  1.178458   \n",
            "\n",
            "          pretest                    posttest                   \n",
            "             mean median       std       mean median       std  \n",
            "gender                                                          \n",
            "Female  74.604167   74.0  5.233849  81.666667   81.0  6.025949  \n",
            "Male    75.307692   75.0  5.381663  82.423077   83.0  7.110738  \n",
            "\n",
            "[2 rows x 24 columns]\n"
          ]
        }
      ]
    },
    {
      "cell_type": "markdown",
      "source": [
        "###---BASE GRAPHICS USING SEABORN---"
      ],
      "metadata": {
        "id": "jDIov1_kA9pa"
      }
    },
    {
      "cell_type": "code",
      "source": [
        "import seaborn as sns\n",
        "import matplotlib \n",
        "import matplotlib.pyplot as plt\n",
        "import pandas as pd\n",
        "\n",
        "# Barplot\n",
        "\n",
        "# Barplot stacked\n",
        "sns.set(color_codes=True) #Change how matplotlib color shorthands are interpreted.\n",
        "sns.catplot(x=\"workshop\", kind=\"count\", color=\"b\", data=mydata100)\n",
        "plt.show()"
      ],
      "metadata": {
        "colab": {
          "base_uri": "https://localhost:8080/",
          "height": 382
        },
        "id": "tF3MfX54BqNu",
        "outputId": "fbc80645-326c-4f22-dd31-06245856903e"
      },
      "execution_count": 62,
      "outputs": [
        {
          "output_type": "execute_result",
          "data": {
            "text/plain": [
              "<seaborn.axisgrid.FacetGrid at 0x7fe770dedb50>"
            ]
          },
          "metadata": {},
          "execution_count": 62
        },
        {
          "output_type": "display_data",
          "data": {
            "text/plain": [
              "<Figure size 360x360 with 1 Axes>"
            ],
            "image/png": "[encoded data removed]"
          },
          "metadata": {}
        }
      ]
    },
    {
      "cell_type": "code",
      "source": [
        "# Boxplot\n",
        "# Draw a single horizontal boxplot:\n",
        "sns.boxplot(x=mydata100[\"posttest\"])\n",
        "plt.show()"
      ],
      "metadata": {
        "colab": {
          "base_uri": "https://localhost:8080/",
          "height": 285
        },
        "id": "JWdw7k3gBv2o",
        "outputId": "84dd8e23-8a83-4be8-c4f7-3c611117ca2c"
      },
      "execution_count": 63,
      "outputs": [
        {
          "output_type": "display_data",
          "data": {
            "text/plain": [
              "<Figure size 432x288 with 1 Axes>"
            ],
            "image/png": "[encoded data removed]"
          },
          "metadata": {}
        }
      ]
    },
    {
      "cell_type": "code",
      "source": [
        "#Draw a vertical boxplot grouped by a categorical variable:\n",
        "sns.boxplot(x=\"workshop\", y=\"posttest\", data=mydata100)\n",
        "plt.show()"
      ],
      "metadata": {
        "colab": {
          "base_uri": "https://localhost:8080/",
          "height": 285
        },
        "id": "tN37cl3AB2bO",
        "outputId": "af0f71c8-9b9a-4d3a-faac-6c2b1545191a"
      },
      "execution_count": 64,
      "outputs": [
        {
          "output_type": "display_data",
          "data": {
            "text/plain": [
              "<Figure size 432x288 with 1 Axes>"
            ],
            "image/png": "[encoded data removed]"
          },
          "metadata": {}
        }
      ]
    },
    {
      "cell_type": "code",
      "source": [
        "#Draw a boxplot with nested grouping by two categorical variables:\n",
        "sns.boxplot(x=\"workshop\", y=\"posttest\", hue=\"gender\",\n",
        "                 data=mydata100)\n",
        "plt.show()"
      ],
      "metadata": {
        "colab": {
          "base_uri": "https://localhost:8080/",
          "height": 285
        },
        "id": "uwGiAigiB5zD",
        "outputId": "7d0d3830-6892-4752-ab90-d190b56e3968"
      },
      "execution_count": 65,
      "outputs": [
        {
          "output_type": "display_data",
          "data": {
            "text/plain": [
              "<Figure size 432x288 with 1 Axes>"
            ],
            "image/png": "[encoded data removed]"
          },
          "metadata": {}
        }
      ]
    },
    {
      "cell_type": "code",
      "source": [
        "# Scatterplot\n",
        "sns.set_style(\"whitegrid\")\n",
        "sns.scatterplot(x=\"pretest\", y=\"posttest\", data=mydata100)\n",
        "# Draw a scatterplot of two variables, x and y,\n",
        "# and then fit the regression model y ~ x\n",
        "# and plot the resulting regression line\n",
        "# and a 95% confidence interval for that regression:\n",
        "sns.regplot(x=\"pretest\", y=\"posttest\", data=mydata100)\n",
        "#plt.show()"
      ],
      "metadata": {
        "colab": {
          "base_uri": "https://localhost:8080/",
          "height": 302
        },
        "id": "c4N7CZoAB9fY",
        "outputId": "cb26aba8-8440-428b-f7f0-021745a64a19"
      },
      "execution_count": 67,
      "outputs": [
        {
          "output_type": "execute_result",
          "data": {
            "text/plain": [
              "<matplotlib.axes._subplots.AxesSubplot at 0x7fe770d8cf90>"
            ]
          },
          "metadata": {},
          "execution_count": 67
        },
        {
          "output_type": "display_data",
          "data": {
            "text/plain": [
              "<Figure size 432x288 with 1 Axes>"
            ],
            "image/png": "[encoded data removed]"
          },
          "metadata": {}
        }
      ]
    },
    {
      "cell_type": "code",
      "source": [
        "# Histogram\n",
        "\n",
        "sns.distplot(mydata100['posttest'])\n",
        "plt.show()"
      ],
      "metadata": {
        "colab": {
          "base_uri": "https://localhost:8080/",
          "height": 340
        },
        "id": "kV8pH_e2CFMP",
        "outputId": "2a6d18f3-4923-4abd-f279-a7781241f842"
      },
      "execution_count": 68,
      "outputs": [
        {
          "output_type": "stream",
          "name": "stderr",
          "text": [
            "/usr/local/lib/python3.7/dist-packages/seaborn/distributions.py:2619: FutureWarning: `distplot` is a deprecated function and will be removed in a future version. Please adapt your code to use either `displot` (a figure-level function with similar flexibility) or `histplot` (an axes-level function for histograms).\n",
            "  warnings.warn(msg, FutureWarning)\n"
          ]
        },
        {
          "output_type": "display_data",
          "data": {
            "text/plain": [
              "<Figure size 432x288 with 1 Axes>"
            ],
            "image/png": "[encoded data removed]"
          },
          "metadata": {}
        }
      ]
    },
    {
      "cell_type": "code",
      "source": [
        "from scipy.stats import norm\n",
        "# Get rid of kernel fit\n",
        "hist2 = sns.distplot(mydata100['posttest'], fit=norm, kde=False)\n",
        "#plt.show()"
      ],
      "metadata": {
        "colab": {
          "base_uri": "https://localhost:8080/",
          "height": 340
        },
        "id": "-KOLgxGmCKT9",
        "outputId": "128fbdf9-85c9-4bb7-eaea-62b8d3fbf5f8"
      },
      "execution_count": 69,
      "outputs": [
        {
          "output_type": "stream",
          "name": "stderr",
          "text": [
            "/usr/local/lib/python3.7/dist-packages/seaborn/distributions.py:2619: FutureWarning: `distplot` is a deprecated function and will be removed in a future version. Please adapt your code to use either `displot` (a figure-level function with similar flexibility) or `histplot` (an axes-level function for histograms).\n",
            "  warnings.warn(msg, FutureWarning)\n"
          ]
        },
        {
          "output_type": "display_data",
          "data": {
            "text/plain": [
              "<Figure size 432x288 with 1 Axes>"
            ],
            "image/png": "[encoded data removed]"
          },
          "metadata": {}
        }
      ]
    },
    {
      "cell_type": "markdown",
      "source": [
        "For many more examples, see: https://seaborn.pydata.org/tutorial.html."
      ],
      "metadata": {
        "id": "ElEnojKrCQ5Q"
      }
    },
    {
      "cell_type": "markdown",
      "source": [
        "### ---LISTING OBJECTS IN YOUR WORKSPACE---\n",
        "\n",
        "%who: Print all interactive variables, with some minimal formatting.\n",
        "\n",
        "%whos: like %who, but gives some extra information about each variable.\n",
        "\n"
      ],
      "metadata": {
        "id": "LxRxY4OdCYoK"
      }
    },
    {
      "cell_type": "code",
      "source": [
        "%who\n",
        "%whos\n"
      ],
      "metadata": {
        "colab": {
          "base_uri": "https://localhost:8080/"
        },
        "id": "H7fFb_6SCiki",
        "outputId": "b8ac9f72-eae7-4f61-a2fc-a3d6de991617"
      },
      "execution_count": null,
      "outputs": [
        {
          "output_type": "stream",
          "name": "stdout",
          "text": [
            "a\t aDict\t aRange\t aText\t aTuple\t alist\t basic\t checkNumber\t hist2\t \n",
            "i\t id\t j\t keyword\t matplotlib\t mixlist\t my_function\t my_function_with_args\t mydata\t \n",
            "mydata100\t name\t namelist\t norm\t os\t out\t pd\t plt\t result\t \n",
            "sns\t square\t sys\t temperature\t url\t weather\t x\t y\t \n",
            "Variable                Type           Data/Info\n",
            "------------------------------------------------\n",
            "a                       str            string\n",
            "aDict                   dict           n=3\n",
            "aRange                  range          range(0, 7)\n",
            "aText                   str            Hello world!\n",
            "aTuple                  tuple          n=2\n",
            "alist                   list           n=2\n",
            "basic                   DataFrame             Unnamed: 0        <...>  86.000000   98.000000  \n",
            "checkNumber             function       <function checkNumber at 0x7fa9ff818050>\n",
            "hist2                   AxesSubplot    AxesSubplot(0.125,0.125;0.775x0.755)\n",
            "i                       int            10\n",
            "id                      list           n=8\n",
            "j                       int            2\n",
            "keyword                 module         <module 'keyword' from '/<...>ib/python3.7/keyword.py'>\n",
            "matplotlib              module         <module 'matplotlib' from<...>/matplotlib/__init__.py'>\n",
            "mixlist                 list           n=2\n",
            "my_function             function       <function my_function at 0x7fa9ff828710>\n",
            "my_function_with_args   function       <function my_function_wit<...>h_args at 0x7fa9ff828680>\n",
            "mydata                  DataFrame         id  workshop gender\\n0<...>m\\n7   8         2      m\n",
            "mydata100               DataFrame          Unnamed: 0   id works<...>\\n[100 rows x 10 columns]\n",
            "name                    str            Christina\n",
            "namelist                list           n=7\n",
            "norm                    norm_gen       <scipy.stats._continuous_<...>object at 0x7faa04903d10>\n",
            "os                      module         <module 'os' from '/usr/lib/python3.7/os.py'>\n",
            "out                     DataFrame             Unnamed: 0        <...>\\n\\n[2 rows x 24 columns]\n",
            "pd                      module         <module 'pandas' from '/u<...>ages/pandas/__init__.py'>\n",
            "plt                     module         <module 'matplotlib.pyplo<...>es/matplotlib/pyplot.py'>\n",
            "result                  int            100\n",
            "sns                     module         <module 'seaborn' from '/<...>ges/seaborn/__init__.py'>\n",
            "square                  function       <function square at 0x7fa9ff828050>\n",
            "sys                     module         <module 'sys' (built-in)>\n",
            "temperature             int            0\n",
            "url                     str            https://drive.google.com/<...>vols.utk.edu&usp=drive_fs\n",
            "weather                 str            nice\n",
            "x                       int            1\n",
            "y                       float          1.2\n"
          ]
        }
      ]
    },
    {
      "cell_type": "markdown",
      "source": [
        "### ---DELETING OBJECTS---\n",
        "\n",
        "The del( ) function deletes (Removes) objects\n",
        "\n",
        "\n"
      ],
      "metadata": {
        "id": "4SAT01vtClQI"
      }
    },
    {
      "cell_type": "code",
      "source": [
        "del(mydata)\n",
        "mydata"
      ],
      "metadata": {
        "colab": {
          "base_uri": "https://localhost:8080/",
          "height": 184
        },
        "id": "Ql5cY1U3CpwJ",
        "outputId": "4b66928d-efb9-4c22-e3bd-719036d958b4"
      },
      "execution_count": 70,
      "outputs": [
        {
          "output_type": "error",
          "ename": "NameError",
          "evalue": "ignored",
          "traceback": [
            "\u001b[0;31m---------------------------------------------------------------------------\u001b[0m",
            "\u001b[0;31mNameError\u001b[0m                                 Traceback (most recent call last)",
            "\u001b[0;32m<ipython-input-70-a6408eca9b9a>\u001b[0m in \u001b[0;36m<module>\u001b[0;34m\u001b[0m\n\u001b[0;32m----> 1\u001b[0;31m \u001b[0;32mdel\u001b[0m\u001b[0;34m(\u001b[0m\u001b[0mmydata\u001b[0m\u001b[0;34m)\u001b[0m\u001b[0;34m\u001b[0m\u001b[0;34m\u001b[0m\u001b[0m\n\u001b[0m\u001b[1;32m      2\u001b[0m \u001b[0mmydata\u001b[0m\u001b[0;34m\u001b[0m\u001b[0;34m\u001b[0m\u001b[0m\n",
            "\u001b[0;31mNameError\u001b[0m: name 'mydata' is not defined"
          ]
        }
      ]
    },
    {
      "cell_type": "code",
      "source": [
        "# You can remove a list using:\n",
        "# del list\n",
        "\n",
        "del id\n",
        "id"
      ],
      "metadata": {
        "colab": {
          "base_uri": "https://localhost:8080/"
        },
        "id": "z7ZFMRMkCtOg",
        "outputId": "10965877-7e93-42d3-a754-c9479c17acd8"
      },
      "execution_count": 71,
      "outputs": [
        {
          "output_type": "execute_result",
          "data": {
            "text/plain": [
              "<function id(obj, /)>"
            ]
          },
          "metadata": {},
          "execution_count": 71
        }
      ]
    },
    {
      "cell_type": "markdown",
      "source": [
        "### ---SAVING YOUR WORK---\n",
        "\n",
        "Save your progs & results with File: Save as...\n",
        "\n",
        "Export a dataframe in your workspace as csv: dataframe.to_csv('test.csv')\n",
        "```python\n",
        "mydata100.to_csv( r'C:\\Users\\XZHU8\\Documents\\test.csv')\n",
        "```\n",
        "\n",
        "Save a datafram as excel: dataframe.to_excel('test.xls', index=False)\n",
        "\n",
        "```python\n",
        "mydata100.to_excel('test.xls', index=False)\n",
        "```"
      ],
      "metadata": {
        "id": "_DzycrDjDGYx"
      }
    },
    {
      "cell_type": "code",
      "source": [
        "#Download the data from colab \n",
        "from google.colab import files\n",
        "import pandas as pd\n",
        "mydata100.to_csv('example_file.csv')\n",
        "files.download('example_file.csv')"
      ],
      "metadata": {
        "colab": {
          "base_uri": "https://localhost:8080/",
          "height": 17
        },
        "id": "7Fb6hZUrgbHO",
        "outputId": "4b2b5e10-b3c1-431e-ae5f-b91b34bb2861"
      },
      "execution_count": 72,
      "outputs": [
        {
          "output_type": "display_data",
          "data": {
            "text/plain": [
              "<IPython.core.display.Javascript object>"
            ],
            "application/javascript": [
              "\n",
              "    async function download(id, filename, size) {\n",
              "      if (!google.colab.kernel.accessAllowed) {\n",
              "        return;\n",
              "      }\n",
              "      const div = document.createElement('div');\n",
              "      const label = document.createElement('label');\n",
              "      label.textContent = `Downloading \"${filename}\": `;\n",
              "      div.appendChild(label);\n",
              "      const progress = document.createElement('progress');\n",
              "      progress.max = size;\n",
              "      div.appendChild(progress);\n",
              "      document.body.appendChild(div);\n",
              "\n",
              "      const buffers = [];\n",
              "      let downloaded = 0;\n",
              "\n",
              "      const channel = await google.colab.kernel.comms.open(id);\n",
              "      // Send a message to notify the kernel that we're ready.\n",
              "      channel.send({})\n",
              "\n",
              "      for await (const message of channel.messages) {\n",
              "        // Send a message to notify the kernel that we're ready.\n",
              "        channel.send({})\n",
              "        if (message.buffers) {\n",
              "          for (const buffer of message.buffers) {\n",
              "            buffers.push(buffer);\n",
              "            downloaded += buffer.byteLength;\n",
              "            progress.value = downloaded;\n",
              "          }\n",
              "        }\n",
              "      }\n",
              "      const blob = new Blob(buffers, {type: 'application/binary'});\n",
              "      const a = document.createElement('a');\n",
              "      a.href = window.URL.createObjectURL(blob);\n",
              "      a.download = filename;\n",
              "      div.appendChild(a);\n",
              "      a.click();\n",
              "      div.remove();\n",
              "    }\n",
              "  "
            ]
          },
          "metadata": {}
        },
        {
          "output_type": "display_data",
          "data": {
            "text/plain": [
              "<IPython.core.display.Javascript object>"
            ],
            "application/javascript": [
              "download(\"download_51e487ea-7572-46bd-8d12-7ff60759c563\", \"example_file.csv\", 3528)"
            ]
          },
          "metadata": {}
        }
      ]
    },
    {
      "cell_type": "markdown",
      "source": [
        "### --- QUESTIONS? ---\n",
        "\n",
        "\n",
        "### ---GOOD SOURCES OF PYTHON HELP---\n",
        "\n",
        "UT people get 15 hours per semester of\n",
        "free help in 540 Greve Hall:\n",
        "\n",
        "   HelpDesk: 974-9900\n",
        "\n",
        "   Walk-in Schedule:\n",
        "\n",
        "   http://oit.utk.edu/research/schedule\n",
        "\n",
        "\n",
        "Python & R cheat sheets: https://www.datacamp.com/community/data-science-cheatsheets?page=3\n",
        "\n",
        "R & SAS/SPSS/Stata:     http://www.r4stats.com\n",
        "\n",
        "Linkedin learning:      https://oit.utk.edu/training/online-training/lil/\n",
        "\n",
        "Stackoverflow:          https://stackoverflow.com/questions\n",
        "\n",
        "\n",
        "### ---In a New Browser Tab---\n",
        "\n",
        "https://workshop.utk.edu/feedback.php"
      ],
      "metadata": {
        "id": "d-tHk_P6DdwK"
      }
    }
  ]
}