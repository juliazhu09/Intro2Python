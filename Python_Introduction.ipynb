{
  "cells": [
    {
      "cell_type": "markdown",
      "metadata": {
        "id": "view-in-github",
        "colab_type": "text"
      },
      "source": [
        "<a href=\"https://colab.research.google.com/github/juliazhu09/Intro2Python/blob/master/Python_Introduction.ipynb\" target=\"_parent\"><img src=\"https://colab.research.google.com/assets/colab-badge.svg\" alt=\"Open In Colab\"/></a>"
      ]
    },
    {
      "cell_type": "markdown",
      "metadata": {
        "id": "X6lz5nHQZ3SL"
      },
      "source": [
        "# Python: Introduction\n",
        "\n",
        "### Xiaojuan Zhu\n",
        "### OIT Research Computing Support\n",
        "### Help Desk: 865-974-9900"
      ]
    },
    {
      "cell_type": "markdown",
      "metadata": {
        "id": "LdItTS6AFga6"
      },
      "source": [
        "## Research Support\n",
        "\n",
        "Offers up to 15 free hours of research assistance each semester to most students, faculty, and staff. Includes assistance with:\n",
        "* SAS, SPSS, R, MATLAB, QDA Miner…\n",
        "* Research Planning, design, sample size…\n",
        "* Data entry, management, file conversions\n",
        "* Statistics, mathematics, data mining\n",
        "* Qualitative analysis and text analytics\n",
        "* Web survey design and deployment (Qualtrics)\n",
        "* Optical mark scanning and scoring\n",
        "\n",
        "See web page http://oit.utk.edu/research for details\n",
        "\n",
        "**If you want to get statstical help, you can make an appointment with us by calling the help desk, 865-974-9900.**"
      ]
    },
    {
      "cell_type": "markdown",
      "metadata": {
        "id": "8Ea5mmF8KxJt"
      },
      "source": [
        "![image](https://drive.google.com/uc?id=18TgIQW2UDPFEp-7Q0U3iwEis01urfRLH&authuser=xzhu8%40vols.utk.edu&usp=drive_fs)"
      ]
    },
    {
      "cell_type": "code",
      "source": [
        "print(\"Hello world\")"
      ],
      "metadata": {
        "id": "uPzOrKY_iFHy"
      },
      "execution_count": null,
      "outputs": []
    },
    {
      "cell_type": "markdown",
      "metadata": {
        "id": "zuXKM5LYLAMR"
      },
      "source": [
        "# What is python?\n",
        "\n",
        "https://www.youtube.com/watch?v=Y8Tko2YC5hA\n",
        "\n"
      ]
    },
    {
      "cell_type": "code",
      "execution_count": null,
      "metadata": {
        "id": "x7k_WfzFLiEl"
      },
      "outputs": [],
      "source": []
    },
    {
      "cell_type": "markdown",
      "metadata": {
        "id": "Wm74TDjJcSBv"
      },
      "source": [
        "### ---Install Add-on Pacakges---\n",
        "\n",
        "A Python package refers to a directory of Python\n",
        "module(s). A module in python is a .py file that\n",
        "defines one or more function/classes which you\n",
        "intend to reuse in different codes of your program.\n",
        "Use PIP to install a package either in a command prompt\n",
        "window or in Anaconda.\n",
        "\n",
        "To use them, we import them. Submodeles/functions can be stored\n",
        "in packages, and accessed with dot syntax.\n",
        "\n",
        "Some packages, such as sys and os, have already been installed\n",
        "in python, you do not need to install it again. We can import\n",
        "it directly.\n",
        "\n",
        "Official Python description of modules and importing them:\n",
        "https://docs.python.org/2/tutorial/modules.html\n",
        "\n",
        "\n"
      ]
    },
    {
      "cell_type": "code",
      "execution_count": null,
      "metadata": {
        "id": "oviB750JaMhi"
      },
      "outputs": [],
      "source": [
        "import sys\n",
        "print(sys.executable)"
      ]
    },
    {
      "cell_type": "markdown",
      "metadata": {
        "id": "PnkzGxLXc_Tg"
      },
      "source": [
        "#### **Install a package using Anaconda Prompt**\n",
        "``` conda install pacakagename ```\n",
        "\n",
        "For example:\n",
        "\n",
        "``` conda install seaborn ```\n",
        "\n",
        "#### **Install a package using windows CMD/Mac terminal**\n",
        "\n",
        "``` pip install pacakagename```\n",
        "\n",
        "For example:\n",
        "\n",
        "``` pip install seaborn ```\n",
        "\n",
        "For details, please see the youtube vedio here, https://www.youtube.com/watch?v=Z_Kxg-EYvxM&t=4s.\n",
        "\n",
        "#### **Install a package in google colab**\n",
        "```!pip install a package```\n",
        "\n",
        "Colab environment comes with a number of pre-installed scientific and machine learning packages such as **numpy, scipy, pandas, tensorflow, and pytorch.**\n",
        "\n",
        "We can check the installed python packages at Colab using ```pip freeze```"
      ]
    },
    {
      "cell_type": "code",
      "execution_count": null,
      "metadata": {
        "id": "EsFouUlGgLuk"
      },
      "outputs": [],
      "source": [
        "!pip install seaborn\n"
      ]
    },
    {
      "cell_type": "markdown",
      "metadata": {
        "id": "T-EN5e3kiEPi"
      },
      "source": [
        "You only install a package once on your machine (not Colab), but you need to import it from the package\n",
        "each time when you start python.\n",
        "\n",
        "I do it repeatedly in this workshop to\n",
        "emphasize that a package is being used."
      ]
    },
    {
      "cell_type": "code",
      "execution_count": null,
      "metadata": {
        "id": "uwzj77lrgwPP"
      },
      "outputs": [],
      "source": [
        "import os\n",
        "import sys\n",
        "import pandas as pd\n"
      ]
    },
    {
      "cell_type": "markdown",
      "metadata": {
        "id": "F-KUpp9vippO"
      },
      "source": [
        "###---Documenting Your Program---\n",
        "\n",
        "Comments go from \"#\" to the end of the line\n"
      ]
    },
    {
      "cell_type": "code",
      "execution_count": null,
      "metadata": {
        "id": "O9d6MSS6ChRE"
      },
      "outputs": [],
      "source": [
        "# here are the comments.\n"
      ]
    },
    {
      "cell_type": "markdown",
      "metadata": {
        "id": "sy5svkZijC92"
      },
      "source": [
        "### ---ASSIGNMENT OPERATOR---\n",
        "\n",
        "When creating objects, you give them\n",
        "values using the assignment operator\n",
        " \"=\" as here:\n",
        "x = 1\n",
        "\n",
        "Here, x is a varaible. We use variables to temporarily store data in a computer's memory. For example, we store the price of a product or some students' name, age and so on. To call a variable, we just call the name for that varaible, like \"x\"."
      ]
    },
    {
      "cell_type": "code",
      "execution_count": null,
      "metadata": {
        "id": "zfd6tpX6iBJT"
      },
      "outputs": [],
      "source": [
        "x = 1\n",
        "x"
      ]
    },
    {
      "cell_type": "markdown",
      "metadata": {
        "id": "znO3hC2ckhOJ"
      },
      "source": [
        "###---PYTHON VARIABLES---\n",
        "\n",
        "To name a python variable, the names should begin with a letter\n",
        "and can contain letters, numbers,\n",
        "underscores.\n",
        "\n",
        "But cannot have a space or a period.\n",
        "\n",
        "Case matters, it means python is case sensitive to lowercase and upper case letters, e.g. **myvar** is not **MyVar**\n",
        "\n",
        "Python's variable types:\n",
        "\n",
        "Number (int, long, float, complex)\n",
        "\n",
        "String\n",
        "\n",
        "Boolean: True or False\n",
        "\n",
        "List\n",
        "\n",
        "Tuple\n",
        "\n",
        "Dictionary\n",
        "\n",
        "We focus on list today. For details, see\n",
        "https://www.tutorialspoint.com/python/python_variable_types.htm\n",
        "for examples."
      ]
    },
    {
      "cell_type": "code",
      "execution_count": null,
      "metadata": {
        "id": "Ml-L5xMIk1IQ"
      },
      "outputs": [],
      "source": [
        "x = 1\n",
        "x = 2\n",
        "type(x)\n"
      ]
    },
    {
      "cell_type": "code",
      "execution_count": null,
      "metadata": {
        "id": "Y0UbEMeeleyA"
      },
      "outputs": [],
      "source": [
        "y = 1.2\n",
        "print(type(y))"
      ]
    },
    {
      "cell_type": "code",
      "execution_count": null,
      "metadata": {
        "id": "usxRAwhkliDY"
      },
      "outputs": [],
      "source": [
        "a = \"string\" #can use either single or double quotes\n",
        "print(type(a))"
      ]
    },
    {
      "cell_type": "code",
      "source": [
        "is_cold = True  # Python is case sensitive, T should be upper case.\n",
        "print(type(is_cold))"
      ],
      "metadata": {
        "id": "iKvICZkRXC4J"
      },
      "execution_count": null,
      "outputs": []
    },
    {
      "cell_type": "markdown",
      "metadata": {
        "id": "6aIKz_IKlmE3"
      },
      "source": [
        "#### exercise 1\n",
        "Write a program that assigns three variables, we check in a student named John Smith, he is 18 years old and his math GPA is 3.6."
      ]
    },
    {
      "cell_type": "code",
      "execution_count": null,
      "metadata": {
        "id": "_SFF-x7HltFb"
      },
      "outputs": [],
      "source": []
    },
    {
      "cell_type": "markdown",
      "source": [
        "**Arithmetic Operators**\n",
        "\n",
        "The arithmetic operator in python is the same as we do in math. For example, we can add numbers, substract them, multiply them and so on.\n",
        "\n",
        "`x+y`"
      ],
      "metadata": {
        "id": "0yd2v0aachwD"
      }
    },
    {
      "cell_type": "code",
      "source": [
        "print(x+y)\n",
        "print(x-y)\n",
        "print(x*y)\n",
        "print(x/y)\n",
        "# two division signs \"/\" or \"//\"\n",
        "print(x//y) # return a whole number\n"
      ],
      "metadata": {
        "id": "S-9mt7vacxbk"
      },
      "execution_count": null,
      "outputs": []
    },
    {
      "cell_type": "code",
      "source": [
        "# remider %\n",
        "print(110 % 37)\n",
        "# power **\n",
        "print(2**3)"
      ],
      "metadata": {
        "id": "iW_5bNmytqUz"
      },
      "execution_count": null,
      "outputs": []
    },
    {
      "cell_type": "code",
      "source": [
        "# we want to increment the value of x by 3\n",
        "x = x + 3\n",
        "x"
      ],
      "metadata": {
        "id": "obIsJ-BFejkH"
      },
      "execution_count": null,
      "outputs": []
    },
    {
      "cell_type": "code",
      "source": [
        "# Another way to achieve the same reslut with less code\n",
        "x=2\n",
        "x += 3\n",
        "x"
      ],
      "metadata": {
        "id": "PYUsWeCOhPSN"
      },
      "execution_count": null,
      "outputs": []
    },
    {
      "cell_type": "markdown",
      "source": [
        "Note: The `+=` operator is called augmented assignment operator.\n",
        "We can also use `-=` or `*=` in python.\n"
      ],
      "metadata": {
        "id": "pRlJHd3-h7Ku"
      }
    },
    {
      "cell_type": "markdown",
      "source": [
        "**Strings**"
      ],
      "metadata": {
        "id": "N-HClYZJjAsv"
      }
    },
    {
      "cell_type": "code",
      "source": [
        "workshop = \"Python introduction workshop for UT members\"\n",
        "# The string is an object in python. It is like an object in the real world.\n",
        "\n",
        "workshop\n"
      ],
      "metadata": {
        "id": "VG42EKVEi_vf"
      },
      "execution_count": null,
      "outputs": []
    },
    {
      "cell_type": "markdown",
      "source": [
        "**Objects & Object's names**\n",
        "\n",
        "Python is object oriented\n",
        "\n",
        "Everything: data, functions (procedures), models,\n",
        "etc. is an object, with its properties/attributes\n",
        "and methods(like functions).\n",
        "\n",
        "Think of a remote control of your tv. It is an object and it has a bunch of capabilities, such as turning TV on, turning TV off, lowering the volume and so on.\n",
        "The string object has a bunch of capabilities, just like functions like print and type function. The difference is that print and type functions are general purpose functions, they don't belong to a particular object but the function you see here are specific to strings. So more accurately, we refer these as methods.\n",
        "\n",
        "For example:\n",
        "\n",
        "\n",
        "\n",
        "\n"
      ],
      "metadata": {
        "id": "nE2MWKHjjLkC"
      }
    },
    {
      "cell_type": "code",
      "source": [
        "workshop.upper()"
      ],
      "metadata": {
        "id": "yDUnZTP_z-VU"
      },
      "execution_count": null,
      "outputs": []
    },
    {
      "cell_type": "code",
      "source": [
        "workshop.find('y')  # find to see if our string contains the characters and return the index of the character"
      ],
      "metadata": {
        "id": "XdGZUCEJ0MDq"
      },
      "execution_count": null,
      "outputs": []
    },
    {
      "cell_type": "code",
      "source": [
        "workshop.find('for')"
      ],
      "metadata": {
        "id": "2QmWUlE52vfQ"
      },
      "execution_count": null,
      "outputs": []
    },
    {
      "cell_type": "code",
      "source": [
        "workshop.split(\" \") #split the string into a list by a space as a separator"
      ],
      "metadata": {
        "id": "W8xJNg5W2z8l"
      },
      "execution_count": null,
      "outputs": []
    },
    {
      "cell_type": "markdown",
      "metadata": {
        "id": "69nzUpmflvZ4"
      },
      "source": [
        "**Create a list**\n",
        "\n",
        "A list contains items separated by commas and enclosed within square brackets ([ ])."
      ]
    },
    {
      "cell_type": "code",
      "execution_count": null,
      "metadata": {
        "id": "GZQ7M_wFl7SZ"
      },
      "outputs": [],
      "source": [
        "id = [1, 2, 3, 4, 5, 6, 7, 8]\n",
        "print(id)\n",
        "\n"
      ]
    },
    {
      "cell_type": "code",
      "source": [
        "# Note: first item's index is 0 not 1.\n",
        "# Show the first item of id.\n",
        "id[0]\n"
      ],
      "metadata": {
        "id": "8fJp9wucKOK0"
      },
      "execution_count": null,
      "outputs": []
    },
    {
      "cell_type": "code",
      "execution_count": null,
      "metadata": {
        "id": "8jerkjD9mENy"
      },
      "outputs": [],
      "source": [
        "id[7]"
      ]
    },
    {
      "cell_type": "code",
      "execution_count": null,
      "metadata": {
        "id": "YNZUx4c6mCHx"
      },
      "outputs": [],
      "source": [
        "# Items can be mixed types in a list.\n",
        "mixlist = [\"a\", 1]\n",
        "print(mixlist)"
      ]
    },
    {
      "cell_type": "code",
      "source": [
        "# Add a item in a list\n",
        "id.append(9)\n",
        "print(id)"
      ],
      "metadata": {
        "id": "Gfc_eht9I49W"
      },
      "execution_count": null,
      "outputs": []
    },
    {
      "cell_type": "code",
      "source": [
        "# replace 1 with -1\n",
        "id[0] = -1\n",
        "print(id)\n",
        "\n"
      ],
      "metadata": {
        "id": "LUMxie2UJJkI"
      },
      "execution_count": null,
      "outputs": []
    },
    {
      "cell_type": "code",
      "source": [],
      "metadata": {
        "id": "0WZr6TSXJSDe"
      },
      "execution_count": null,
      "outputs": []
    },
    {
      "cell_type": "markdown",
      "metadata": {
        "id": "yThMw-Sgm3en"
      },
      "source": [
        "#### exercise 2##\n",
        "\n",
        "Create a fruit list with apple, banana, cherry, kiwi, mango, blue berry, pear.\n",
        "\n",
        "Then, print the pear to the screen by referencing\n",
        "its index position in the list.\n",
        "\n",
        "Hint ```Fruitlist = [\"apple\",  \"banana\" ]```"
      ]
    },
    {
      "cell_type": "code",
      "execution_count": null,
      "metadata": {
        "id": "yN96W2jCnWHt"
      },
      "outputs": [],
      "source": []
    },
    {
      "cell_type": "markdown",
      "metadata": {
        "id": "ccMJ0twOnXl6"
      },
      "source": [
        "**Tuples**: Like lists, contains several items enclosed within parenthesis.\n",
        "But it is immutable, and usually used for smaller sequences\n",
        "of things that are related to each other.\n",
        "Think of Cartesian coordinates:(x, y, z).\n",
        "\n",
        "The differences between tuples and lists are, the tuples cannot be changed\n",
        "unlike lists, tuples use parentheses, whereas lists use square brackets."
      ]
    },
    {
      "cell_type": "code",
      "execution_count": null,
      "metadata": {
        "id": "bEvTQjQvns9A"
      },
      "outputs": [],
      "source": [
        "aTuple = (\"foo\", \"bar\")\n",
        "len(aTuple)"
      ]
    },
    {
      "cell_type": "code",
      "execution_count": null,
      "metadata": {
        "id": "pjPqUKZwntzo"
      },
      "outputs": [],
      "source": [
        "# Following action is not valid for tuples\n",
        "# aTuple[0] = 100\n",
        "aTuple[0] = 100"
      ]
    },
    {
      "cell_type": "code",
      "execution_count": null,
      "metadata": {
        "id": "_3TIIyIunwIX"
      },
      "outputs": [],
      "source": [
        "# list can be changed.\n",
        "alist = [\"foo\", \"bar\"]\n",
        "print(alist)\n",
        "\n",
        "alist[0] = 100\n",
        "print(alist)"
      ]
    },
    {
      "cell_type": "markdown",
      "metadata": {
        "id": "iTvObh5Jn0m7"
      },
      "source": [
        "#### exercise 3\n",
        "\n",
        "create a tuple use the fruit above and then query the pear by referencing its index position.\n",
        "\n",
        "hint: ``` fruit = (\"apple\", \"banana\")```"
      ]
    },
    {
      "cell_type": "code",
      "execution_count": null,
      "metadata": {
        "id": "u_zcrio2dyTC"
      },
      "outputs": [],
      "source": []
    },
    {
      "cell_type": "markdown",
      "metadata": {
        "id": "ck6rpD6-oC-m"
      },
      "source": [
        "**Dictionary**: A collection of variables indexed by other, \"key\" variables. Instead of using numeric or default index in python, if you want to create your own index, you need to use a dictionary.\n",
        "\n",
        "**Curly Braces {}** are used in Python to define a dictionary ."
      ]
    },
    {
      "cell_type": "code",
      "execution_count": null,
      "metadata": {
        "id": "zUI14zcEoCVN"
      },
      "outputs": [],
      "source": [
        "aDict = {}\n",
        "aDict[\"a\"] = 364936\n",
        "aDict[\"b\"] = 12.4\n",
        "aDict[7] = \"hi\""
      ]
    },
    {
      "cell_type": "code",
      "execution_count": null,
      "metadata": {
        "id": "LwivreVzoYYy"
      },
      "outputs": [],
      "source": [
        "print(aDict)\n"
      ]
    },
    {
      "cell_type": "code",
      "execution_count": null,
      "metadata": {
        "id": "kW248GOCoc0z"
      },
      "outputs": [],
      "source": [
        "aDict[\"a\"]\n"
      ]
    },
    {
      "cell_type": "code",
      "execution_count": null,
      "metadata": {
        "id": "bGcoVYcloh8S"
      },
      "outputs": [],
      "source": [
        "aDict[\"b\"]\n"
      ]
    },
    {
      "cell_type": "code",
      "execution_count": null,
      "metadata": {
        "id": "RE9xhp14NhJ2"
      },
      "outputs": [],
      "source": [
        "aDict[7]"
      ]
    },
    {
      "cell_type": "markdown",
      "metadata": {
        "id": "3rXmV-F-oj1a"
      },
      "source": [
        "#### exercise 4\n",
        "Mary’s favorite candy is chocolate, Rodrigo’s favorite is bubble gum, and\n",
        "Larry’s is gummy bears. Write a dictionary that stores, for each person,\n",
        "their favorite candy. Then, pick a person among the three, and, using the\n",
        "dictionary keys you defined, print to the screen a statement something to\n",
        "the effect of “Mary’s candy of choice is chocolate.”\n",
        "\n",
        "Make sure that your print() statement is a concatenation of some text and the result of querying your dictionary for that person’s favorite candy.\n",
        "\n",
        "Hint:\n",
        "```python\n",
        "aDict = {\"Mary\": \"Chocolate\"}\n",
        "print(\"Mary's candy of chocie is \" + aDict[\"Mary\"])\n",
        "```"
      ]
    },
    {
      "cell_type": "code",
      "execution_count": null,
      "metadata": {
        "id": "6yVqI-hNpAFg"
      },
      "outputs": [],
      "source": []
    },
    {
      "cell_type": "markdown",
      "metadata": {
        "id": "ATBGiRu0pEMb"
      },
      "source": [
        "**Keywords**: reserved words in python.\n",
        "Cannot be used as a variable name."
      ]
    },
    {
      "cell_type": "code",
      "execution_count": null,
      "metadata": {
        "id": "TmdHLnsOpBkm"
      },
      "outputs": [],
      "source": [
        "import keyword\n",
        "print(keyword.kwlist)"
      ]
    },
    {
      "cell_type": "markdown",
      "metadata": {
        "id": "o4aJAifipUl6"
      },
      "source": [
        "### ---PYTHON FUNCTIONS---\n",
        "\n",
        "As you already know, Python gives you many built-in\n",
        "functions or functions from a package e.g. print(), dir( ), type( )\n",
        "\n",
        "When you use a function, you \"call\" its name.\n",
        "\n",
        "print( ) is the default function\n",
        "  so this function call:  print(q1)"
      ]
    },
    {
      "cell_type": "code",
      "execution_count": null,
      "metadata": {
        "id": "n81TlWExppbM"
      },
      "outputs": [],
      "source": [
        "print(\"hello world\")"
      ]
    },
    {
      "cell_type": "markdown",
      "metadata": {
        "id": "rC6cLH3FsEQt"
      },
      "source": [
        "### ---USER-DEFINED FUNCTIONS---\n",
        "\n",
        "A function statement starts with the **def** keyword, followed by\n",
        "the function name, parameters and keywords and end with a colon\":\".\n",
        "\n",
        "Parameters/keywords in a function are called \"arguments\". Arguments are enclosed within parentheses\n",
        "and separated by commas.\n",
        "\n",
        "In python, user-defined functions can take four\n",
        "different types of arguments. The argument types\n",
        "and their meanings, however, are pre-defined and\n",
        "can’t be changed.\n",
        "\n"
      ]
    },
    {
      "cell_type": "code",
      "execution_count": null,
      "metadata": {
        "id": "7tKOBUf4sv0n"
      },
      "outputs": [],
      "source": [
        "# example:\n",
        "def my_function():\n",
        "  #indentation represets a block of code\n",
        "  print(\"Hello from a function\")\n",
        "# Calling a function\n",
        "# To call a function, use the function name followed by parenthesis:\n",
        "my_function()"
      ]
    },
    {
      "cell_type": "code",
      "execution_count": null,
      "metadata": {
        "id": "UCDjCliTsykC"
      },
      "outputs": [],
      "source": [
        "# example:\n",
        "def my_function_with_args(username, greeting):\n",
        "    print(\"Hello \"+ username + \" From My Function!, I wish you \" + greeting + \"!\") # string concatention: use + to combine strings together"
      ]
    },
    {
      "cell_type": "code",
      "execution_count": null,
      "metadata": {
        "id": "-VVGEfUSs08X"
      },
      "outputs": [],
      "source": [
        "#prints - \"Hello, Julia, From My Function!, I wish you a great year!\"\n",
        "my_function_with_args(\"Mary\", \"a great year\")"
      ]
    },
    {
      "cell_type": "markdown",
      "source": [
        "A function use indentation to define the content of the function. The content indents four spaces.\n",
        "\n",
        "Use **Tab** key as the shortcut\n",
        "\n",
        "The colon is used to declare the start of an indented block.\n",
        "\n",
        "When we need to use indentation:\n",
        "\n",
        "    if/else statement\n",
        "\n",
        "    for/while statement\n",
        "\n",
        "    def statement\n",
        "\n",
        "    class statement\n",
        "\n",
        "For learning class statement, go here https://www.w3schools.com/python/python_classes.asp\n",
        "\n",
        "\n"
      ],
      "metadata": {
        "id": "Dc4FVXAHrRO9"
      }
    },
    {
      "cell_type": "markdown",
      "metadata": {
        "id": "q0RkWT3xs358"
      },
      "source": [
        "###---FUNCTION OUTPUT---\n",
        "\n",
        "Returning a value from a function, not only can\n",
        "you pass a parameter value into a function, a function\n",
        "can also produce a value, i.e., Output.\n",
        "\n",
        "For example,"
      ]
    },
    {
      "cell_type": "code",
      "execution_count": null,
      "metadata": {
        "id": "CdrSSMR5s_YU"
      },
      "outputs": [],
      "source": [
        "len(aDict)"
      ]
    },
    {
      "cell_type": "markdown",
      "metadata": {
        "id": "AqtghbqDtRBc"
      },
      "source": [
        "That value returned from a function is a single object that may contain\n",
        "much information (e.g. data frame, list)"
      ]
    },
    {
      "cell_type": "code",
      "execution_count": null,
      "metadata": {
        "id": "G-rbQqHptXGp"
      },
      "outputs": [],
      "source": [
        "#  Example\n",
        "def square(x):\n",
        "    y = x * x\n",
        "    return y\n",
        "\n",
        "result = square(10)\n",
        "print(result)\n",
        "# Note: Cannot use print to return a value"
      ]
    },
    {
      "cell_type": "markdown",
      "metadata": {
        "id": "Id_nu9WBtcL4"
      },
      "source": [
        "#### exercies 5\n",
        "\n",
        "Write a cubic function that will return a cubic number of the input x.\n",
        "\n",
        "Then call your function to compute the cubic number of 10 .\n",
        "\n",
        "Hint:\n",
        " ```python\n",
        "       def cubic(x):\n",
        "           y = x * x * x\n",
        "```\n",
        "\n"
      ]
    },
    {
      "cell_type": "code",
      "execution_count": null,
      "metadata": {
        "id": "2z-ZAsGthV2N"
      },
      "outputs": [],
      "source": []
    },
    {
      "cell_type": "markdown",
      "metadata": {
        "id": "sHENNLbluq5t"
      },
      "source": [
        "###---CONDITIONAL STATEMENTS---\n",
        "\n",
        "In the real world, we commonly must evaluate information\n",
        "around us and then choose one course of action or another\n",
        "based on what we observed:\n",
        "\n",
        "For example,\n",
        "\n",
        "    \"If the weather is nice, then I’ll mow the lawn.\n",
        "\n",
        "     Otherwise, I won’t mow.\"\n",
        "\n",
        "     \"If temperature > 90 degree, It is a hot day\"\n",
        "\n",
        "\n",
        "   * if/else-statement\n",
        "\n",
        "   * if/elif/else-statement\n",
        "\n",
        "\n",
        "Blocks of code under if statements are executed as long\n",
        "as the stated condition is true."
      ]
    },
    {
      "cell_type": "code",
      "execution_count": null,
      "metadata": {
        "id": "YLIr4G-5uqAH"
      },
      "outputs": [],
      "source": [
        "# Here is an if/else-statement example:\n",
        "weather = input('How is the weather today, nice or not? ').lower()\n",
        "if weather == \"nice\":\n",
        "    print('I will mow the Lawn')\n",
        "else:\n",
        "    print(\"I won't mow the Lawn\")\n",
        "#note: double equal signs is used here."
      ]
    },
    {
      "cell_type": "code",
      "execution_count": null,
      "metadata": {
        "id": "AwTZ1wMFwBP3"
      },
      "outputs": [],
      "source": [
        "# Can have elif (which is a contraction of \"else if\") and/or\n",
        "# else statements associated, when the condition is not true.\n",
        "# If/elif/else statement example,\n",
        "temperature = 40\n",
        "#temperature = int(input('What is the temperature today? '))\n",
        "if temperature > 90:\n",
        "  print(\"It is a hot day\")\n",
        "  print(\"Drink plenty of water\")\n",
        "elif temperature > 70:  #(70, 90]\n",
        "  print(\"It is a nice day\")\n",
        "elif temperature > 50:  #(50, 70]\n",
        "  print(\"It is a bit cold\")\n",
        "else:\n",
        "  print(\"It is a cold day\")\n",
        "print(\"Done\")"
      ]
    },
    {
      "cell_type": "code",
      "execution_count": null,
      "metadata": {
        "id": "X0kKcrAvwsZg"
      },
      "outputs": [],
      "source": [
        "# ---TABLE OF LOGICAL COMPARISONS---\n",
        "#\n",
        "# Equals              ==\n",
        "# Less than           <\n",
        "# Greater than        >\n",
        "# Less or equal       <=\n",
        "# Greater or equal    >=\n",
        "# Not equal           !=\n",
        "# And                 and\n",
        "# Or                  or\n",
        "# Not                 not\n",
        "# 0<=x<=1             (x >= 0) and (x <=1)"
      ]
    },
    {
      "cell_type": "code",
      "source": [
        "exp1 = 1 == 2\n",
        "exp1"
      ],
      "metadata": {
        "id": "QrFwOzis1nAE"
      },
      "execution_count": null,
      "outputs": []
    },
    {
      "cell_type": "code",
      "source": [
        "exp2 = 7 > 3\n",
        "exp2"
      ],
      "metadata": {
        "id": "MXMsrppF1r4C"
      },
      "execution_count": null,
      "outputs": []
    },
    {
      "cell_type": "code",
      "source": [
        "exp1 or exp2"
      ],
      "metadata": {
        "id": "ufe4fmTt12pC"
      },
      "execution_count": null,
      "outputs": []
    },
    {
      "cell_type": "markdown",
      "metadata": {
        "id": "mXlevewywik5"
      },
      "source": [
        "\n",
        "#### exercise 6\n",
        "\n",
        "Import the random module, and use the random function in it that gives you\n",
        "an integer value from the range [1, 1000), print to the screen a message saying the number is odd or even. Part of the code are shown below."
      ]
    },
    {
      "cell_type": "code",
      "execution_count": null,
      "metadata": {
        "id": "UBW0xro-wg9v"
      },
      "outputs": [],
      "source": [
        "from random import randint\n",
        "# generate a random number ranging from 0 to 1000\n",
        "n = randint(0,1000)\n",
        "m = n % 2 # Modulo (%) calculates the remainder after division.\n",
        "# Plese write the if else statement below,\n",
        "if m :\n",
        "    print(str(n) + \" is an odd number\")\n",
        "else:\n",
        "    print(str(n) + \" is an even number\")"
      ]
    },
    {
      "cell_type": "markdown",
      "metadata": {
        "id": "nBX_sPBo7NNJ"
      },
      "source": [
        "### --- ITERATION---\n",
        "Iteration is typically done by means of a loop,\n",
        "being a piece of code that is executed repeatedly.\n",
        "We can control how often a loop repeats, or whether it repeats at all,\n",
        "with control flow statements, which evaluates conditions.\n",
        "\n",
        "Control flow statements can control more than just loops.\n",
        "\n",
        "For more control flow statements, see\n",
        "https://docs.python.org/2.7/tutorial/controlflow.html\n",
        "\n",
        "#### ---FOR STATEMENT---\n",
        "\n",
        "Blocks of code under for statements repeat themselves for each\n",
        "elements of some iterable object. They make a for loop.\n"
      ]
    },
    {
      "cell_type": "code",
      "execution_count": null,
      "metadata": {
        "id": "5AkCBH9N7iQt"
      },
      "outputs": [],
      "source": [
        "namelist = [\"Josh\", \"Cary\",\"Michael\",\"Rochelle\", \"Sun\", \"Sarah\", \"Rebecca\"]\n",
        "\n",
        "for name in namelist:\n",
        "    print (\"Hello \" + name + \", Merry Christmas!\")"
      ]
    },
    {
      "cell_type": "markdown",
      "metadata": {
        "id": "bNUy99e-7s_B"
      },
      "source": [
        "Iterable objects are those that have a defined sequence of zero or more objects.\n",
        "\n",
        "e.g. lists, strings, tuples, etc."
      ]
    },
    {
      "cell_type": "code",
      "execution_count": null,
      "metadata": {
        "id": "9bgY0dyz7kyi"
      },
      "outputs": [],
      "source": [
        "aText = \"Hello world!\"\n",
        "\n",
        "for i in aText:\n",
        "    print(i)"
      ]
    },
    {
      "cell_type": "markdown",
      "metadata": {
        "id": "RQJ4uOo62W10"
      },
      "source": [
        "#### exercise 7\n",
        "Use for statement to print each element from the fruit list below."
      ]
    },
    {
      "cell_type": "code",
      "execution_count": null,
      "metadata": {
        "id": "a7sHW9ht3swr"
      },
      "outputs": [],
      "source": [
        "fruits = [\"apple\", \"banana\", \"cherry\", \"kiwi\", \"mango\", \"blue berry\"]\n",
        "\n",
        "\n"
      ]
    },
    {
      "cell_type": "markdown",
      "metadata": {
        "id": "-rA58AFq8non"
      },
      "source": [
        "###---RANGE FUNCTION---\n",
        "\n",
        "Often we want to repeat an action some specified number of\n",
        "times, rather than over a collection of objects.\n",
        "\n",
        "The range() function returns an iterable object of numbers, of size\n",
        "(and optionally, starting value and increment) you ask for. In python,\n",
        "we iterate on that.\n",
        "\n",
        "Ask for a range of itegers, starting at zero and ending before 7."
      ]
    },
    {
      "cell_type": "code",
      "execution_count": null,
      "metadata": {
        "id": "ZXnxhUmO81IQ"
      },
      "outputs": [],
      "source": [
        "aRange =  range(7)\n",
        "for i in aRange:\n",
        "    print(i)"
      ]
    },
    {
      "cell_type": "code",
      "execution_count": null,
      "metadata": {
        "id": "__rEtV9E85ou"
      },
      "outputs": [],
      "source": [
        "for i in range(3, 7): # start at 3 end before 7\n",
        "    print(i)"
      ]
    },
    {
      "cell_type": "code",
      "execution_count": null,
      "metadata": {
        "id": "kalcvfQh87ho"
      },
      "outputs": [],
      "source": [
        "for i in range(2, 12, 3): #start at 2, end before 12, increment by 3\n",
        "    print(i)"
      ]
    },
    {
      "cell_type": "markdown",
      "metadata": {
        "id": "N2t9mfbO8_XJ"
      },
      "source": [
        "#### exercise 8\n",
        "Create a range function starting at 4, end before 20 with increment of 4. Use for statement to print each element out of screen.  "
      ]
    },
    {
      "cell_type": "code",
      "execution_count": null,
      "metadata": {
        "id": "rr6yYyqv9Fyn"
      },
      "outputs": [],
      "source": []
    },
    {
      "cell_type": "markdown",
      "metadata": {
        "id": "KoIh3t4nUYJb"
      },
      "source": [
        "### Exercise 9"
      ]
    },
    {
      "cell_type": "code",
      "execution_count": null,
      "metadata": {
        "id": "m03fuVTo9Gxg"
      },
      "outputs": [],
      "source": [
        "## extra credit assignment ##\n",
        "## exercise 9 ##\n",
        "# use a for statement to calucate the sum of consecutive numbers 1 to 100\n",
        "# print the result to the screen\n",
        "# the answer should be 5050"
      ]
    },
    {
      "cell_type": "code",
      "execution_count": null,
      "metadata": {
        "id": "YHq76-rVa0pA"
      },
      "outputs": [],
      "source": [
        "\n"
      ]
    },
    {
      "cell_type": "markdown",
      "metadata": {
        "id": "k6U0VjBU9RBV"
      },
      "source": [
        "####---WHILE STATEMENT ---\n",
        "\n",
        "Sometimes we use a conditional statment to control the number of times\n",
        "a loop repeats. As long as the condition is true, the program\n",
        "will repeatedly execute. So we need to use while statement.\n",
        "\n",
        "Blocks of code under while statements repeat themselves until a\n",
        "specified condition is detected as false - they make a while loop.\n",
        "\n",
        "Before the indented block (re)run, the condition is evaluated. It\n",
        "runs only if the condition is true."
      ]
    },
    {
      "cell_type": "code",
      "execution_count": null,
      "metadata": {
        "id": "dSd8e6_w9M6d"
      },
      "outputs": [],
      "source": [
        "i = 0\n",
        "while i < 10:\n",
        "    print(str(i) + \" is less than 10\")\n",
        "    i = i + 1\n",
        "print(i)\n"
      ]
    },
    {
      "cell_type": "markdown",
      "metadata": {
        "id": "0JkNOQO_9dVk"
      },
      "source": [
        "If i had left out the increment, i could be always <10,\n",
        "and we'd get an infinite loop.\n",
        "\n",
        "Use Ctrl+C to terminate a loop."
      ]
    },
    {
      "cell_type": "markdown",
      "metadata": {
        "id": "W4kUzn489jdF"
      },
      "source": [
        "#### Exercise 10 ##\n",
        "To make things concrete and numerical, suppose the following:\n",
        "The tea starts at 115 degrees Fahrenheit. You want it at 112 degrees.\n",
        "A chip of ice turns out to lower the temperature one degree each time.\n",
        "You test the temperature each time, and also print out the temperature\n",
        "before reducing the temperature. In Python you could write and run the code below,:\n"
      ]
    },
    {
      "cell_type": "code",
      "execution_count": null,
      "metadata": {
        "id": "Wm3RdD5j9uso"
      },
      "outputs": [],
      "source": [
        "temperature = 115\n",
        "while temperature  : # first while loop code\n",
        "    print(str(temperature))\n",
        "    temperature = temperature - 1\n",
        "print('The tea is cool enough.')"
      ]
    },
    {
      "cell_type": "markdown",
      "metadata": {
        "id": "05w1s5t-97YY"
      },
      "source": [
        "###---QUESTIONS?---\n",
        "\n",
        "### ---IMPORTING DATA ---\n",
        "\n",
        "Import a dataset using python installed on your machine.\n",
        "\n",
        "```\n",
        "# python path use \"/\" or \"\\\\\" instead of \"\\\"\n",
        "# put a r in front of the path string without changing \"\\\" to / or \\\\.\n",
        "\n",
        "import pandas as pd\n",
        "mydata100 = pd.read_csv(r\"C:\\Users\\xzhu8\\Documents\\xzhu8\\mydata100.csv\")\n",
        "```\n",
        "\n",
        "\n"
      ]
    },
    {
      "cell_type": "code",
      "source": [
        "!pip install pandas==2.1\n"
      ],
      "metadata": {
        "id": "KrwpYXR0qyvX"
      },
      "execution_count": null,
      "outputs": []
    },
    {
      "cell_type": "markdown",
      "source": [
        "Import a dataset from google drive using Colab.\n",
        "\n",
        "1. Make sure the dataset can be accessed by anyone with link.\n",
        "2. Change the \"open\" to \"uc\" in the url link."
      ],
      "metadata": {
        "id": "zZBmAATW4nqe"
      }
    },
    {
      "cell_type": "code",
      "execution_count": null,
      "metadata": {
        "id": "vG6la_S3-rT_"
      },
      "outputs": [],
      "source": [
        "import pandas as pd\n",
        "url = \"https://drive.google.com/uc?id=18O8ANLvClngx1lRO7Q7PPuKn4FQgu5RE&authuser=xzhu8%40vols.utk.edu&usp=drive_fs\"\n",
        "mydata100 = pd.read_csv(url)\n",
        "\n",
        "# show the first five lines of mydata100\n",
        "mydata100.head()"
      ]
    },
    {
      "cell_type": "code",
      "execution_count": null,
      "metadata": {
        "id": "PUOudI54AyeW"
      },
      "outputs": [],
      "source": [
        "# see 10 rows of mydata100\n",
        "mydata100.head(10)"
      ]
    },
    {
      "cell_type": "markdown",
      "metadata": {
        "id": "VoGc_8MrA47n"
      },
      "source": [
        "### --- BASIC DESCRIPTIVE ANALYSIS---\n",
        "\n",
        "Get the mean, sum and summary of mydata100"
      ]
    },
    {
      "cell_type": "code",
      "execution_count": null,
      "metadata": {
        "id": "gnk3NCL5A-RT"
      },
      "outputs": [],
      "source": [
        "mydata100.mean(numeric_only=True)"
      ]
    },
    {
      "cell_type": "code",
      "execution_count": null,
      "metadata": {
        "id": "1qJbpO7QBGZr"
      },
      "outputs": [],
      "source": [
        "mydata100.sum()"
      ]
    },
    {
      "cell_type": "code",
      "execution_count": null,
      "metadata": {
        "id": "YS82ycvQBJvC"
      },
      "outputs": [],
      "source": [
        "# use describe function\n",
        "basic = mydata100.describe()\n",
        "print(basic)"
      ]
    },
    {
      "cell_type": "code",
      "execution_count": null,
      "metadata": {
        "id": "umNyJU4XBguD"
      },
      "outputs": [],
      "source": [
        "# return the means grouped by gender using groupby methods\n",
        "\n",
        "mydata100.groupby('gender').mean(numeric_only=True)"
      ]
    },
    {
      "cell_type": "code",
      "execution_count": null,
      "metadata": {
        "id": "rC3V9a_sBjMK"
      },
      "outputs": [],
      "source": [
        "# return means/median/std group by gender using groupby\n",
        "df = mydata100.loc[:, 'gender':'posttest']\n",
        "print(df)\n"
      ]
    },
    {
      "cell_type": "code",
      "source": [
        "out = df.groupby('gender').agg(['mean', 'std', 'median', 'min', 'max'])\n",
        "print(out)"
      ],
      "metadata": {
        "id": "okJK0LD2O6tN"
      },
      "execution_count": null,
      "outputs": []
    },
    {
      "cell_type": "markdown",
      "source": [
        "For details about the agg function in pandas, please see the link here: https://note.nkmk.me/en/python-pandas-agg-aggregate/"
      ],
      "metadata": {
        "id": "33tRIOzQLzxK"
      }
    },
    {
      "cell_type": "markdown",
      "metadata": {
        "id": "jDIov1_kA9pa"
      },
      "source": [
        "###---BASE GRAPHICS USING SEABORN---"
      ]
    },
    {
      "cell_type": "code",
      "source": [
        "#!pip uninstall seaborn-yes\n",
        "!pip install matplotlib==3.8.3\n",
        "!pip install seaborn==0.11.1\n"
      ],
      "metadata": {
        "id": "1ymWqvLKdFqq"
      },
      "execution_count": null,
      "outputs": []
    },
    {
      "cell_type": "code",
      "execution_count": null,
      "metadata": {
        "id": "tF3MfX54BqNu"
      },
      "outputs": [],
      "source": [
        "import seaborn as sns\n",
        "import matplotlib.pyplot as plt\n",
        "import pandas as pd\n",
        "\n",
        "\n"
      ]
    },
    {
      "cell_type": "code",
      "source": [
        "# Barplot\n",
        "\n",
        "# Barplot stacked\n",
        "\n",
        "sns.catplot( x=\"workshop\",  kind=\"count\", color=\"b\", data=mydata100)"
      ],
      "metadata": {
        "id": "UNgPomaQ83BY"
      },
      "execution_count": null,
      "outputs": []
    },
    {
      "cell_type": "code",
      "execution_count": null,
      "metadata": {
        "id": "JWdw7k3gBv2o"
      },
      "outputs": [],
      "source": [
        "# Boxplot\n",
        "# Draw a single boxplot:\n",
        "sns.boxplot(y=mydata100[\"posttest\"])\n",
        "#plt.show()"
      ]
    },
    {
      "cell_type": "code",
      "execution_count": null,
      "metadata": {
        "id": "tN37cl3AB2bO"
      },
      "outputs": [],
      "source": [
        "#Draw a vertical boxplot grouped by a categorical variable:\n",
        "sns.boxplot(x=\"workshop\", y=\"posttest\", data=mydata100)\n",
        "plt.show()"
      ]
    },
    {
      "cell_type": "code",
      "execution_count": null,
      "metadata": {
        "id": "uwGiAigiB5zD"
      },
      "outputs": [],
      "source": [
        "#Draw a boxplot with nested grouping by two categorical variables:\n",
        "sns.boxplot(x=\"workshop\", y=\"posttest\", hue=\"gender\",\n",
        "                 data=mydata100)\n",
        "plt.show()"
      ]
    },
    {
      "cell_type": "code",
      "execution_count": null,
      "metadata": {
        "id": "c4N7CZoAB9fY"
      },
      "outputs": [],
      "source": [
        "# Scatterplot\n",
        "sns.set_style(\"whitegrid\")\n",
        "sns.scatterplot(x=\"pretest\", y=\"posttest\", data=mydata100)\n",
        "# Draw a scatterplot of two variables, x and y,\n",
        "# and then fit the regression model y ~ x\n",
        "# and plot the resulting regression line\n",
        "# and a 95% confidence interval for that regression:\n",
        "sns.regplot(x=\"pretest\", y=\"posttest\", data=mydata100)\n",
        "#plt.show()"
      ]
    },
    {
      "cell_type": "code",
      "execution_count": null,
      "metadata": {
        "id": "kV8pH_e2CFMP"
      },
      "outputs": [],
      "source": [
        "# Histogram\n",
        "\n",
        "sns.distplot(mydata100['posttest'], kde = True)\n",
        "plt.show()"
      ]
    },
    {
      "cell_type": "code",
      "execution_count": null,
      "metadata": {
        "id": "-KOLgxGmCKT9"
      },
      "outputs": [],
      "source": [
        "from scipy.stats import norm\n",
        "# Get rid of kernel fit\n",
        "hist2 = sns.distplot(mydata100['posttest'], fit=norm, kde=False, color=\"black\")\n",
        "#plt.show()"
      ]
    },
    {
      "cell_type": "markdown",
      "source": [
        "Using Histplot function"
      ],
      "metadata": {
        "id": "gEyjd6G5LcT8"
      }
    },
    {
      "cell_type": "code",
      "source": [
        "sns.histplot(mydata100['posttest'],kde=True  )\n",
        "plt.show()"
      ],
      "metadata": {
        "id": "d9Ib7_bQLlEU"
      },
      "execution_count": null,
      "outputs": []
    },
    {
      "cell_type": "code",
      "source": [
        "from scipy import stats\n",
        "import numpy as np\n",
        "def add_fit_to_histplot(a, fit=stats.norm, ax=None):\n",
        "\n",
        "    if ax is None:\n",
        "        ax = plt.gca()\n",
        "\n",
        "    # compute bandwidth\n",
        "    bw = len(a)**(-1/5) * a.std(ddof=1)\n",
        "    # initialize PDF support\n",
        "    x = np.linspace(a.min()-bw*3, a.max()+bw*3, 200)\n",
        "    # compute PDF parameters\n",
        "    params = fit.fit(a)\n",
        "    # compute PDF values\n",
        "    y = fit.pdf(x, *params)\n",
        "    # plot the fitted continuous distribution\n",
        "    ax.plot(x, y, color='#282828')\n",
        "    return ax\n",
        "\n",
        "\n",
        "# plot histogram with gaussian fit\n",
        "sns.histplot(mydata100['posttest'], stat='density')\n",
        "add_fit_to_histplot(mydata100['posttest'], fit=stats.norm);"
      ],
      "metadata": {
        "id": "wHOfQygMLX88"
      },
      "execution_count": null,
      "outputs": []
    },
    {
      "cell_type": "markdown",
      "metadata": {
        "id": "ElEnojKrCQ5Q"
      },
      "source": [
        "For many more examples, see: https://seaborn.pydata.org/tutorial.html."
      ]
    },
    {
      "cell_type": "markdown",
      "metadata": {
        "id": "LxRxY4OdCYoK"
      },
      "source": [
        "### ---LISTING OBJECTS IN YOUR WORKSPACE---\n",
        "\n",
        "%who: Print all interactive variables, with some minimal formatting.\n",
        "\n",
        "%whos: like %who, but gives some extra information about each variable.\n",
        "\n",
        "dir: list all the attributes and methods from an object.\n",
        "\n"
      ]
    },
    {
      "cell_type": "code",
      "execution_count": null,
      "metadata": {
        "id": "H7fFb_6SCiki"
      },
      "outputs": [],
      "source": [
        "%who\n",
        "%whos\n",
        "\n"
      ]
    },
    {
      "cell_type": "code",
      "source": [
        "dir(mydata100)"
      ],
      "metadata": {
        "id": "8V8MzLicM2Yz"
      },
      "execution_count": null,
      "outputs": []
    },
    {
      "cell_type": "code",
      "source": [
        "help(mydata100)\n"
      ],
      "metadata": {
        "id": "dkW16xj1M-sT"
      },
      "execution_count": null,
      "outputs": []
    },
    {
      "cell_type": "markdown",
      "metadata": {
        "id": "4SAT01vtClQI"
      },
      "source": [
        "### ---DELETING OBJECTS---\n",
        "\n",
        "The del( ) function deletes (removes) objects\n",
        "\n",
        "\n"
      ]
    },
    {
      "cell_type": "code",
      "execution_count": null,
      "metadata": {
        "id": "Ql5cY1U3CpwJ"
      },
      "outputs": [],
      "source": [
        "del(mydata)\n",
        "mydata"
      ]
    },
    {
      "cell_type": "code",
      "execution_count": null,
      "metadata": {
        "id": "z7ZFMRMkCtOg"
      },
      "outputs": [],
      "source": [
        "# You can remove a list using:\n",
        "# del list\n",
        "\n",
        "del id\n",
        "id"
      ]
    },
    {
      "cell_type": "markdown",
      "metadata": {
        "id": "_DzycrDjDGYx"
      },
      "source": [
        "### ---SAVING YOUR WORK---\n",
        "\n",
        "Save your progs & results with File: Save as...\n",
        "\n",
        "Export a dataframe in your workspace as csv: dataframe.to_csv('test.csv')\n",
        "```python\n",
        "mydata100.to_csv( r'C:\\Users\\XZHU8\\Documents\\test.csv')\n",
        "```\n",
        "\n",
        "Save a datafram as excel: dataframe.to_excel('test.xls', index=False)\n",
        "\n",
        "```python\n",
        "mydata100.to_excel('test.xls', index=False)\n",
        "```"
      ]
    },
    {
      "cell_type": "code",
      "execution_count": null,
      "metadata": {
        "id": "7Fb6hZUrgbHO"
      },
      "outputs": [],
      "source": [
        "#Download the data from colab\n",
        "from google.colab import files\n",
        "import pandas as pd\n",
        "mydata100.to_csv('example_file.csv')\n",
        "files.download('example_file.csv')"
      ]
    },
    {
      "cell_type": "markdown",
      "metadata": {
        "id": "d-tHk_P6DdwK"
      },
      "source": [
        "### --- QUESTIONS? ---\n",
        "\n",
        "\n",
        "### ---GOOD SOURCES OF PYTHON HELP---\n",
        "\n",
        "UT people get 15 hours per semester of\n",
        "free help in 540 Greve Hall:\n",
        "\n",
        "   HelpDesk: 974-9900\n",
        "\n",
        "   Walk-in Schedule:\n",
        "\n",
        "   http://oit.utk.edu/research/schedule\n",
        "\n",
        "\n",
        "Python & R cheat sheets: https://www.datacamp.com/community/data-science-cheatsheets?page=3\n",
        "\n",
        "R & SAS/SPSS/Stata:     http://www.r4stats.com\n",
        "\n",
        "Linkedin learning:      https://oit.utk.edu/training/online-training/lil/\n",
        "\n",
        "Stackoverflow:          https://stackoverflow.com/questions\n",
        "\n",
        "\n",
        "### ---In a New Browser Tab---\n",
        "\n",
        "https://workshop.utk.edu/feedback.php"
      ]
    },
    {
      "cell_type": "markdown",
      "metadata": {
        "id": "xH28ewmvIpoC"
      },
      "source": [
        "#### ---LIST COMPREHENSION---\n",
        "\n",
        "List comprehension offers a shorter syntax when you want to create a new list based on the values of an existing list.\n",
        "\n",
        "**newlist = [expression for item in iterable if condition == True]**\n",
        "\n",
        "Example: Based on a list of fruits, you want a new list, containing only the fruits with the letter \"b\" in the name.\n",
        "\n",
        "Without list comprehension you will have to write a for statement with a conditional test inside:"
      ]
    },
    {
      "cell_type": "code",
      "execution_count": null,
      "metadata": {
        "id": "gE6YDDMQKbR5"
      },
      "outputs": [],
      "source": [
        "fruits = [\"apple\", \"banana\", \"cherry\", \"kiwi\", \"mango\", \"blue berry\"]\n",
        "newlist = []\n",
        "\n",
        "for x in fruits:\n",
        "  if \"b\" in x:\n",
        "    newlist.append(x)\n",
        "\n",
        "print(newlist)"
      ]
    },
    {
      "cell_type": "markdown",
      "metadata": {
        "id": "FDDSXUQvK3vj"
      },
      "source": [
        "With list comprehension you can do all that with only one line of code:"
      ]
    },
    {
      "cell_type": "code",
      "execution_count": null,
      "metadata": {
        "id": "M1FnKwZWK3YM"
      },
      "outputs": [],
      "source": [
        "newlist = [x for x in fruits if \"b\" in x]\n",
        "\n",
        "print(newlist)"
      ]
    },
    {
      "cell_type": "markdown",
      "metadata": {
        "id": "piUxVR06LNhK"
      },
      "source": [
        "**Condition**\n",
        "\n",
        "The condition is like a filter that only accepts the items that evaluate to be True."
      ]
    },
    {
      "cell_type": "code",
      "execution_count": null,
      "metadata": {
        "id": "hrHhzApjLV9K"
      },
      "outputs": [],
      "source": [
        "newlist = [x for x in fruits if \"y\" in x]\n",
        "newlist"
      ]
    },
    {
      "cell_type": "markdown",
      "metadata": {
        "id": "ozaCdFAmL0K7"
      },
      "source": [
        "**Expression**\n",
        "\n",
        "The expression is the current item in the iteration, but it is also the outcome, which you can manipulate before it ends up like a list item in the new list:"
      ]
    },
    {
      "cell_type": "code",
      "execution_count": null,
      "metadata": {
        "id": "SzHTQJ_dMLXc"
      },
      "outputs": [],
      "source": [
        "newlist = [x.upper() for x in fruits]\n",
        "print(newlist)"
      ]
    },
    {
      "cell_type": "markdown",
      "metadata": {
        "id": "sawAV8KNMmsK"
      },
      "source": [
        "The expression can also contain conditions, not like a filter, but as a way to manipulate the outcome:"
      ]
    },
    {
      "cell_type": "code",
      "execution_count": null,
      "metadata": {
        "id": "7IlRxjh6MhYD"
      },
      "outputs": [],
      "source": [
        "obj = [\"Even\" if i%2==0 else \"Odd\" for i in range(10)]\n",
        "print(obj)"
      ]
    },
    {
      "cell_type": "markdown",
      "metadata": {
        "id": "6UMKOHLPMvU0"
      },
      "source": [
        "The expression in the example above says:\n",
        "\n",
        "\"Return even if it is an even number, if it is an odd number return odd\"."
      ]
    }
  ],
  "metadata": {
    "colab": {
      "collapsed_sections": [
        "d-tHk_P6DdwK"
      ],
      "provenance": [],
      "authorship_tag": "ABX9TyOMS3Z1Ikb5mZBW4St8gNF7",
      "include_colab_link": true
    },
    "kernelspec": {
      "display_name": "Python 3",
      "name": "python3"
    },
    "language_info": {
      "name": "python"
    }
  },
  "nbformat": 4,
  "nbformat_minor": 0
}