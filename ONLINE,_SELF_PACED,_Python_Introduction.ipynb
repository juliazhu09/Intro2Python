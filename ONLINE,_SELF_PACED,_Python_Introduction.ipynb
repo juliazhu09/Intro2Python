{
  "nbformat": 4,
  "nbformat_minor": 0,
  "metadata": {
    "colab": {
      "provenance": [],
      "include_colab_link": true
    },
    "kernelspec": {
      "name": "python3",
      "display_name": "Python 3"
    },
    "language_info": {
      "name": "python"
    }
  },
  "cells": [
    {
      "cell_type": "markdown",
      "metadata": {
        "id": "view-in-github",
        "colab_type": "text"
      },
      "source": [
        "<a href=\"https://colab.research.google.com/github/juliazhu09/Intro2Python/blob/master/ONLINE%2C_SELF_PACED%2C_Python_Introduction.ipynb\" target=\"_parent\"><img src=\"https://colab.research.google.com/assets/colab-badge.svg\" alt=\"Open In Colab\"/></a>"
      ]
    },
    {
      "cell_type": "markdown",
      "source": [
        "# Python: Introduction\n",
        "\n",
        "### Xiaojuan Zhu\n",
        "### OIT Research Computing Support\n",
        "### Help Desk: 865-974-9900"
      ],
      "metadata": {
        "id": "X6lz5nHQZ3SL"
      }
    },
    {
      "cell_type": "markdown",
      "source": [
        "## Research Support\n",
        "\n",
        "Offers up to 15 free hours of research assistance each semester to most students, faculty, and staff. Includes assistance with:\n",
        "* SAS, SPSS, R, MATLAB, QDA Miner…\n",
        "* Research Planning, design, sample size…\n",
        "* Data entry, management, file conversions\n",
        "* Statistics, mathematics, data mining\n",
        "* Qualitative analysis and text analytics\n",
        "* Web survey design and deployment (Qualtrics)\n",
        "* Optical mark scanning and scoring\n",
        "\n",
        "See web page http://oit.utk.edu/research for details\n",
        "\n",
        "**If you want to get statstical help, you can make an appointment with us by call the help desk, 865-974-9900.**"
      ],
      "metadata": {
        "id": "LdItTS6AFga6"
      }
    },
    {
      "cell_type": "markdown",
      "source": [
        "![image](https://drive.google.com/uc?id=18TgIQW2UDPFEp-7Q0U3iwEis01urfRLH&authuser=xzhu8%40vols.utk.edu&usp=drive_fs)"
      ],
      "metadata": {
        "id": "8Ea5mmF8KxJt"
      }
    },
    {
      "cell_type": "markdown",
      "source": [
        "# What is python?\n",
        "\n",
        "https://www.youtube.com/watch?v=Y8Tko2YC5hA\n",
        "\n"
      ],
      "metadata": {
        "id": "zuXKM5LYLAMR"
      }
    },
    {
      "cell_type": "code",
      "source": [],
      "metadata": {
        "id": "x7k_WfzFLiEl"
      },
      "execution_count": null,
      "outputs": []
    },
    {
      "cell_type": "markdown",
      "source": [
        "### ---Install Add-on Pacakges---\n",
        "\n",
        "A Python package refers to a directory of Python\n",
        "module(s). A module in python is a .py file that\n",
        "defines one or more function/classes which you\n",
        "intend to reuse in different codes of your program.\n",
        "Use PIP to install a package either in a command prompt\n",
        "window or in Anaconda.\n",
        "\n",
        "To use them, we import them. Submodeles/functions can be stored\n",
        "in packages, and accessed with dot syntax.\n",
        "\n",
        "Some packages, such as sys and os, have already been installed\n",
        "in python, you do not need to install it again. We can import\n",
        "it directly.\n",
        "\n",
        "Official Python description of modules and importing them:\n",
        "https://docs.python.org/2/tutorial/modules.html\n",
        "\n",
        "\n"
      ],
      "metadata": {
        "id": "Wm74TDjJcSBv"
      }
    },
    {
      "cell_type": "code",
      "source": [
        "import sys\n",
        "print(sys.executable)"
      ],
      "metadata": {
        "id": "oviB750JaMhi"
      },
      "execution_count": null,
      "outputs": []
    },
    {
      "cell_type": "markdown",
      "source": [
        "#### **Install a package using Anaconda Prompt**\n",
        "``` conda install pacakagename ```\n",
        "\n",
        "For example:\n",
        "\n",
        "``` conda install seaborn ```\n",
        "\n",
        "#### **Install a package using windows CMD**\n",
        "\n",
        "``` pip install pacakagename```\n",
        "\n",
        "For example:\n",
        "\n",
        "``` pip install seaborn ```\n",
        "\n",
        "For details, please see the youtube vedio here, https://www.youtube.com/watch?v=Z_Kxg-EYvxM&t=4s.\n",
        "\n",
        "#### **Install a package at google colab**\n",
        "```!pip install a package```\n",
        "\n",
        "Colab environment comes with a number of pre-installed scientific and machine learning packages such as **numpy, scipy, pandas, tensorflow, and pytorch.**\n",
        "\n",
        "We can check the installed python packages using ```pip freeze```"
      ],
      "metadata": {
        "id": "PnkzGxLXc_Tg"
      }
    },
    {
      "cell_type": "code",
      "source": [
        "!pip install seaborn\n"
      ],
      "metadata": {
        "id": "EsFouUlGgLuk"
      },
      "execution_count": null,
      "outputs": []
    },
    {
      "cell_type": "markdown",
      "source": [
        "You only install a package once, but you need to import it from the package\n",
        "each time when you start python.\n",
        "\n",
        "I do it repeatedly in this workshop to\n",
        "emphasize that a package is being used."
      ],
      "metadata": {
        "id": "T-EN5e3kiEPi"
      }
    },
    {
      "cell_type": "code",
      "source": [
        "import os\n",
        "import sys\n",
        "import pandas as pd\n"
      ],
      "metadata": {
        "id": "uwzj77lrgwPP"
      },
      "execution_count": null,
      "outputs": []
    },
    {
      "cell_type": "markdown",
      "source": [
        "###---Documenting Your Program---\n",
        "\n",
        "Comments go from \"#\" to the end of the line\n"
      ],
      "metadata": {
        "id": "F-KUpp9vippO"
      }
    },
    {
      "cell_type": "markdown",
      "source": [
        "### ---ASSIGNMENT OPERATOR---\n",
        "\n",
        "When creating objects, you give them\n",
        "values using the assignment operator\n",
        " \"=\" as here:\n",
        "x = 1"
      ],
      "metadata": {
        "id": "sy5svkZijC92"
      }
    },
    {
      "cell_type": "code",
      "source": [
        "x = 1\n",
        "x"
      ],
      "metadata": {
        "id": "zfd6tpX6iBJT"
      },
      "execution_count": null,
      "outputs": []
    },
    {
      "cell_type": "markdown",
      "source": [
        "### ---OBJECTS & THEIR NAMES---\n",
        "\n",
        "Python is object oriented\n",
        "\n",
        "Everything: data, functions (procedures), models,\n",
        "etc. are objects, with its properties/attributes\n",
        "and methods(like functions).\n",
        "\n",
        "The object names should begin with a letter\n",
        "and can contain letters, numbers,\n",
        "underscores.\n",
        "But cannot have space or period.\n",
        "Case matters, e.g. myvar is not MyVar\n",
        "\n",
        "### ---OBJECT ATTRIBUTES AND METHODS---\n",
        "\n",
        "To access a variable/attraibute or a method, use dot syntax.\n",
        "\n",
        "Here I use pandas to create mydata as a dataframe object."
      ],
      "metadata": {
        "id": "n9NGMXHNjq58"
      }
    },
    {
      "cell_type": "code",
      "source": [
        "import pandas as pd\n",
        "mydata = pd.DataFrame(data={'id': [1, 2, 3, 4, 5, 6, 7, 8],\n",
        "                'workshop': [1, 2, 1, 2, 1, 2, 1, 2],\n",
        "                'gender' : ['f', 'f', 'f', ''  ,'m', 'm', 'm', 'm',]})\n",
        "mydata\n"
      ],
      "metadata": {
        "id": "FXlNdUbJkAMI"
      },
      "execution_count": null,
      "outputs": []
    },
    {
      "cell_type": "code",
      "source": [
        "# access an attribute or variable from mydata\n",
        "mydata.workshop"
      ],
      "metadata": {
        "id": "lp-_MbaykP5i"
      },
      "execution_count": null,
      "outputs": []
    },
    {
      "cell_type": "code",
      "source": [
        "# For example, mean() is a method of a dataframe\n",
        "mydata.mean()"
      ],
      "metadata": {
        "id": "HMFg8qK2kUrl"
      },
      "execution_count": null,
      "outputs": []
    },
    {
      "cell_type": "code",
      "source": [
        "# list all the attributes and methods of mydata.\n",
        "dir(mydata)"
      ],
      "metadata": {
        "id": "a5ZMGpJPkazq"
      },
      "execution_count": null,
      "outputs": []
    },
    {
      "cell_type": "code",
      "source": [],
      "metadata": {
        "id": "y_Tq2nL8kdTr"
      },
      "execution_count": null,
      "outputs": []
    },
    {
      "cell_type": "markdown",
      "source": [
        "###---PYTHON VARIABLES---\n",
        "\n",
        "Python's variable Types:\n",
        "\n",
        "Number (int, long, float, Complex)\n",
        "\n",
        "String\n",
        "\n",
        "Boolean: True or False\n",
        "\n",
        "List\n",
        "\n",
        "Tuple\n",
        "\n",
        "Dictionary\n",
        "\n",
        "We focus on list today. For details, see\n",
        "https://www.tutorialspoint.com/python/python_variable_types.htm\n",
        "Example."
      ],
      "metadata": {
        "id": "znO3hC2ckhOJ"
      }
    },
    {
      "cell_type": "code",
      "source": [
        "x =  1\n",
        "type(x)\n"
      ],
      "metadata": {
        "id": "Ml-L5xMIk1IQ"
      },
      "execution_count": null,
      "outputs": []
    },
    {
      "cell_type": "code",
      "source": [
        "y = 1.2\n",
        "print(type(y))"
      ],
      "metadata": {
        "id": "Y0UbEMeeleyA"
      },
      "execution_count": null,
      "outputs": []
    },
    {
      "cell_type": "code",
      "source": [
        "a = \"string\"\n",
        "print(type(a))"
      ],
      "metadata": {
        "id": "usxRAwhkliDY"
      },
      "execution_count": null,
      "outputs": []
    },
    {
      "cell_type": "markdown",
      "source": [
        "#### exercise 1\n",
        "Write a program that assigns three variables, one of each types: string, int,\n",
        "and float. Variable names and values can be arbitrary.\n",
        "Print each variable out to the screen."
      ],
      "metadata": {
        "id": "6aIKz_IKlmE3"
      }
    },
    {
      "cell_type": "code",
      "source": [],
      "metadata": {
        "id": "_SFF-x7HltFb"
      },
      "execution_count": null,
      "outputs": []
    },
    {
      "cell_type": "markdown",
      "source": [
        "**Create a list**\n",
        "\n",
        "A list contains items separated by commas and enclosed within square brackets ([ ])."
      ],
      "metadata": {
        "id": "69nzUpmflvZ4"
      }
    },
    {
      "cell_type": "code",
      "source": [
        "id = [1, 2, 3, 4, 5, 6, 7, 8]\n",
        "# Note: first item's index is 0 not 1.\n",
        "# Show the first item of id.\n",
        "id[0]\n",
        "\n"
      ],
      "metadata": {
        "id": "GZQ7M_wFl7SZ"
      },
      "execution_count": null,
      "outputs": []
    },
    {
      "cell_type": "code",
      "source": [
        "id[7]"
      ],
      "metadata": {
        "id": "8jerkjD9mENy"
      },
      "execution_count": null,
      "outputs": []
    },
    {
      "cell_type": "code",
      "source": [
        "# Items can be mixed types in a list.\n",
        "mixlist = [\"a\", 1]\n",
        "print(mixlist)"
      ],
      "metadata": {
        "id": "YNZUx4c6mCHx"
      },
      "execution_count": null,
      "outputs": []
    },
    {
      "cell_type": "markdown",
      "source": [
        "#### exercise 2##\n",
        "\n",
        "The top five highest mountain peaks on Earth, according to Wikipedia, are as follows:\n",
        "\n",
        "1) Mount Everest / Sagarmatha / Chomolungma 8,848 m\n",
        "\n",
        "2) K2 / Qogir / Godwin Austen 8,611 m\n",
        "\n",
        "3) Kangchenjunga             8,586 m\n",
        "\n",
        "4) Lhotse                    8,516 m\n",
        "\n",
        "5) Makalu                    8,485 m\n",
        "\n",
        "Use five mountain names, but store them as only names in a list (you\n",
        "can use one name of your choice for those with multiple names).\n",
        "Then, print to the screen the name of Kangchenjunga by referencing\n",
        "its index position in the list.\n",
        "\n",
        "Hint ```Mtn = [\"K2\",  \"Kangchenjunga\" ]```"
      ],
      "metadata": {
        "id": "yThMw-Sgm3en"
      }
    },
    {
      "cell_type": "code",
      "source": [],
      "metadata": {
        "id": "yN96W2jCnWHt"
      },
      "execution_count": null,
      "outputs": []
    },
    {
      "cell_type": "markdown",
      "source": [
        "**Tuples**:Like lists, contains several items enclosed within parenthesis.\n",
        "but immutable, and usually used for smaller sequences\n",
        "of things that are related to each other.\n",
        "Think of Cartesian coordinates:(x, y, z)\n",
        "The differences between tuples and lists are, the tuples cannot be changed\n",
        "unlike lists, tuples use parentheses, whereas lists use square brackets."
      ],
      "metadata": {
        "id": "ccMJ0twOnXl6"
      }
    },
    {
      "cell_type": "code",
      "source": [
        "aTuple = (\"foo\", \"bar\")\n",
        "len(aTuple)"
      ],
      "metadata": {
        "id": "bEvTQjQvns9A"
      },
      "execution_count": null,
      "outputs": []
    },
    {
      "cell_type": "code",
      "source": [
        "# Following action is not valid for tuples\n",
        "# aTuple[0] = 100\n",
        "aTuple[0] = 100"
      ],
      "metadata": {
        "id": "pjPqUKZwntzo"
      },
      "execution_count": null,
      "outputs": []
    },
    {
      "cell_type": "code",
      "source": [
        "# list can be changed.\n",
        "alist=[\"foo\", \"bar\"]\n",
        "alist[0] = 100\n",
        "\n",
        "print(alist)"
      ],
      "metadata": {
        "id": "_3TIIyIunwIX"
      },
      "execution_count": null,
      "outputs": []
    },
    {
      "cell_type": "markdown",
      "source": [
        "#### exercise 3\n",
        "\n",
        "create a tuple use Kangchenjunga's name and height and then query the height of the Kanchenjunga\n",
        "hint: ``` mtn = (\"K2\", 8611)```"
      ],
      "metadata": {
        "id": "iTvObh5Jn0m7"
      }
    },
    {
      "cell_type": "markdown",
      "source": [
        "**Dicitonairy**: A collection of variables indexed by other, \"key\" variables. Instead of using numeric or default index in python, if you want to create your own index, you need to use dictionary.\n",
        "\"**Curly Braces {}**\" are used in Python to define a dictionary ."
      ],
      "metadata": {
        "id": "ck6rpD6-oC-m"
      }
    },
    {
      "cell_type": "code",
      "source": [
        "aDict = {}\n",
        "aDict[\"a\"] = 364936\n",
        "aDict[\"b\"] = 12.4\n",
        "aDict[7] = \"hi\""
      ],
      "metadata": {
        "id": "zUI14zcEoCVN"
      },
      "execution_count": null,
      "outputs": []
    },
    {
      "cell_type": "code",
      "source": [
        "print(aDict)\n"
      ],
      "metadata": {
        "id": "LwivreVzoYYy"
      },
      "execution_count": null,
      "outputs": []
    },
    {
      "cell_type": "code",
      "source": [
        "aDict[\"a\"]\n"
      ],
      "metadata": {
        "id": "kW248GOCoc0z"
      },
      "execution_count": null,
      "outputs": []
    },
    {
      "cell_type": "code",
      "source": [
        "aDict[\"b\"]\n",
        "aDict[7]"
      ],
      "metadata": {
        "id": "bGcoVYcloh8S"
      },
      "execution_count": null,
      "outputs": []
    },
    {
      "cell_type": "markdown",
      "source": [
        "#### exercise 4\n",
        "Mary’s favorite candy is chocolate, Rodrigo’s favorite is bubble gum, and\n",
        "Larry’s is gummy bears. Write a dictionary that stores, for each person,\n",
        "their favorite candy. Then, pick a person among the three, and, using the\n",
        "dictionary keys you defined, print to the screen a statement something to\n",
        "the effect of “Mary’s candy of choice is chocolate.” Make sure that your\n",
        "print() statement is a concatenation of some text and the result of querying\n",
        "your dictionary for that person’s favorite candy.\n",
        "\n",
        "Hint:\n",
        "```python\n",
        "aDict = {\"Mary\": \"Chocolate\"}\n",
        "print(\"Mary's candy of chocie is \" + aDict[\"Mary\"])\n",
        "```"
      ],
      "metadata": {
        "id": "3rXmV-F-oj1a"
      }
    },
    {
      "cell_type": "code",
      "source": [],
      "metadata": {
        "id": "6yVqI-hNpAFg"
      },
      "execution_count": null,
      "outputs": []
    },
    {
      "cell_type": "markdown",
      "source": [
        "**Keywords**: reserved words in python.\n",
        "Cannot be used as a variable name."
      ],
      "metadata": {
        "id": "ATBGiRu0pEMb"
      }
    },
    {
      "cell_type": "code",
      "source": [
        "import keyword\n",
        "print(keyword.kwlist)"
      ],
      "metadata": {
        "id": "TmdHLnsOpBkm"
      },
      "execution_count": null,
      "outputs": []
    },
    {
      "cell_type": "markdown",
      "source": [
        "### ---PYTHON FUNCTIONS---\n",
        "\n",
        "As you already know, Python gives you many built-in\n",
        "functions e.g. print(mydata), dir( ), type( )\n",
        "\n",
        "When you use a function, you \"call\" its name.\n",
        "\n",
        "print( ) is the default function\n",
        "  so this function call:  print(q1)"
      ],
      "metadata": {
        "id": "o4aJAifipUl6"
      }
    },
    {
      "cell_type": "code",
      "source": [
        "print(\"hello world\")"
      ],
      "metadata": {
        "id": "n81TlWExppbM"
      },
      "execution_count": null,
      "outputs": []
    },
    {
      "cell_type": "markdown",
      "source": [
        "### ---USER-DEFINED FUNCTIONS---\n",
        "\n",
        "A function statement starts with the def keyword, followed by\n",
        "the function name, parameters and keywords and end with a colon\":\".\n",
        "\n",
        "Parameters/keywords in a function are called \"arguments\"\n",
        "Arguments are enclosed within parentheses\n",
        "and separated by commas\n",
        "\n",
        "In python, user-defined functions can take four\n",
        "different types of arguments. The argument types\n",
        "and their meanings, however, are pre-defined and\n",
        "can’t be changed.\n",
        "\n",
        "A function use indentation to define the content of the function.\n",
        "The content indents four spaces.\n",
        "Use **Tab** key as the shortcut\n",
        "\n",
        "The colon is used to declare the start of an indented block.\n",
        "\n",
        "When we need to use indentation:\n",
        "\n",
        "    if/else statement\n",
        "\n",
        "    for/while statement\n",
        "\n",
        "    def statement\n",
        "\n",
        "    class statement\n"
      ],
      "metadata": {
        "id": "rC6cLH3FsEQt"
      }
    },
    {
      "cell_type": "code",
      "source": [
        "# example:\n",
        "def my_function():\n",
        "  print(\"Hello from a function\")\n",
        "# Calling a function\n",
        "# To call a function, use the function name followed by parenthesis:\n",
        "my_function()"
      ],
      "metadata": {
        "id": "7tKOBUf4sv0n"
      },
      "execution_count": null,
      "outputs": []
    },
    {
      "cell_type": "code",
      "source": [
        "# example:\n",
        "def my_function_with_args(username, greeting):\n",
        "    print(\"Hello \"+ username + \" From My Function!, I wish you \" + greeting + \"!\")"
      ],
      "metadata": {
        "id": "UCDjCliTsykC"
      },
      "execution_count": null,
      "outputs": []
    },
    {
      "cell_type": "code",
      "source": [
        "#prints - \"Hello, Julia, From My Function!, I wish you a great year!\"\n",
        "my_function_with_args(\"Mary\", \"a great year\")"
      ],
      "metadata": {
        "id": "-VVGEfUSs08X"
      },
      "execution_count": null,
      "outputs": []
    },
    {
      "cell_type": "markdown",
      "source": [
        "###---FUNCTION OUTPUT---\n",
        "\n",
        "Returning a value from a function, Not only can\n",
        "you pass a parameter value into a function, a function\n",
        "can also produce a value, i.e., Output.\n",
        "\n",
        "For example,"
      ],
      "metadata": {
        "id": "q0RkWT3xs358"
      }
    },
    {
      "cell_type": "code",
      "source": [
        "len(aDict)"
      ],
      "metadata": {
        "id": "CdrSSMR5s_YU"
      },
      "execution_count": null,
      "outputs": []
    },
    {
      "cell_type": "markdown",
      "source": [
        "That value is a single object that may contain\n",
        "much information (e.g. data frame, list)"
      ],
      "metadata": {
        "id": "AqtghbqDtRBc"
      }
    },
    {
      "cell_type": "code",
      "source": [
        "#  Example\n",
        "def square(x):\n",
        "    y = x * x\n",
        "    return y\n",
        "\n",
        "result = square(10)\n",
        "print(result)\n",
        "# Note: Cannot use print to return a value"
      ],
      "metadata": {
        "id": "G-rbQqHptXGp"
      },
      "execution_count": null,
      "outputs": []
    },
    {
      "cell_type": "markdown",
      "source": [
        "#### exercies 5\n",
        "\n",
        "write a function that will return a person's BMI, where height and weight are two variable names passed to the function as the argument.\n",
        "\n",
        "Then call your function to compute a person's BMI with heigh of 1.6m and weight of 75kg.\n",
        "\n",
        "Hint:\n",
        " ```python\n",
        "       def BMI(weight, height):\n",
        "           aBMI = weight / (height * height)\n",
        "```\n",
        "\n",
        "Formula: weight (kg) / [height (cm)]^2\n",
        "\n",
        "Formula: weight (lb) / [height (in)]^2 x 703"
      ],
      "metadata": {
        "id": "Id_nu9WBtcL4"
      }
    },
    {
      "cell_type": "markdown",
      "source": [
        "###---CONDITIONAL STATEMENTS---\n",
        "\n",
        "In the real world, we commonly must evaluate information\n",
        "around us and then choose one course of action or another\n",
        "based on what we observe:\n",
        "\n",
        "For example,\n",
        "\n",
        "    \"If the weather is nice, then I’ll mow the lawn.\n",
        "\n",
        "     Otherwise, I won’t mow.\"\n",
        "\n",
        "   * if/else-statement\n",
        "\n",
        "   * if/elif/else-statement\n",
        "\n",
        "\n",
        "Blocks of code under if statements are executed as long\n",
        "as the stated condition is true."
      ],
      "metadata": {
        "id": "sHENNLbluq5t"
      }
    },
    {
      "cell_type": "code",
      "source": [
        "# Here is an if/else-statement example:\n",
        "weather = str(input('How is the weather today, nice or not? '))\n",
        "if weather == \"nice\":\n",
        "    print('I will mow the Lawn')\n",
        "else:\n",
        "    print(\"I won't mow the Lawn\")\n",
        "#note: double equal sign is used here."
      ],
      "metadata": {
        "id": "YLIr4G-5uqAH"
      },
      "execution_count": null,
      "outputs": []
    },
    {
      "cell_type": "code",
      "source": [
        "# Can have elif (which is a contraction of \"else if\") and/or\n",
        "# else statements associated, when the condition is not true.\n",
        "# If/elif/else statement example,\n",
        "i = 1\n",
        "j = 2\n",
        "if i + j == 3:\n",
        "    print(\"three\")\n",
        "elif i + j == 2:\n",
        "    print(\"two\")\n",
        "else:\n",
        "    print(\"neither!\")"
      ],
      "metadata": {
        "id": "AwTZ1wMFwBP3"
      },
      "execution_count": null,
      "outputs": []
    },
    {
      "cell_type": "code",
      "source": [
        "# Create a function\n",
        "\n",
        "def checkNumber(i, j):\n",
        "    if i + j == 3:\n",
        "        print(\"three\")\n",
        "    elif i + j == 2:\n",
        "        print(\"two\")\n",
        "    else:\n",
        "        print(\"neither!\")"
      ],
      "metadata": {
        "id": "nT37W7lMwTDx"
      },
      "execution_count": null,
      "outputs": []
    },
    {
      "cell_type": "code",
      "source": [
        "checkNumber(1, 1)\n"
      ],
      "metadata": {
        "id": "-MSZMdQNwa3m"
      },
      "execution_count": null,
      "outputs": []
    },
    {
      "cell_type": "code",
      "source": [
        "checkNumber(10, 1)"
      ],
      "metadata": {
        "id": "7c9f31f_weCN"
      },
      "execution_count": null,
      "outputs": []
    },
    {
      "cell_type": "code",
      "source": [
        "# ---TABLE OF LOGICAL COMPARISONS---\n",
        "#\n",
        "# Equals              ==\n",
        "# Less than           <\n",
        "# Greater than        >\n",
        "# Less or equal       <=\n",
        "# Greater or equal    >=\n",
        "# Not equal           !=\n",
        "# And                 &\n",
        "# Or                  |\n",
        "# 0<=x<=1             (x >= 0) & (x <=1)"
      ],
      "metadata": {
        "id": "X0kKcrAvwsZg"
      },
      "execution_count": null,
      "outputs": []
    },
    {
      "cell_type": "markdown",
      "source": [
        "\n",
        "#### exercise 6\n",
        "\n",
        "Import the random module, and use the random function in it that gives you\n",
        "an integer value from the range [1, 1000), print to the screen a message saying the number is odd or even. Part of the code are shown below."
      ],
      "metadata": {
        "id": "mXlevewywik5"
      }
    },
    {
      "cell_type": "code",
      "source": [
        "from random import randint\n",
        "# generate a random number ranging from 0 to 1000\n",
        "n = randint(0,1000)\n",
        "m = n % 2 # Modulo (%) calculates the remainder after division.\n",
        "print(n)\n",
        "# Plese write the if else statement below,\n",
        "if :\n",
        "    print(\"odd\")\n",
        "else:\n",
        "    print(\"even\")"
      ],
      "metadata": {
        "id": "UBW0xro-wg9v"
      },
      "execution_count": null,
      "outputs": []
    },
    {
      "cell_type": "markdown",
      "source": [
        "### --- ITERATION---\n",
        "Iteration is typically done by means of a loop,\n",
        "being a piece of code that is executed repeatedly.\n",
        "We can control how often a loop repeats, or whether it repeats at all,\n",
        "with control flow statements, which evaluates conditions.\n",
        "\n",
        "Control flow statements can control more than just loops.\n",
        "\n",
        "For more control flow statements, see\n",
        "https://docs.python.org/2.7/tutorial/controlflow.html\n",
        "\n",
        "#### ---FOR STATEMENT---\n",
        "\n",
        "Blocks of code under for statements repeat themselves for each\n",
        "elements of some iterable object. They make a for loop.\n"
      ],
      "metadata": {
        "id": "nBX_sPBo7NNJ"
      }
    },
    {
      "cell_type": "code",
      "source": [
        "namelist = [\"Bob\", \"Josh\", \"Cary\",\"Michael\",\"Rochelle\", \"Sun\", \"Christina\"]\n",
        "\n",
        "for name in namelist:\n",
        "    print (\"Hello \" + name + \", Merry Christmas!\")"
      ],
      "metadata": {
        "id": "5AkCBH9N7iQt"
      },
      "execution_count": null,
      "outputs": []
    },
    {
      "cell_type": "markdown",
      "source": [
        "Iterable objects are those that have a defined sequence of zero or more objects.\n",
        "\n",
        "e.g. lists, strings, tuples, etc."
      ],
      "metadata": {
        "id": "bNUy99e-7s_B"
      }
    },
    {
      "cell_type": "code",
      "source": [
        "aText = \"Hello world!\"\n",
        "\n",
        "for i in aText:\n",
        "    print(i)"
      ],
      "metadata": {
        "id": "9bgY0dyz7kyi"
      },
      "execution_count": null,
      "outputs": []
    },
    {
      "cell_type": "markdown",
      "source": [
        "###---RANGE FUNCTION---\n",
        "\n",
        "Often we want to repeat an action some specified number of\n",
        "times, rather than over a collection of objects.\n",
        "\n",
        "The range() function returns an iterable object of numbers, of size\n",
        "(and optionally, starting value and increment) you ask for. In python,\n",
        "we iterate on that.\n",
        "\n",
        "Ask for a range of itegers, starting at zero and ending before 7."
      ],
      "metadata": {
        "id": "-rA58AFq8non"
      }
    },
    {
      "cell_type": "code",
      "source": [
        "aRange =  range(7)\n",
        "for i in aRange:\n",
        "    print(i)"
      ],
      "metadata": {
        "id": "ZXnxhUmO81IQ"
      },
      "execution_count": null,
      "outputs": []
    },
    {
      "cell_type": "code",
      "source": [
        "for i in range(3, 7): # start at 3 end before 7\n",
        "    print(i)"
      ],
      "metadata": {
        "id": "__rEtV9E85ou"
      },
      "execution_count": null,
      "outputs": []
    },
    {
      "cell_type": "code",
      "source": [
        "for i in range(2, 12, 3): #start at 2, end before 12, increment by 3\n",
        "    print(i)"
      ],
      "metadata": {
        "id": "kalcvfQh87ho"
      },
      "execution_count": null,
      "outputs": []
    },
    {
      "cell_type": "markdown",
      "source": [
        "#### exercise 7\n",
        "Use the range() function to do exercise 6 five times."
      ],
      "metadata": {
        "id": "N2t9mfbO8_XJ"
      }
    },
    {
      "cell_type": "code",
      "source": [
        "from random import randint\n",
        "# use for statement to run the statement five times\n",
        "\n",
        "for i in    :\n",
        "    n = randint(0, 1000)\n",
        "    m = n % 2 # Modulo (%) calculates the remainder after division.\n",
        "        # Plese write the if else statement below,\n",
        "    if m==1:\n",
        "        print(str(n) + \" is an odd number.\")\n",
        "    else:\n",
        "        print(str(n) + \" is an even number.\")"
      ],
      "metadata": {
        "id": "rr6yYyqv9Fyn"
      },
      "execution_count": null,
      "outputs": []
    },
    {
      "cell_type": "code",
      "source": [
        "## extra credit assignment ##\n",
        "## exercise 8 ##\n",
        "# use a for statement to calucate the sum of consecutive numbers 1 to 100\n",
        "# print the result to the screen"
      ],
      "metadata": {
        "id": "m03fuVTo9Gxg"
      },
      "execution_count": null,
      "outputs": []
    },
    {
      "cell_type": "markdown",
      "source": [
        "####---WHILE STATEMENT ---\n",
        "\n",
        "Sometimes we use a conditional statment to control the number of times\n",
        "a loop repeats. As long as the condition is true, the program\n",
        "will repeatedly execute. So we need to use while statement.\n",
        "\n",
        "Blocks of code under while statements repeat themselves until a\n",
        "specified condition is detected as false - they make a while loop.\n",
        "\n",
        "Before the indented block (re)run, the condition is evaluated. It\n",
        "runs only if the condition is true."
      ],
      "metadata": {
        "id": "k6U0VjBU9RBV"
      }
    },
    {
      "cell_type": "code",
      "source": [
        "i = 0\n",
        "while i < 10:\n",
        "    print(str(i) + \" is less than 10\")\n",
        "    i = i + 1\n",
        "print(i)\n"
      ],
      "metadata": {
        "id": "dSd8e6_w9M6d"
      },
      "execution_count": null,
      "outputs": []
    },
    {
      "cell_type": "markdown",
      "source": [
        "If i had left out the increment, i could be always <10,\n",
        "and we'd get an infinite loop.\n",
        "\n",
        "Use Ctrl+C to terminate a loop."
      ],
      "metadata": {
        "id": "0JkNOQO_9dVk"
      }
    },
    {
      "cell_type": "markdown",
      "source": [
        "#### exercise 9 ##\n",
        "To make things concrete and numerical, suppose the following:\n",
        "The tea starts at 115 degrees Fahrenheit. You want it at 112 degrees.\n",
        "A chip of ice turns out to lower the temperature one degree each time.\n",
        "You test the temperature each time, and also print out the temperature\n",
        "before reducing the temperature. In Python you could write and run the code below,:\n"
      ],
      "metadata": {
        "id": "W4kUzn489jdF"
      }
    },
    {
      "cell_type": "code",
      "source": [
        "temperature = 115\n",
        "while temperature  : # first while loop code\n",
        "    print(str(temperature))\n",
        "    temperature = temperature - 1\n",
        "print('The tea is cool enough.')"
      ],
      "metadata": {
        "id": "Wm3RdD5j9uso"
      },
      "execution_count": null,
      "outputs": []
    },
    {
      "cell_type": "markdown",
      "source": [
        "###---QUESTIONS?---\n",
        "\n",
        "### ---IMPORTING DATA ---\n",
        "\n",
        "\n"
      ],
      "metadata": {
        "id": "05w1s5t-97YY"
      }
    },
    {
      "cell_type": "code",
      "source": [
        "!pip uninstall pandas --yes\n",
        "!pip install pandas==2.1"
      ],
      "metadata": {
        "id": "lB1jNUZCA3wO"
      },
      "execution_count": null,
      "outputs": []
    },
    {
      "cell_type": "code",
      "source": [
        "import pandas as pd\n",
        "url = \"https://drive.google.com/uc?id=18O8ANLvClngx1lRO7Q7PPuKn4FQgu5RE&authuser=xzhu8%40vols.utk.edu&usp=drive_fs\"\n",
        "mydata100 = pd.read_csv(url)\n",
        "\n",
        "# show the first five lines of mydata100\n",
        "mydata100.head()"
      ],
      "metadata": {
        "colab": {
          "base_uri": "https://localhost:8080/",
          "height": 206
        },
        "id": "vG6la_S3-rT_",
        "outputId": "4f4237e5-cfc3-4ede-f9f3-62287e8d7496"
      },
      "execution_count": 3,
      "outputs": [
        {
          "output_type": "execute_result",
          "data": {
            "text/plain": [
              "   Unnamed: 0  id workshop  gender  q1  q2   q3  q4  pretest  posttest\n",
              "0           1   1        R  Female   4   3  4.0   5       72        80\n",
              "1           2   2     SPSS    Male   3   4  3.0   4       70        75\n",
              "2           3   3      SAS  Female   3   2  NaN   3       74        78\n",
              "3           4   4     SPSS  Female   5   4  5.0   3       80        82\n",
              "4           5   5    Stata  Female   4   4  3.0   4       75        81"
            ],
            "text/html": [
              "\n",
              "  <div id=\"df-b8723c8d-613b-4b6c-8a27-9e74e789233f\" class=\"colab-df-container\">\n",
              "    <div>\n",
              "<style scoped>\n",
              "    .dataframe tbody tr th:only-of-type {\n",
              "        vertical-align: middle;\n",
              "    }\n",
              "\n",
              "    .dataframe tbody tr th {\n",
              "        vertical-align: top;\n",
              "    }\n",
              "\n",
              "    .dataframe thead th {\n",
              "        text-align: right;\n",
              "    }\n",
              "</style>\n",
              "<table border=\"1\" class=\"dataframe\">\n",
              "  <thead>\n",
              "    <tr style=\"text-align: right;\">\n",
              "      <th></th>\n",
              "      <th>Unnamed: 0</th>\n",
              "      <th>id</th>\n",
              "      <th>workshop</th>\n",
              "      <th>gender</th>\n",
              "      <th>q1</th>\n",
              "      <th>q2</th>\n",
              "      <th>q3</th>\n",
              "      <th>q4</th>\n",
              "      <th>pretest</th>\n",
              "      <th>posttest</th>\n",
              "    </tr>\n",
              "  </thead>\n",
              "  <tbody>\n",
              "    <tr>\n",
              "      <th>0</th>\n",
              "      <td>1</td>\n",
              "      <td>1</td>\n",
              "      <td>R</td>\n",
              "      <td>Female</td>\n",
              "      <td>4</td>\n",
              "      <td>3</td>\n",
              "      <td>4.0</td>\n",
              "      <td>5</td>\n",
              "      <td>72</td>\n",
              "      <td>80</td>\n",
              "    </tr>\n",
              "    <tr>\n",
              "      <th>1</th>\n",
              "      <td>2</td>\n",
              "      <td>2</td>\n",
              "      <td>SPSS</td>\n",
              "      <td>Male</td>\n",
              "      <td>3</td>\n",
              "      <td>4</td>\n",
              "      <td>3.0</td>\n",
              "      <td>4</td>\n",
              "      <td>70</td>\n",
              "      <td>75</td>\n",
              "    </tr>\n",
              "    <tr>\n",
              "      <th>2</th>\n",
              "      <td>3</td>\n",
              "      <td>3</td>\n",
              "      <td>SAS</td>\n",
              "      <td>Female</td>\n",
              "      <td>3</td>\n",
              "      <td>2</td>\n",
              "      <td>NaN</td>\n",
              "      <td>3</td>\n",
              "      <td>74</td>\n",
              "      <td>78</td>\n",
              "    </tr>\n",
              "    <tr>\n",
              "      <th>3</th>\n",
              "      <td>4</td>\n",
              "      <td>4</td>\n",
              "      <td>SPSS</td>\n",
              "      <td>Female</td>\n",
              "      <td>5</td>\n",
              "      <td>4</td>\n",
              "      <td>5.0</td>\n",
              "      <td>3</td>\n",
              "      <td>80</td>\n",
              "      <td>82</td>\n",
              "    </tr>\n",
              "    <tr>\n",
              "      <th>4</th>\n",
              "      <td>5</td>\n",
              "      <td>5</td>\n",
              "      <td>Stata</td>\n",
              "      <td>Female</td>\n",
              "      <td>4</td>\n",
              "      <td>4</td>\n",
              "      <td>3.0</td>\n",
              "      <td>4</td>\n",
              "      <td>75</td>\n",
              "      <td>81</td>\n",
              "    </tr>\n",
              "  </tbody>\n",
              "</table>\n",
              "</div>\n",
              "    <div class=\"colab-df-buttons\">\n",
              "\n",
              "  <div class=\"colab-df-container\">\n",
              "    <button class=\"colab-df-convert\" onclick=\"convertToInteractive('df-b8723c8d-613b-4b6c-8a27-9e74e789233f')\"\n",
              "            title=\"Convert this dataframe to an interactive table.\"\n",
              "            style=\"display:none;\">\n",
              "\n",
              "  <svg xmlns=\"http://www.w3.org/2000/svg\" height=\"24px\" viewBox=\"0 -960 960 960\">\n",
              "    <path d=\"M120-120v-720h720v720H120Zm60-500h600v-160H180v160Zm220 220h160v-160H400v160Zm0 220h160v-160H400v160ZM180-400h160v-160H180v160Zm440 0h160v-160H620v160ZM180-180h160v-160H180v160Zm440 0h160v-160H620v160Z\"/>\n",
              "  </svg>\n",
              "    </button>\n",
              "\n",
              "  <style>\n",
              "    .colab-df-container {\n",
              "      display:flex;\n",
              "      gap: 12px;\n",
              "    }\n",
              "\n",
              "    .colab-df-convert {\n",
              "      background-color: #E8F0FE;\n",
              "      border: none;\n",
              "      border-radius: 50%;\n",
              "      cursor: pointer;\n",
              "      display: none;\n",
              "      fill: #1967D2;\n",
              "      height: 32px;\n",
              "      padding: 0 0 0 0;\n",
              "      width: 32px;\n",
              "    }\n",
              "\n",
              "    .colab-df-convert:hover {\n",
              "      background-color: #E2EBFA;\n",
              "      box-shadow: 0px 1px 2px rgba(60, 64, 67, 0.3), 0px 1px 3px 1px rgba(60, 64, 67, 0.15);\n",
              "      fill: #174EA6;\n",
              "    }\n",
              "\n",
              "    .colab-df-buttons div {\n",
              "      margin-bottom: 4px;\n",
              "    }\n",
              "\n",
              "    [theme=dark] .colab-df-convert {\n",
              "      background-color: #3B4455;\n",
              "      fill: #D2E3FC;\n",
              "    }\n",
              "\n",
              "    [theme=dark] .colab-df-convert:hover {\n",
              "      background-color: #434B5C;\n",
              "      box-shadow: 0px 1px 3px 1px rgba(0, 0, 0, 0.15);\n",
              "      filter: drop-shadow(0px 1px 2px rgba(0, 0, 0, 0.3));\n",
              "      fill: #FFFFFF;\n",
              "    }\n",
              "  </style>\n",
              "\n",
              "    <script>\n",
              "      const buttonEl =\n",
              "        document.querySelector('#df-b8723c8d-613b-4b6c-8a27-9e74e789233f button.colab-df-convert');\n",
              "      buttonEl.style.display =\n",
              "        google.colab.kernel.accessAllowed ? 'block' : 'none';\n",
              "\n",
              "      async function convertToInteractive(key) {\n",
              "        const element = document.querySelector('#df-b8723c8d-613b-4b6c-8a27-9e74e789233f');\n",
              "        const dataTable =\n",
              "          await google.colab.kernel.invokeFunction('convertToInteractive',\n",
              "                                                    [key], {});\n",
              "        if (!dataTable) return;\n",
              "\n",
              "        const docLinkHtml = 'Like what you see? Visit the ' +\n",
              "          '<a target=\"_blank\" href=https://colab.research.google.com/notebooks/data_table.ipynb>data table notebook</a>'\n",
              "          + ' to learn more about interactive tables.';\n",
              "        element.innerHTML = '';\n",
              "        dataTable['output_type'] = 'display_data';\n",
              "        await google.colab.output.renderOutput(dataTable, element);\n",
              "        const docLink = document.createElement('div');\n",
              "        docLink.innerHTML = docLinkHtml;\n",
              "        element.appendChild(docLink);\n",
              "      }\n",
              "    </script>\n",
              "  </div>\n",
              "\n",
              "\n",
              "    <div id=\"df-fb69f426-8179-4563-a1cc-87bb2a27ddca\">\n",
              "      <button class=\"colab-df-quickchart\" onclick=\"quickchart('df-fb69f426-8179-4563-a1cc-87bb2a27ddca')\"\n",
              "                title=\"Suggest charts\"\n",
              "                style=\"display:none;\">\n",
              "\n",
              "<svg xmlns=\"http://www.w3.org/2000/svg\" height=\"24px\"viewBox=\"0 0 24 24\"\n",
              "     width=\"24px\">\n",
              "    <g>\n",
              "        <path d=\"M19 3H5c-1.1 0-2 .9-2 2v14c0 1.1.9 2 2 2h14c1.1 0 2-.9 2-2V5c0-1.1-.9-2-2-2zM9 17H7v-7h2v7zm4 0h-2V7h2v10zm4 0h-2v-4h2v4z\"/>\n",
              "    </g>\n",
              "</svg>\n",
              "      </button>\n",
              "\n",
              "<style>\n",
              "  .colab-df-quickchart {\n",
              "      --bg-color: #E8F0FE;\n",
              "      --fill-color: #1967D2;\n",
              "      --hover-bg-color: #E2EBFA;\n",
              "      --hover-fill-color: #174EA6;\n",
              "      --disabled-fill-color: #AAA;\n",
              "      --disabled-bg-color: #DDD;\n",
              "  }\n",
              "\n",
              "  [theme=dark] .colab-df-quickchart {\n",
              "      --bg-color: #3B4455;\n",
              "      --fill-color: #D2E3FC;\n",
              "      --hover-bg-color: #434B5C;\n",
              "      --hover-fill-color: #FFFFFF;\n",
              "      --disabled-bg-color: #3B4455;\n",
              "      --disabled-fill-color: #666;\n",
              "  }\n",
              "\n",
              "  .colab-df-quickchart {\n",
              "    background-color: var(--bg-color);\n",
              "    border: none;\n",
              "    border-radius: 50%;\n",
              "    cursor: pointer;\n",
              "    display: none;\n",
              "    fill: var(--fill-color);\n",
              "    height: 32px;\n",
              "    padding: 0;\n",
              "    width: 32px;\n",
              "  }\n",
              "\n",
              "  .colab-df-quickchart:hover {\n",
              "    background-color: var(--hover-bg-color);\n",
              "    box-shadow: 0 1px 2px rgba(60, 64, 67, 0.3), 0 1px 3px 1px rgba(60, 64, 67, 0.15);\n",
              "    fill: var(--button-hover-fill-color);\n",
              "  }\n",
              "\n",
              "  .colab-df-quickchart-complete:disabled,\n",
              "  .colab-df-quickchart-complete:disabled:hover {\n",
              "    background-color: var(--disabled-bg-color);\n",
              "    fill: var(--disabled-fill-color);\n",
              "    box-shadow: none;\n",
              "  }\n",
              "\n",
              "  .colab-df-spinner {\n",
              "    border: 2px solid var(--fill-color);\n",
              "    border-color: transparent;\n",
              "    border-bottom-color: var(--fill-color);\n",
              "    animation:\n",
              "      spin 1s steps(1) infinite;\n",
              "  }\n",
              "\n",
              "  @keyframes spin {\n",
              "    0% {\n",
              "      border-color: transparent;\n",
              "      border-bottom-color: var(--fill-color);\n",
              "      border-left-color: var(--fill-color);\n",
              "    }\n",
              "    20% {\n",
              "      border-color: transparent;\n",
              "      border-left-color: var(--fill-color);\n",
              "      border-top-color: var(--fill-color);\n",
              "    }\n",
              "    30% {\n",
              "      border-color: transparent;\n",
              "      border-left-color: var(--fill-color);\n",
              "      border-top-color: var(--fill-color);\n",
              "      border-right-color: var(--fill-color);\n",
              "    }\n",
              "    40% {\n",
              "      border-color: transparent;\n",
              "      border-right-color: var(--fill-color);\n",
              "      border-top-color: var(--fill-color);\n",
              "    }\n",
              "    60% {\n",
              "      border-color: transparent;\n",
              "      border-right-color: var(--fill-color);\n",
              "    }\n",
              "    80% {\n",
              "      border-color: transparent;\n",
              "      border-right-color: var(--fill-color);\n",
              "      border-bottom-color: var(--fill-color);\n",
              "    }\n",
              "    90% {\n",
              "      border-color: transparent;\n",
              "      border-bottom-color: var(--fill-color);\n",
              "    }\n",
              "  }\n",
              "</style>\n",
              "\n",
              "      <script>\n",
              "        async function quickchart(key) {\n",
              "          const quickchartButtonEl =\n",
              "            document.querySelector('#' + key + ' button');\n",
              "          quickchartButtonEl.disabled = true;  // To prevent multiple clicks.\n",
              "          quickchartButtonEl.classList.add('colab-df-spinner');\n",
              "          try {\n",
              "            const charts = await google.colab.kernel.invokeFunction(\n",
              "                'suggestCharts', [key], {});\n",
              "          } catch (error) {\n",
              "            console.error('Error during call to suggestCharts:', error);\n",
              "          }\n",
              "          quickchartButtonEl.classList.remove('colab-df-spinner');\n",
              "          quickchartButtonEl.classList.add('colab-df-quickchart-complete');\n",
              "        }\n",
              "        (() => {\n",
              "          let quickchartButtonEl =\n",
              "            document.querySelector('#df-fb69f426-8179-4563-a1cc-87bb2a27ddca button');\n",
              "          quickchartButtonEl.style.display =\n",
              "            google.colab.kernel.accessAllowed ? 'block' : 'none';\n",
              "        })();\n",
              "      </script>\n",
              "    </div>\n",
              "\n",
              "    </div>\n",
              "  </div>\n"
            ],
            "application/vnd.google.colaboratory.intrinsic+json": {
              "type": "dataframe",
              "variable_name": "mydata100",
              "summary": "{\n  \"name\": \"mydata100\",\n  \"rows\": 100,\n  \"fields\": [\n    {\n      \"column\": \"Unnamed: 0\",\n      \"properties\": {\n        \"dtype\": \"number\",\n        \"std\": 29,\n        \"min\": 1,\n        \"max\": 100,\n        \"num_unique_values\": 100,\n        \"samples\": [\n          84,\n          54,\n          71\n        ],\n        \"semantic_type\": \"\",\n        \"description\": \"\"\n      }\n    },\n    {\n      \"column\": \"id\",\n      \"properties\": {\n        \"dtype\": \"number\",\n        \"std\": 29,\n        \"min\": 1,\n        \"max\": 100,\n        \"num_unique_values\": 100,\n        \"samples\": [\n          84,\n          54,\n          71\n        ],\n        \"semantic_type\": \"\",\n        \"description\": \"\"\n      }\n    },\n    {\n      \"column\": \"workshop\",\n      \"properties\": {\n        \"dtype\": \"category\",\n        \"num_unique_values\": 4,\n        \"samples\": [\n          \"SPSS\",\n          \"Stata\",\n          \"R\"\n        ],\n        \"semantic_type\": \"\",\n        \"description\": \"\"\n      }\n    },\n    {\n      \"column\": \"gender\",\n      \"properties\": {\n        \"dtype\": \"category\",\n        \"num_unique_values\": 2,\n        \"samples\": [\n          \"Male\",\n          \"Female\"\n        ],\n        \"semantic_type\": \"\",\n        \"description\": \"\"\n      }\n    },\n    {\n      \"column\": \"q1\",\n      \"properties\": {\n        \"dtype\": \"number\",\n        \"std\": 1,\n        \"min\": 1,\n        \"max\": 5,\n        \"num_unique_values\": 5,\n        \"samples\": [\n          3,\n          1\n        ],\n        \"semantic_type\": \"\",\n        \"description\": \"\"\n      }\n    },\n    {\n      \"column\": \"q2\",\n      \"properties\": {\n        \"dtype\": \"number\",\n        \"std\": 1,\n        \"min\": 1,\n        \"max\": 5,\n        \"num_unique_values\": 5,\n        \"samples\": [\n          4,\n          5\n        ],\n        \"semantic_type\": \"\",\n        \"description\": \"\"\n      }\n    },\n    {\n      \"column\": \"q3\",\n      \"properties\": {\n        \"dtype\": \"number\",\n        \"std\": 1.166512049123523,\n        \"min\": 1.0,\n        \"max\": 5.0,\n        \"num_unique_values\": 5,\n        \"samples\": [\n          3.0,\n          1.0\n        ],\n        \"semantic_type\": \"\",\n        \"description\": \"\"\n      }\n    },\n    {\n      \"column\": \"q4\",\n      \"properties\": {\n        \"dtype\": \"number\",\n        \"std\": 1,\n        \"min\": 1,\n        \"max\": 5,\n        \"num_unique_values\": 5,\n        \"samples\": [\n          4,\n          2\n        ],\n        \"semantic_type\": \"\",\n        \"description\": \"\"\n      }\n    },\n    {\n      \"column\": \"pretest\",\n      \"properties\": {\n        \"dtype\": \"number\",\n        \"std\": 5,\n        \"min\": 58,\n        \"max\": 86,\n        \"num_unique_values\": 23,\n        \"samples\": [\n          69,\n          77\n        ],\n        \"semantic_type\": \"\",\n        \"description\": \"\"\n      }\n    },\n    {\n      \"column\": \"posttest\",\n      \"properties\": {\n        \"dtype\": \"number\",\n        \"std\": 6,\n        \"min\": 59,\n        \"max\": 98,\n        \"num_unique_values\": 28,\n        \"samples\": [\n          84,\n          96\n        ],\n        \"semantic_type\": \"\",\n        \"description\": \"\"\n      }\n    }\n  ]\n}"
            }
          },
          "metadata": {},
          "execution_count": 3
        }
      ]
    },
    {
      "cell_type": "code",
      "source": [
        "# see 10 rows of mydata100\n",
        "mydata100.head(10)"
      ],
      "metadata": {
        "colab": {
          "base_uri": "https://localhost:8080/",
          "height": 363
        },
        "id": "PUOudI54AyeW",
        "outputId": "0fe32314-37e7-458f-8e00-cba593eeb347"
      },
      "execution_count": 4,
      "outputs": [
        {
          "output_type": "execute_result",
          "data": {
            "text/plain": [
              "   Unnamed: 0  id workshop  gender  q1  q2   q3  q4  pretest  posttest\n",
              "0           1   1        R  Female   4   3  4.0   5       72        80\n",
              "1           2   2     SPSS    Male   3   4  3.0   4       70        75\n",
              "2           3   3      SAS  Female   3   2  NaN   3       74        78\n",
              "3           4   4     SPSS  Female   5   4  5.0   3       80        82\n",
              "4           5   5    Stata  Female   4   4  3.0   4       75        81\n",
              "5           6   6     SPSS  Female   5   4  3.0   5       72        77\n",
              "6           7   7        R  Female   3   1  3.0   4       72        88\n",
              "7           8   8        R  Female   4   4  2.0   5       83        92\n",
              "8           9   9     SPSS  Female   3   2  2.0   1       73        76\n",
              "9          10  10     SPSS  Female   5   5  5.0   5       79        84"
            ],
            "text/html": [
              "\n",
              "  <div id=\"df-6138604e-9cc9-4fda-abd8-2e610783efdc\" class=\"colab-df-container\">\n",
              "    <div>\n",
              "<style scoped>\n",
              "    .dataframe tbody tr th:only-of-type {\n",
              "        vertical-align: middle;\n",
              "    }\n",
              "\n",
              "    .dataframe tbody tr th {\n",
              "        vertical-align: top;\n",
              "    }\n",
              "\n",
              "    .dataframe thead th {\n",
              "        text-align: right;\n",
              "    }\n",
              "</style>\n",
              "<table border=\"1\" class=\"dataframe\">\n",
              "  <thead>\n",
              "    <tr style=\"text-align: right;\">\n",
              "      <th></th>\n",
              "      <th>Unnamed: 0</th>\n",
              "      <th>id</th>\n",
              "      <th>workshop</th>\n",
              "      <th>gender</th>\n",
              "      <th>q1</th>\n",
              "      <th>q2</th>\n",
              "      <th>q3</th>\n",
              "      <th>q4</th>\n",
              "      <th>pretest</th>\n",
              "      <th>posttest</th>\n",
              "    </tr>\n",
              "  </thead>\n",
              "  <tbody>\n",
              "    <tr>\n",
              "      <th>0</th>\n",
              "      <td>1</td>\n",
              "      <td>1</td>\n",
              "      <td>R</td>\n",
              "      <td>Female</td>\n",
              "      <td>4</td>\n",
              "      <td>3</td>\n",
              "      <td>4.0</td>\n",
              "      <td>5</td>\n",
              "      <td>72</td>\n",
              "      <td>80</td>\n",
              "    </tr>\n",
              "    <tr>\n",
              "      <th>1</th>\n",
              "      <td>2</td>\n",
              "      <td>2</td>\n",
              "      <td>SPSS</td>\n",
              "      <td>Male</td>\n",
              "      <td>3</td>\n",
              "      <td>4</td>\n",
              "      <td>3.0</td>\n",
              "      <td>4</td>\n",
              "      <td>70</td>\n",
              "      <td>75</td>\n",
              "    </tr>\n",
              "    <tr>\n",
              "      <th>2</th>\n",
              "      <td>3</td>\n",
              "      <td>3</td>\n",
              "      <td>SAS</td>\n",
              "      <td>Female</td>\n",
              "      <td>3</td>\n",
              "      <td>2</td>\n",
              "      <td>NaN</td>\n",
              "      <td>3</td>\n",
              "      <td>74</td>\n",
              "      <td>78</td>\n",
              "    </tr>\n",
              "    <tr>\n",
              "      <th>3</th>\n",
              "      <td>4</td>\n",
              "      <td>4</td>\n",
              "      <td>SPSS</td>\n",
              "      <td>Female</td>\n",
              "      <td>5</td>\n",
              "      <td>4</td>\n",
              "      <td>5.0</td>\n",
              "      <td>3</td>\n",
              "      <td>80</td>\n",
              "      <td>82</td>\n",
              "    </tr>\n",
              "    <tr>\n",
              "      <th>4</th>\n",
              "      <td>5</td>\n",
              "      <td>5</td>\n",
              "      <td>Stata</td>\n",
              "      <td>Female</td>\n",
              "      <td>4</td>\n",
              "      <td>4</td>\n",
              "      <td>3.0</td>\n",
              "      <td>4</td>\n",
              "      <td>75</td>\n",
              "      <td>81</td>\n",
              "    </tr>\n",
              "    <tr>\n",
              "      <th>5</th>\n",
              "      <td>6</td>\n",
              "      <td>6</td>\n",
              "      <td>SPSS</td>\n",
              "      <td>Female</td>\n",
              "      <td>5</td>\n",
              "      <td>4</td>\n",
              "      <td>3.0</td>\n",
              "      <td>5</td>\n",
              "      <td>72</td>\n",
              "      <td>77</td>\n",
              "    </tr>\n",
              "    <tr>\n",
              "      <th>6</th>\n",
              "      <td>7</td>\n",
              "      <td>7</td>\n",
              "      <td>R</td>\n",
              "      <td>Female</td>\n",
              "      <td>3</td>\n",
              "      <td>1</td>\n",
              "      <td>3.0</td>\n",
              "      <td>4</td>\n",
              "      <td>72</td>\n",
              "      <td>88</td>\n",
              "    </tr>\n",
              "    <tr>\n",
              "      <th>7</th>\n",
              "      <td>8</td>\n",
              "      <td>8</td>\n",
              "      <td>R</td>\n",
              "      <td>Female</td>\n",
              "      <td>4</td>\n",
              "      <td>4</td>\n",
              "      <td>2.0</td>\n",
              "      <td>5</td>\n",
              "      <td>83</td>\n",
              "      <td>92</td>\n",
              "    </tr>\n",
              "    <tr>\n",
              "      <th>8</th>\n",
              "      <td>9</td>\n",
              "      <td>9</td>\n",
              "      <td>SPSS</td>\n",
              "      <td>Female</td>\n",
              "      <td>3</td>\n",
              "      <td>2</td>\n",
              "      <td>2.0</td>\n",
              "      <td>1</td>\n",
              "      <td>73</td>\n",
              "      <td>76</td>\n",
              "    </tr>\n",
              "    <tr>\n",
              "      <th>9</th>\n",
              "      <td>10</td>\n",
              "      <td>10</td>\n",
              "      <td>SPSS</td>\n",
              "      <td>Female</td>\n",
              "      <td>5</td>\n",
              "      <td>5</td>\n",
              "      <td>5.0</td>\n",
              "      <td>5</td>\n",
              "      <td>79</td>\n",
              "      <td>84</td>\n",
              "    </tr>\n",
              "  </tbody>\n",
              "</table>\n",
              "</div>\n",
              "    <div class=\"colab-df-buttons\">\n",
              "\n",
              "  <div class=\"colab-df-container\">\n",
              "    <button class=\"colab-df-convert\" onclick=\"convertToInteractive('df-6138604e-9cc9-4fda-abd8-2e610783efdc')\"\n",
              "            title=\"Convert this dataframe to an interactive table.\"\n",
              "            style=\"display:none;\">\n",
              "\n",
              "  <svg xmlns=\"http://www.w3.org/2000/svg\" height=\"24px\" viewBox=\"0 -960 960 960\">\n",
              "    <path d=\"M120-120v-720h720v720H120Zm60-500h600v-160H180v160Zm220 220h160v-160H400v160Zm0 220h160v-160H400v160ZM180-400h160v-160H180v160Zm440 0h160v-160H620v160ZM180-180h160v-160H180v160Zm440 0h160v-160H620v160Z\"/>\n",
              "  </svg>\n",
              "    </button>\n",
              "\n",
              "  <style>\n",
              "    .colab-df-container {\n",
              "      display:flex;\n",
              "      gap: 12px;\n",
              "    }\n",
              "\n",
              "    .colab-df-convert {\n",
              "      background-color: #E8F0FE;\n",
              "      border: none;\n",
              "      border-radius: 50%;\n",
              "      cursor: pointer;\n",
              "      display: none;\n",
              "      fill: #1967D2;\n",
              "      height: 32px;\n",
              "      padding: 0 0 0 0;\n",
              "      width: 32px;\n",
              "    }\n",
              "\n",
              "    .colab-df-convert:hover {\n",
              "      background-color: #E2EBFA;\n",
              "      box-shadow: 0px 1px 2px rgba(60, 64, 67, 0.3), 0px 1px 3px 1px rgba(60, 64, 67, 0.15);\n",
              "      fill: #174EA6;\n",
              "    }\n",
              "\n",
              "    .colab-df-buttons div {\n",
              "      margin-bottom: 4px;\n",
              "    }\n",
              "\n",
              "    [theme=dark] .colab-df-convert {\n",
              "      background-color: #3B4455;\n",
              "      fill: #D2E3FC;\n",
              "    }\n",
              "\n",
              "    [theme=dark] .colab-df-convert:hover {\n",
              "      background-color: #434B5C;\n",
              "      box-shadow: 0px 1px 3px 1px rgba(0, 0, 0, 0.15);\n",
              "      filter: drop-shadow(0px 1px 2px rgba(0, 0, 0, 0.3));\n",
              "      fill: #FFFFFF;\n",
              "    }\n",
              "  </style>\n",
              "\n",
              "    <script>\n",
              "      const buttonEl =\n",
              "        document.querySelector('#df-6138604e-9cc9-4fda-abd8-2e610783efdc button.colab-df-convert');\n",
              "      buttonEl.style.display =\n",
              "        google.colab.kernel.accessAllowed ? 'block' : 'none';\n",
              "\n",
              "      async function convertToInteractive(key) {\n",
              "        const element = document.querySelector('#df-6138604e-9cc9-4fda-abd8-2e610783efdc');\n",
              "        const dataTable =\n",
              "          await google.colab.kernel.invokeFunction('convertToInteractive',\n",
              "                                                    [key], {});\n",
              "        if (!dataTable) return;\n",
              "\n",
              "        const docLinkHtml = 'Like what you see? Visit the ' +\n",
              "          '<a target=\"_blank\" href=https://colab.research.google.com/notebooks/data_table.ipynb>data table notebook</a>'\n",
              "          + ' to learn more about interactive tables.';\n",
              "        element.innerHTML = '';\n",
              "        dataTable['output_type'] = 'display_data';\n",
              "        await google.colab.output.renderOutput(dataTable, element);\n",
              "        const docLink = document.createElement('div');\n",
              "        docLink.innerHTML = docLinkHtml;\n",
              "        element.appendChild(docLink);\n",
              "      }\n",
              "    </script>\n",
              "  </div>\n",
              "\n",
              "\n",
              "    <div id=\"df-6a5889fb-25fb-4238-b6f5-cda5dbf89eb9\">\n",
              "      <button class=\"colab-df-quickchart\" onclick=\"quickchart('df-6a5889fb-25fb-4238-b6f5-cda5dbf89eb9')\"\n",
              "                title=\"Suggest charts\"\n",
              "                style=\"display:none;\">\n",
              "\n",
              "<svg xmlns=\"http://www.w3.org/2000/svg\" height=\"24px\"viewBox=\"0 0 24 24\"\n",
              "     width=\"24px\">\n",
              "    <g>\n",
              "        <path d=\"M19 3H5c-1.1 0-2 .9-2 2v14c0 1.1.9 2 2 2h14c1.1 0 2-.9 2-2V5c0-1.1-.9-2-2-2zM9 17H7v-7h2v7zm4 0h-2V7h2v10zm4 0h-2v-4h2v4z\"/>\n",
              "    </g>\n",
              "</svg>\n",
              "      </button>\n",
              "\n",
              "<style>\n",
              "  .colab-df-quickchart {\n",
              "      --bg-color: #E8F0FE;\n",
              "      --fill-color: #1967D2;\n",
              "      --hover-bg-color: #E2EBFA;\n",
              "      --hover-fill-color: #174EA6;\n",
              "      --disabled-fill-color: #AAA;\n",
              "      --disabled-bg-color: #DDD;\n",
              "  }\n",
              "\n",
              "  [theme=dark] .colab-df-quickchart {\n",
              "      --bg-color: #3B4455;\n",
              "      --fill-color: #D2E3FC;\n",
              "      --hover-bg-color: #434B5C;\n",
              "      --hover-fill-color: #FFFFFF;\n",
              "      --disabled-bg-color: #3B4455;\n",
              "      --disabled-fill-color: #666;\n",
              "  }\n",
              "\n",
              "  .colab-df-quickchart {\n",
              "    background-color: var(--bg-color);\n",
              "    border: none;\n",
              "    border-radius: 50%;\n",
              "    cursor: pointer;\n",
              "    display: none;\n",
              "    fill: var(--fill-color);\n",
              "    height: 32px;\n",
              "    padding: 0;\n",
              "    width: 32px;\n",
              "  }\n",
              "\n",
              "  .colab-df-quickchart:hover {\n",
              "    background-color: var(--hover-bg-color);\n",
              "    box-shadow: 0 1px 2px rgba(60, 64, 67, 0.3), 0 1px 3px 1px rgba(60, 64, 67, 0.15);\n",
              "    fill: var(--button-hover-fill-color);\n",
              "  }\n",
              "\n",
              "  .colab-df-quickchart-complete:disabled,\n",
              "  .colab-df-quickchart-complete:disabled:hover {\n",
              "    background-color: var(--disabled-bg-color);\n",
              "    fill: var(--disabled-fill-color);\n",
              "    box-shadow: none;\n",
              "  }\n",
              "\n",
              "  .colab-df-spinner {\n",
              "    border: 2px solid var(--fill-color);\n",
              "    border-color: transparent;\n",
              "    border-bottom-color: var(--fill-color);\n",
              "    animation:\n",
              "      spin 1s steps(1) infinite;\n",
              "  }\n",
              "\n",
              "  @keyframes spin {\n",
              "    0% {\n",
              "      border-color: transparent;\n",
              "      border-bottom-color: var(--fill-color);\n",
              "      border-left-color: var(--fill-color);\n",
              "    }\n",
              "    20% {\n",
              "      border-color: transparent;\n",
              "      border-left-color: var(--fill-color);\n",
              "      border-top-color: var(--fill-color);\n",
              "    }\n",
              "    30% {\n",
              "      border-color: transparent;\n",
              "      border-left-color: var(--fill-color);\n",
              "      border-top-color: var(--fill-color);\n",
              "      border-right-color: var(--fill-color);\n",
              "    }\n",
              "    40% {\n",
              "      border-color: transparent;\n",
              "      border-right-color: var(--fill-color);\n",
              "      border-top-color: var(--fill-color);\n",
              "    }\n",
              "    60% {\n",
              "      border-color: transparent;\n",
              "      border-right-color: var(--fill-color);\n",
              "    }\n",
              "    80% {\n",
              "      border-color: transparent;\n",
              "      border-right-color: var(--fill-color);\n",
              "      border-bottom-color: var(--fill-color);\n",
              "    }\n",
              "    90% {\n",
              "      border-color: transparent;\n",
              "      border-bottom-color: var(--fill-color);\n",
              "    }\n",
              "  }\n",
              "</style>\n",
              "\n",
              "      <script>\n",
              "        async function quickchart(key) {\n",
              "          const quickchartButtonEl =\n",
              "            document.querySelector('#' + key + ' button');\n",
              "          quickchartButtonEl.disabled = true;  // To prevent multiple clicks.\n",
              "          quickchartButtonEl.classList.add('colab-df-spinner');\n",
              "          try {\n",
              "            const charts = await google.colab.kernel.invokeFunction(\n",
              "                'suggestCharts', [key], {});\n",
              "          } catch (error) {\n",
              "            console.error('Error during call to suggestCharts:', error);\n",
              "          }\n",
              "          quickchartButtonEl.classList.remove('colab-df-spinner');\n",
              "          quickchartButtonEl.classList.add('colab-df-quickchart-complete');\n",
              "        }\n",
              "        (() => {\n",
              "          let quickchartButtonEl =\n",
              "            document.querySelector('#df-6a5889fb-25fb-4238-b6f5-cda5dbf89eb9 button');\n",
              "          quickchartButtonEl.style.display =\n",
              "            google.colab.kernel.accessAllowed ? 'block' : 'none';\n",
              "        })();\n",
              "      </script>\n",
              "    </div>\n",
              "\n",
              "    </div>\n",
              "  </div>\n"
            ],
            "application/vnd.google.colaboratory.intrinsic+json": {
              "type": "dataframe",
              "variable_name": "mydata100",
              "summary": "{\n  \"name\": \"mydata100\",\n  \"rows\": 100,\n  \"fields\": [\n    {\n      \"column\": \"Unnamed: 0\",\n      \"properties\": {\n        \"dtype\": \"number\",\n        \"std\": 29,\n        \"min\": 1,\n        \"max\": 100,\n        \"num_unique_values\": 100,\n        \"samples\": [\n          84,\n          54,\n          71\n        ],\n        \"semantic_type\": \"\",\n        \"description\": \"\"\n      }\n    },\n    {\n      \"column\": \"id\",\n      \"properties\": {\n        \"dtype\": \"number\",\n        \"std\": 29,\n        \"min\": 1,\n        \"max\": 100,\n        \"num_unique_values\": 100,\n        \"samples\": [\n          84,\n          54,\n          71\n        ],\n        \"semantic_type\": \"\",\n        \"description\": \"\"\n      }\n    },\n    {\n      \"column\": \"workshop\",\n      \"properties\": {\n        \"dtype\": \"category\",\n        \"num_unique_values\": 4,\n        \"samples\": [\n          \"SPSS\",\n          \"Stata\",\n          \"R\"\n        ],\n        \"semantic_type\": \"\",\n        \"description\": \"\"\n      }\n    },\n    {\n      \"column\": \"gender\",\n      \"properties\": {\n        \"dtype\": \"category\",\n        \"num_unique_values\": 2,\n        \"samples\": [\n          \"Male\",\n          \"Female\"\n        ],\n        \"semantic_type\": \"\",\n        \"description\": \"\"\n      }\n    },\n    {\n      \"column\": \"q1\",\n      \"properties\": {\n        \"dtype\": \"number\",\n        \"std\": 1,\n        \"min\": 1,\n        \"max\": 5,\n        \"num_unique_values\": 5,\n        \"samples\": [\n          3,\n          1\n        ],\n        \"semantic_type\": \"\",\n        \"description\": \"\"\n      }\n    },\n    {\n      \"column\": \"q2\",\n      \"properties\": {\n        \"dtype\": \"number\",\n        \"std\": 1,\n        \"min\": 1,\n        \"max\": 5,\n        \"num_unique_values\": 5,\n        \"samples\": [\n          4,\n          5\n        ],\n        \"semantic_type\": \"\",\n        \"description\": \"\"\n      }\n    },\n    {\n      \"column\": \"q3\",\n      \"properties\": {\n        \"dtype\": \"number\",\n        \"std\": 1.166512049123523,\n        \"min\": 1.0,\n        \"max\": 5.0,\n        \"num_unique_values\": 5,\n        \"samples\": [\n          3.0,\n          1.0\n        ],\n        \"semantic_type\": \"\",\n        \"description\": \"\"\n      }\n    },\n    {\n      \"column\": \"q4\",\n      \"properties\": {\n        \"dtype\": \"number\",\n        \"std\": 1,\n        \"min\": 1,\n        \"max\": 5,\n        \"num_unique_values\": 5,\n        \"samples\": [\n          4,\n          2\n        ],\n        \"semantic_type\": \"\",\n        \"description\": \"\"\n      }\n    },\n    {\n      \"column\": \"pretest\",\n      \"properties\": {\n        \"dtype\": \"number\",\n        \"std\": 5,\n        \"min\": 58,\n        \"max\": 86,\n        \"num_unique_values\": 23,\n        \"samples\": [\n          69,\n          77\n        ],\n        \"semantic_type\": \"\",\n        \"description\": \"\"\n      }\n    },\n    {\n      \"column\": \"posttest\",\n      \"properties\": {\n        \"dtype\": \"number\",\n        \"std\": 6,\n        \"min\": 59,\n        \"max\": 98,\n        \"num_unique_values\": 28,\n        \"samples\": [\n          84,\n          96\n        ],\n        \"semantic_type\": \"\",\n        \"description\": \"\"\n      }\n    }\n  ]\n}"
            }
          },
          "metadata": {},
          "execution_count": 4
        }
      ]
    },
    {
      "cell_type": "markdown",
      "source": [
        "### --- BASIC DESCRIPTIVE ANALYSIS---\n",
        "\n",
        "Get the mean, sum and summary of mydata100"
      ],
      "metadata": {
        "id": "VoGc_8MrA47n"
      }
    },
    {
      "cell_type": "code",
      "source": [
        "mydata100.mean()"
      ],
      "metadata": {
        "id": "gnk3NCL5A-RT"
      },
      "execution_count": null,
      "outputs": []
    },
    {
      "cell_type": "code",
      "source": [
        "mydata100.sum()"
      ],
      "metadata": {
        "id": "1qJbpO7QBGZr"
      },
      "execution_count": null,
      "outputs": []
    },
    {
      "cell_type": "code",
      "source": [
        "# use describe function\n",
        "basic = mydata100.describe()\n",
        "print(basic)"
      ],
      "metadata": {
        "id": "YS82ycvQBJvC"
      },
      "execution_count": null,
      "outputs": []
    },
    {
      "cell_type": "code",
      "source": [
        "# return the means grouped by gender using groupby methods\n",
        "\n",
        "mydata100.groupby('gender').mean()"
      ],
      "metadata": {
        "id": "umNyJU4XBguD"
      },
      "execution_count": null,
      "outputs": []
    },
    {
      "cell_type": "code",
      "source": [
        "# return means/median/std group by gender using groupby\n",
        "\n",
        "out = mydata100.groupby('gender').agg(['mean', 'median', 'std'])\n",
        "print(out)"
      ],
      "metadata": {
        "id": "rC3V9a_sBjMK"
      },
      "execution_count": null,
      "outputs": []
    },
    {
      "cell_type": "markdown",
      "source": [
        "###---BASE GRAPHICS USING SEABORN---"
      ],
      "metadata": {
        "id": "jDIov1_kA9pa"
      }
    },
    {
      "cell_type": "code",
      "source": [
        "#!pip uninstall seaborn-yes\n",
        "!pip install matplotlib==3.8.3\n",
        "!pip install seaborn==0.11.1\n"
      ],
      "metadata": {
        "id": "If3KWSVqA8-B",
        "colab": {
          "base_uri": "https://localhost:8080/",
          "height": 1000
        },
        "outputId": "e927e3d3-95ce-4824-ade2-3ca185d9c3e6"
      },
      "execution_count": 20,
      "outputs": [
        {
          "output_type": "stream",
          "name": "stdout",
          "text": [
            "Collecting matplotlib==3.8.3\n",
            "  Downloading matplotlib-3.8.3-cp312-cp312-manylinux_2_17_x86_64.manylinux2014_x86_64.whl.metadata (5.8 kB)\n",
            "Requirement already satisfied: contourpy>=1.0.1 in /usr/local/lib/python3.12/dist-packages (from matplotlib==3.8.3) (1.3.3)\n",
            "Requirement already satisfied: cycler>=0.10 in /usr/local/lib/python3.12/dist-packages (from matplotlib==3.8.3) (0.12.1)\n",
            "Requirement already satisfied: fonttools>=4.22.0 in /usr/local/lib/python3.12/dist-packages (from matplotlib==3.8.3) (4.59.1)\n",
            "Requirement already satisfied: kiwisolver>=1.3.1 in /usr/local/lib/python3.12/dist-packages (from matplotlib==3.8.3) (1.4.9)\n",
            "Collecting numpy<2,>=1.21 (from matplotlib==3.8.3)\n",
            "  Downloading numpy-1.26.4-cp312-cp312-manylinux_2_17_x86_64.manylinux2014_x86_64.whl.metadata (61 kB)\n",
            "\u001b[2K     \u001b[90m━━━━━━━━━━━━━━━━━━━━━━━━━━━━━━━━━━━━━━━━\u001b[0m \u001b[32m61.0/61.0 kB\u001b[0m \u001b[31m4.5 MB/s\u001b[0m eta \u001b[36m0:00:00\u001b[0m\n",
            "\u001b[?25hRequirement already satisfied: packaging>=20.0 in /usr/local/lib/python3.12/dist-packages (from matplotlib==3.8.3) (25.0)\n",
            "Requirement already satisfied: pillow>=8 in /usr/local/lib/python3.12/dist-packages (from matplotlib==3.8.3) (11.3.0)\n",
            "Requirement already satisfied: pyparsing>=2.3.1 in /usr/local/lib/python3.12/dist-packages (from matplotlib==3.8.3) (3.2.3)\n",
            "Requirement already satisfied: python-dateutil>=2.7 in /usr/local/lib/python3.12/dist-packages (from matplotlib==3.8.3) (2.9.0.post0)\n",
            "Requirement already satisfied: six>=1.5 in /usr/local/lib/python3.12/dist-packages (from python-dateutil>=2.7->matplotlib==3.8.3) (1.17.0)\n",
            "Downloading matplotlib-3.8.3-cp312-cp312-manylinux_2_17_x86_64.manylinux2014_x86_64.whl (11.6 MB)\n",
            "\u001b[2K   \u001b[90m━━━━━━━━━━━━━━━━━━━━━━━━━━━━━━━━━━━━━━━━\u001b[0m \u001b[32m11.6/11.6 MB\u001b[0m \u001b[31m86.5 MB/s\u001b[0m eta \u001b[36m0:00:00\u001b[0m\n",
            "\u001b[?25hDownloading numpy-1.26.4-cp312-cp312-manylinux_2_17_x86_64.manylinux2014_x86_64.whl (18.0 MB)\n",
            "\u001b[2K   \u001b[90m━━━━━━━━━━━━━━━━━━━━━━━━━━━━━━━━━━━━━━━━\u001b[0m \u001b[32m18.0/18.0 MB\u001b[0m \u001b[31m74.8 MB/s\u001b[0m eta \u001b[36m0:00:00\u001b[0m\n",
            "\u001b[?25hInstalling collected packages: numpy, matplotlib\n",
            "  Attempting uninstall: numpy\n",
            "    Found existing installation: numpy 2.0.2\n",
            "    Uninstalling numpy-2.0.2:\n",
            "      Successfully uninstalled numpy-2.0.2\n",
            "  Attempting uninstall: matplotlib\n",
            "    Found existing installation: matplotlib 3.10.0\n",
            "    Uninstalling matplotlib-3.10.0:\n",
            "      Successfully uninstalled matplotlib-3.10.0\n",
            "\u001b[31mERROR: pip's dependency resolver does not currently take into account all the packages that are installed. This behaviour is the source of the following dependency conflicts.\n",
            "thinc 8.3.6 requires numpy<3.0.0,>=2.0.0, but you have numpy 1.26.4 which is incompatible.\n",
            "opencv-python 4.12.0.88 requires numpy<2.3.0,>=2; python_version >= \"3.9\", but you have numpy 1.26.4 which is incompatible.\n",
            "opencv-contrib-python 4.12.0.88 requires numpy<2.3.0,>=2; python_version >= \"3.9\", but you have numpy 1.26.4 which is incompatible.\n",
            "opencv-python-headless 4.12.0.88 requires numpy<2.3.0,>=2; python_version >= \"3.9\", but you have numpy 1.26.4 which is incompatible.\u001b[0m\u001b[31m\n",
            "\u001b[0mSuccessfully installed matplotlib-3.8.3 numpy-1.26.4\n"
          ]
        },
        {
          "output_type": "display_data",
          "data": {
            "application/vnd.colab-display-data+json": {
              "pip_warning": {
                "packages": [
                  "matplotlib",
                  "mpl_toolkits",
                  "numpy"
                ]
              },
              "id": "487091efc3e94041802a5aae65f23a6c"
            }
          },
          "metadata": {}
        },
        {
          "output_type": "stream",
          "name": "stdout",
          "text": [
            "Collecting seaborn==0.11.1\n",
            "  Downloading seaborn-0.11.1-py3-none-any.whl.metadata (2.3 kB)\n",
            "Requirement already satisfied: numpy>=1.15 in /usr/local/lib/python3.12/dist-packages (from seaborn==0.11.1) (1.26.4)\n",
            "Requirement already satisfied: scipy>=1.0 in /usr/local/lib/python3.12/dist-packages (from seaborn==0.11.1) (1.16.1)\n",
            "Requirement already satisfied: pandas>=0.23 in /usr/local/lib/python3.12/dist-packages (from seaborn==0.11.1) (2.2.2)\n",
            "Requirement already satisfied: matplotlib>=2.2 in /usr/local/lib/python3.12/dist-packages (from seaborn==0.11.1) (3.8.3)\n",
            "Requirement already satisfied: contourpy>=1.0.1 in /usr/local/lib/python3.12/dist-packages (from matplotlib>=2.2->seaborn==0.11.1) (1.3.3)\n",
            "Requirement already satisfied: cycler>=0.10 in /usr/local/lib/python3.12/dist-packages (from matplotlib>=2.2->seaborn==0.11.1) (0.12.1)\n",
            "Requirement already satisfied: fonttools>=4.22.0 in /usr/local/lib/python3.12/dist-packages (from matplotlib>=2.2->seaborn==0.11.1) (4.59.1)\n",
            "Requirement already satisfied: kiwisolver>=1.3.1 in /usr/local/lib/python3.12/dist-packages (from matplotlib>=2.2->seaborn==0.11.1) (1.4.9)\n",
            "Requirement already satisfied: packaging>=20.0 in /usr/local/lib/python3.12/dist-packages (from matplotlib>=2.2->seaborn==0.11.1) (25.0)\n",
            "Requirement already satisfied: pillow>=8 in /usr/local/lib/python3.12/dist-packages (from matplotlib>=2.2->seaborn==0.11.1) (11.3.0)\n",
            "Requirement already satisfied: pyparsing>=2.3.1 in /usr/local/lib/python3.12/dist-packages (from matplotlib>=2.2->seaborn==0.11.1) (3.2.3)\n",
            "Requirement already satisfied: python-dateutil>=2.7 in /usr/local/lib/python3.12/dist-packages (from matplotlib>=2.2->seaborn==0.11.1) (2.9.0.post0)\n",
            "Requirement already satisfied: pytz>=2020.1 in /usr/local/lib/python3.12/dist-packages (from pandas>=0.23->seaborn==0.11.1) (2025.2)\n",
            "Requirement already satisfied: tzdata>=2022.7 in /usr/local/lib/python3.12/dist-packages (from pandas>=0.23->seaborn==0.11.1) (2025.2)\n",
            "Requirement already satisfied: six>=1.5 in /usr/local/lib/python3.12/dist-packages (from python-dateutil>=2.7->matplotlib>=2.2->seaborn==0.11.1) (1.17.0)\n",
            "Downloading seaborn-0.11.1-py3-none-any.whl (285 kB)\n",
            "\u001b[?25l   \u001b[90m━━━━━━━━━━━━━━━━━━━━━━━━━━━━━━━━━━━━━━━━\u001b[0m \u001b[32m0.0/285.0 kB\u001b[0m \u001b[31m?\u001b[0m eta \u001b[36m-:--:--\u001b[0m\r\u001b[2K   \u001b[91m━━━━━━━━━━━━━━━━━━━━━━━━━━━━━━━━━━━━━━\u001b[0m\u001b[91m╸\u001b[0m\u001b[90m━\u001b[0m \u001b[32m276.5/285.0 kB\u001b[0m \u001b[31m9.5 MB/s\u001b[0m eta \u001b[36m0:00:01\u001b[0m\r\u001b[2K   \u001b[90m━━━━━━━━━━━━━━━━━━━━━━━━━━━━━━━━━━━━━━━━\u001b[0m \u001b[32m285.0/285.0 kB\u001b[0m \u001b[31m7.2 MB/s\u001b[0m eta \u001b[36m0:00:00\u001b[0m\n",
            "\u001b[?25hInstalling collected packages: seaborn\n",
            "  Attempting uninstall: seaborn\n",
            "    Found existing installation: seaborn 0.13.2\n",
            "    Uninstalling seaborn-0.13.2:\n",
            "      Successfully uninstalled seaborn-0.13.2\n",
            "Successfully installed seaborn-0.11.1\n"
          ]
        },
        {
          "output_type": "display_data",
          "data": {
            "application/vnd.colab-display-data+json": {
              "pip_warning": {
                "packages": [
                  "seaborn"
                ]
              },
              "id": "a36e7d65872b45e4815abf5418ffb4a9"
            }
          },
          "metadata": {}
        }
      ]
    },
    {
      "cell_type": "code",
      "source": [
        "import seaborn as sns\n",
        "import matplotlib\n",
        "import matplotlib.pyplot as plt\n",
        "import pandas as pd\n",
        "print(matplotlib.__version__)\n",
        "print(pd.__version__)\n",
        "print(sns.__version__)"
      ],
      "metadata": {
        "colab": {
          "base_uri": "https://localhost:8080/"
        },
        "id": "eQ98ZqMf5bVa",
        "outputId": "6802895f-be18-4fa9-9d26-dcc184818cdd"
      },
      "execution_count": 12,
      "outputs": [
        {
          "output_type": "stream",
          "name": "stdout",
          "text": [
            "3.10.0\n",
            "2.2.2\n",
            "0.13.2\n"
          ]
        }
      ]
    },
    {
      "cell_type": "code",
      "source": [
        "\n",
        "\n",
        "# Barplot\n",
        "\n",
        "# Barplot stacked\n",
        "sns.set(color_codes=True) #Change how matplotlib color shorthands are interpreted.\n",
        "sns.catplot(x=\"workshop\", kind=\"count\", color=\"b\", data=mydata100)\n",
        "plt.show()"
      ],
      "metadata": {
        "colab": {
          "base_uri": "https://localhost:8080/",
          "height": 501
        },
        "id": "tF3MfX54BqNu",
        "outputId": "1a8e4a5e-1104-4b69-8fd9-33813535657b"
      },
      "execution_count": 13,
      "outputs": [
        {
          "output_type": "display_data",
          "data": {
            "text/plain": [
              "<Figure size 512.222x500 with 1 Axes>"
            ],
            "image/png": "[encoded data removed]"
          },
          "metadata": {}
        }
      ]
    },
    {
      "cell_type": "code",
      "source": [
        "# Boxplot\n",
        "# Draw a single horizontal boxplot:\n",
        "sns.boxplot(x=mydata100[\"posttest\"])\n",
        "plt.show()"
      ],
      "metadata": {
        "colab": {
          "base_uri": "https://localhost:8080/",
          "height": 458
        },
        "id": "JWdw7k3gBv2o",
        "outputId": "ac23d72d-7a7b-44c6-eef3-b62e6556be1e"
      },
      "execution_count": 14,
      "outputs": [
        {
          "output_type": "display_data",
          "data": {
            "text/plain": [
              "<Figure size 640x480 with 1 Axes>"
            ],
            "image/png": "[encoded data removed]"
          },
          "metadata": {}
        }
      ]
    },
    {
      "cell_type": "code",
      "source": [
        "#Draw a vertical boxplot grouped by a categorical variable:\n",
        "sns.boxplot(x=\"workshop\", y=\"posttest\", data=mydata100)\n",
        "plt.show()"
      ],
      "metadata": {
        "colab": {
          "base_uri": "https://localhost:8080/",
          "height": 458
        },
        "id": "tN37cl3AB2bO",
        "outputId": "d4610e05-45f0-47ab-acf8-e27212b7be5f"
      },
      "execution_count": 15,
      "outputs": [
        {
          "output_type": "display_data",
          "data": {
            "text/plain": [
              "<Figure size 640x480 with 1 Axes>"
            ],
            "image/png": "[encoded data removed]"
          },
          "metadata": {}
        }
      ]
    },
    {
      "cell_type": "code",
      "source": [
        "#Draw a boxplot with nested grouping by two categorical variables:\n",
        "sns.boxplot(x=\"workshop\", y=\"posttest\", hue=\"gender\",\n",
        "                 data=mydata100)\n",
        "plt.show()"
      ],
      "metadata": {
        "colab": {
          "base_uri": "https://localhost:8080/",
          "height": 458
        },
        "id": "uwGiAigiB5zD",
        "outputId": "d642d49d-6c7e-4c29-dce8-eb6250920a5e"
      },
      "execution_count": 16,
      "outputs": [
        {
          "output_type": "display_data",
          "data": {
            "text/plain": [
              "<Figure size 640x480 with 1 Axes>"
            ],
            "image/png": "[encoded data removed]"
          },
          "metadata": {}
        }
      ]
    },
    {
      "cell_type": "code",
      "source": [
        "# Scatterplot\n",
        "sns.set_style(\"whitegrid\")\n",
        "sns.scatterplot(x=\"pretest\", y=\"posttest\", data=mydata100)\n",
        "# Draw a scatterplot of two variables, x and y,\n",
        "# and then fit the regression model y ~ x\n",
        "# and plot the resulting regression line\n",
        "# and a 95% confidence interval for that regression:\n",
        "sns.regplot(x=\"pretest\", y=\"posttest\", data=mydata100)\n",
        "#plt.show()"
      ],
      "metadata": {
        "colab": {
          "base_uri": "https://localhost:8080/",
          "height": 475
        },
        "id": "c4N7CZoAB9fY",
        "outputId": "3d681bac-d9bc-4cb7-ff09-c091e79f1737"
      },
      "execution_count": 17,
      "outputs": [
        {
          "output_type": "execute_result",
          "data": {
            "text/plain": [
              "<Axes: xlabel='pretest', ylabel='posttest'>"
            ]
          },
          "metadata": {},
          "execution_count": 17
        },
        {
          "output_type": "display_data",
          "data": {
            "text/plain": [
              "<Figure size 640x480 with 1 Axes>"
            ],
            "image/png": "[encoded data removed]"
          },
          "metadata": {}
        }
      ]
    },
    {
      "cell_type": "code",
      "source": [
        "# Histogram\n",
        "\n",
        "sns.distplot(mydata100['posttest'])\n",
        "plt.show()"
      ],
      "metadata": {
        "colab": {
          "base_uri": "https://localhost:8080/",
          "height": 649
        },
        "id": "kV8pH_e2CFMP",
        "outputId": "1099d11c-9a75-4b52-ee6a-a2304a002d25"
      },
      "execution_count": 18,
      "outputs": [
        {
          "output_type": "stream",
          "name": "stderr",
          "text": [
            "/tmp/ipython-input-11964040.py:3: UserWarning: \n",
            "\n",
            "`distplot` is a deprecated function and will be removed in seaborn v0.14.0.\n",
            "\n",
            "Please adapt your code to use either `displot` (a figure-level function with\n",
            "similar flexibility) or `histplot` (an axes-level function for histograms).\n",
            "\n",
            "For a guide to updating your code to use the new functions, please see\n",
            "https://gist.github.com/mwaskom/de44147ed2974457ad6372750bbe5751\n",
            "\n",
            "  sns.distplot(mydata100['posttest'])\n"
          ]
        },
        {
          "output_type": "display_data",
          "data": {
            "text/plain": [
              "<Figure size 640x480 with 1 Axes>"
            ],
            "image/png": "[encoded data removed]"
          },
          "metadata": {}
        }
      ]
    },
    {
      "cell_type": "code",
      "source": [
        "from scipy.stats import norm\n",
        "# Get rid of kernel fit\n",
        "hist2 = sns.distplot(mydata100['posttest'], fit=norm, kde=False)\n",
        "#plt.show()"
      ],
      "metadata": {
        "colab": {
          "base_uri": "https://localhost:8080/",
          "height": 649
        },
        "id": "-KOLgxGmCKT9",
        "outputId": "3430033a-97c2-432c-8856-cee7ae331087"
      },
      "execution_count": 19,
      "outputs": [
        {
          "output_type": "stream",
          "name": "stderr",
          "text": [
            "/tmp/ipython-input-227474672.py:3: UserWarning: \n",
            "\n",
            "`distplot` is a deprecated function and will be removed in seaborn v0.14.0.\n",
            "\n",
            "Please adapt your code to use either `displot` (a figure-level function with\n",
            "similar flexibility) or `histplot` (an axes-level function for histograms).\n",
            "\n",
            "For a guide to updating your code to use the new functions, please see\n",
            "https://gist.github.com/mwaskom/de44147ed2974457ad6372750bbe5751\n",
            "\n",
            "  hist2 = sns.distplot(mydata100['posttest'], fit=norm, kde=False)\n"
          ]
        },
        {
          "output_type": "display_data",
          "data": {
            "text/plain": [
              "<Figure size 640x480 with 1 Axes>"
            ],
            "image/png": "[encoded data removed]"
          },
          "metadata": {}
        }
      ]
    },
    {
      "cell_type": "markdown",
      "source": [
        "For many more examples, see: https://seaborn.pydata.org/tutorial.html."
      ],
      "metadata": {
        "id": "ElEnojKrCQ5Q"
      }
    },
    {
      "cell_type": "markdown",
      "source": [
        "### ---LISTING OBJECTS IN YOUR WORKSPACE---\n",
        "\n",
        "%who: Print all interactive variables, with some minimal formatting.\n",
        "\n",
        "%whos: like %who, but gives some extra information about each variable.\n",
        "\n"
      ],
      "metadata": {
        "id": "LxRxY4OdCYoK"
      }
    },
    {
      "cell_type": "code",
      "source": [
        "%who\n",
        "%whos\n"
      ],
      "metadata": {
        "id": "H7fFb_6SCiki"
      },
      "execution_count": null,
      "outputs": []
    },
    {
      "cell_type": "markdown",
      "source": [
        "### ---DELETING OBJECTS---\n",
        "\n",
        "The del( ) function deletes (Removes) objects\n",
        "\n",
        "\n"
      ],
      "metadata": {
        "id": "4SAT01vtClQI"
      }
    },
    {
      "cell_type": "code",
      "source": [
        "del(mydata)\n",
        "mydata"
      ],
      "metadata": {
        "id": "Ql5cY1U3CpwJ"
      },
      "execution_count": null,
      "outputs": []
    },
    {
      "cell_type": "code",
      "source": [
        "# You can remove a list using:\n",
        "# del list\n",
        "\n",
        "del id\n",
        "id"
      ],
      "metadata": {
        "id": "z7ZFMRMkCtOg"
      },
      "execution_count": null,
      "outputs": []
    },
    {
      "cell_type": "markdown",
      "source": [
        "### ---SAVING YOUR WORK---\n",
        "\n",
        "Save your progs & results with File: Save as...\n",
        "\n",
        "Export a dataframe in your workspace as csv: dataframe.to_csv('test.csv')\n",
        "```python\n",
        "mydata100.to_csv( r'C:\\Users\\XZHU8\\Documents\\test.csv')\n",
        "```\n",
        "\n",
        "Save a datafram as excel: dataframe.to_excel('test.xls', index=False)\n",
        "\n",
        "```python\n",
        "mydata100.to_excel('test.xls', index=False)\n",
        "```"
      ],
      "metadata": {
        "id": "_DzycrDjDGYx"
      }
    },
    {
      "cell_type": "markdown",
      "source": [
        "### --- QUESTIONS? ---\n",
        "\n",
        "\n",
        "### ---GOOD SOURCES OF PYTHON HELP---\n",
        "\n",
        "UT people get 15 hours per semester of\n",
        "free help in 540 Greve Hall:\n",
        "\n",
        "   HelpDesk: 974-9900\n",
        "\n",
        "   Walk-in Schedule:\n",
        "\n",
        "   http://oit.utk.edu/research/schedule\n",
        "\n",
        "\n",
        "Python & R cheat sheets: https://www.datacamp.com/community/data-science-cheatsheets?page=3\n",
        "\n",
        "R & SAS/SPSS/Stata:     http://www.r4stats.com\n",
        "\n",
        "Linkedin learning:      https://oit.utk.edu/training/online-training/lil/\n",
        "\n",
        "Stackoverflow:          https://stackoverflow.com/questions\n",
        "\n",
        "\n",
        "### ---In a New Browser Tab---\n",
        "\n",
        "https://workshop.utk.edu/feedback.php"
      ],
      "metadata": {
        "id": "d-tHk_P6DdwK"
      }
    }
  ]
}